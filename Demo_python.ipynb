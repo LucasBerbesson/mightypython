{
 "cells": [
  {
   "cell_type": "markdown",
   "metadata": {
    "deletable": true,
    "editable": true,
    "slideshow": {
     "slide_type": "slide"
    }
   },
   "source": [
    "## Mighty Python\n",
    "A list of python mini demos"
   ]
  },
  {
   "cell_type": "markdown",
   "metadata": {
    "deletable": true,
    "editable": true,
    "slideshow": {
     "slide_type": "slide"
    }
   },
   "source": [
    "## Python est simple..."
   ]
  },
  {
   "cell_type": "markdown",
   "metadata": {
    "deletable": true,
    "editable": true,
    "slideshow": {
     "slide_type": "skip"
    }
   },
   "source": [
    "Python est un langage simple et minimaliste.  \n",
    "C'est un langage de haut niveau.  \n",
    "Il fait abstraction des caractéristiques techniques du matériel utilisé pour exécuter le programme.  \n",
    "Pas de gestion de mémoire, de processeur, de registres ... juste du code fonctionnel !\n",
    "Un programme bien écrit se lit comme du pseudo-code anglais.  \n",
    "Son système d'indentation le rend très propre : pas de ; ni de {}...  \n",
    "Python est facile à apprendre, de plus en plus enseigné (lycée, prépa...)    \n",
    "La communauté pythonienne rédige d'excellentes documentations, claires et concises, comme Python !"
   ]
  },
  {
   "cell_type": "markdown",
   "metadata": {
    "deletable": true,
    "editable": true,
    "slideshow": {
     "slide_type": "slide"
    }
   },
   "source": [
    "## ...utilisé par beaucoup de monde\n",
    "Google, Nasa, Youtube, Dropbox, Reddit, Instagram, MIT ..."
   ]
  },
  {
   "cell_type": "markdown",
   "metadata": {
    "deletable": true,
    "editable": true,
    "slideshow": {
     "slide_type": "slide"
    }
   },
   "source": [
    "## ...gratuit et open source"
   ]
  },
  {
   "cell_type": "markdown",
   "metadata": {
    "deletable": true,
    "editable": true,
    "slideshow": {
     "slide_type": "skip"
    }
   },
   "source": [
    "Tout le monde peut avoir accès et contribuer à son code source et à ses librairies.  \n",
    "Permet de faire beaucoup de choses que certains logiciels payants ne proposent pas (Maple).  \n",
    "Python est un langage interpreté ce qui le rend très Portable : GNU/Linux, Windows, FreeBSD, Macintosh... Un même code source peut fonctionner exactement de la même manière sur toutes ces plateformes : l'interpréteur se charge de la compilation en fonction de l'OS. "
   ]
  },
  {
   "cell_type": "markdown",
   "metadata": {
    "deletable": true,
    "editable": true,
    "slideshow": {
     "slide_type": "slide"
    }
   },
   "source": [
    "## ...orienté objet...si on veut\n"
   ]
  },
  {
   "cell_type": "markdown",
   "metadata": {
    "deletable": true,
    "editable": true,
    "slideshow": {
     "slide_type": "skip"
    }
   },
   "source": [
    "Python permet de faire de la programmation fonctionnelle et objet.\n",
    "\n",
    "En Python, tout est un objet, et peut être manipulé en tant que tel.  \n",
    "Les fonctions, les classes, les chaînes et même les types sont des objets en Python: comme tout objet ils peuvent être passés comme arguments de fonction, et ils peuvent avoir des méthodes et propriétés.\n",
    "\n",
    "Cependant, contrairement à Java, Python n’impose pas la programmation orientée objet comme paradigme de programmation principal. Il est parfaitement viable pour un projet de Python de ne pas être orienté objet, à savoir de ne pas utiliser ou très peu de définitions de classes, d’héritage de classe, ou d’autres mécanismes qui sont spécifiques à la programmation orientée objet.\n",
    "\n",
    "La gestion par modules permet aux développeur d'encapsuler naturellement les couches d'abstractions de leur code.\n",
    "\n",
    "Les fonctions pures sont des blocs de construction plus efficaces que les classes et les objets pour certaines architectures parce qu’elles n’ont pas de contexte ou d’effets de bord.\n",
    "L’orientation objet est utile et même nécessaire dans de nombreux cas."
   ]
  },
  {
   "cell_type": "markdown",
   "metadata": {
    "deletable": true,
    "editable": true,
    "slideshow": {
     "slide_type": "slide"
    }
   },
   "source": [
    "## ...typé dynamiquement"
   ]
  },
  {
   "cell_type": "markdown",
   "metadata": {
    "deletable": true,
    "editable": true,
    "slideshow": {
     "slide_type": "skip"
    }
   },
   "source": [
    "En python les variables sont des \"tags\" pointant vers des objets. L'interpréteur se charge de deviner leur type.  \n",
    "Pour les variables comme pour beaucoup d'autres choses, on fait confiance aux programmeurs pour utiliser un nommage intelligent. \n",
    "\n"
   ]
  },
  {
   "cell_type": "code",
   "execution_count": null,
   "metadata": {
    "collapsed": true,
    "deletable": true,
    "editable": true,
    "slideshow": {
     "slide_type": "fragment"
    }
   },
   "outputs": [],
   "source": [
    "a = \"Hello world\"\n",
    "a = 3\n",
    "def a():\n",
    "    print(\"Finalement je suis une fonction\")"
   ]
  },
  {
   "cell_type": "markdown",
   "metadata": {
    "deletable": true,
    "editable": true,
    "slideshow": {
     "slide_type": "slide"
    }
   },
   "source": [
    "## ...en kit complet\n",
    "**Enormément de librairies standards** : Expression régulières, génération de doc, test unitaires, threading, database, CGI, FTP, EMail, XML, HTML, Cryptography, GUI ...\n",
    "\n",
    "**Encore plus de libraries open source** : Frameworks web, Text processing, Machine learning, analyse de données, Maths, API, Images, Son, Geo loc, e-commerce, Dataviz, authentification, scrap ..."
   ]
  },
  {
   "cell_type": "markdown",
   "metadata": {
    "deletable": true,
    "editable": true,
    "slideshow": {
     "slide_type": "slide"
    }
   },
   "source": [
    "## Petit tour d'horizon"
   ]
  },
  {
   "cell_type": "code",
   "execution_count": 1,
   "metadata": {
    "collapsed": false,
    "deletable": true,
    "editable": true,
    "slideshow": {
     "slide_type": "slide"
    }
   },
   "outputs": [
    {
     "name": "stdout",
     "output_type": "stream",
     "text": [
      "The Zen of Python, by Tim Peters\n",
      "\n",
      "Beautiful is better than ugly.\n",
      "Explicit is better than implicit.\n",
      "Simple is better than complex.\n",
      "Complex is better than complicated.\n",
      "Flat is better than nested.\n",
      "Sparse is better than dense.\n",
      "Readability counts.\n",
      "Special cases aren't special enough to break the rules.\n",
      "Although practicality beats purity.\n",
      "Errors should never pass silently.\n",
      "Unless explicitly silenced.\n",
      "In the face of ambiguity, refuse the temptation to guess.\n",
      "There should be one-- and preferably only one --obvious way to do it.\n",
      "Although that way may not be obvious at first unless you're Dutch.\n",
      "Now is better than never.\n",
      "Although never is often better than *right* now.\n",
      "If the implementation is hard to explain, it's a bad idea.\n",
      "If the implementation is easy to explain, it may be a good idea.\n",
      "Namespaces are one honking great idea -- let's do more of those!\n"
     ]
    }
   ],
   "source": [
    "import this"
   ]
  },
  {
   "cell_type": "markdown",
   "metadata": {
    "deletable": true,
    "editable": true,
    "slideshow": {
     "slide_type": "slide"
    }
   },
   "source": [
    "## Strings"
   ]
  },
  {
   "cell_type": "code",
   "execution_count": 2,
   "metadata": {
    "collapsed": false,
    "deletable": true,
    "editable": true,
    "slideshow": {
     "slide_type": "fragment"
    }
   },
   "outputs": [
    {
     "data": {
      "text/plain": [
       "'Hello my name is Lucas and I love Python'"
      ]
     },
     "execution_count": 2,
     "metadata": {},
     "output_type": "execute_result"
    }
   ],
   "source": [
    "# String format \n",
    "\"Hello my name is {} and I love {}\".format(\"Lucas\", \"Python\")"
   ]
  },
  {
   "cell_type": "code",
   "execution_count": 3,
   "metadata": {
    "collapsed": false,
    "deletable": true,
    "editable": true,
    "slideshow": {
     "slide_type": "subslide"
    }
   },
   "outputs": [
    {
     "data": {
      "text/plain": [
       "\"Hello my name is Lucas and I'm 26\""
      ]
     },
     "execution_count": 3,
     "metadata": {},
     "output_type": "execute_result"
    }
   ],
   "source": [
    "# Named string format\n",
    "\"Hello my name is {name} and I'm {age}\".format(name=\"Lucas\",age=26)"
   ]
  },
  {
   "cell_type": "code",
   "execution_count": 4,
   "metadata": {
    "collapsed": false,
    "deletable": true,
    "editable": true,
    "slideshow": {
     "slide_type": "subslide"
    }
   },
   "outputs": [
    {
     "data": {
      "text/plain": [
       "'1,234,567,890'"
      ]
     },
     "execution_count": 4,
     "metadata": {},
     "output_type": "execute_result"
    }
   ],
   "source": [
    "# String format mini-language\n",
    "'{:,}'.format(1234567890)"
   ]
  },
  {
   "cell_type": "code",
   "execution_count": 5,
   "metadata": {
    "collapsed": false,
    "deletable": true,
    "editable": true,
    "slideshow": {
     "slide_type": "subslide"
    }
   },
   "outputs": [
    {
     "name": "stdout",
     "output_type": "stream",
     "text": [
      "9\n",
      "a\n",
      "b\n",
      "c\n",
      "12th letter of the alphabet is : m\n"
     ]
    }
   ],
   "source": [
    "# Strings are iterable. So you can use iterable methods on them...\n",
    "print(len(\"DevStudio\"))\n",
    "for letter in \"abc\":\n",
    "    print(letter)\n",
    "print(\"12th letter of the alphabet is :\",\"abcdefghijklmnopqrstuvwxyz\"[12])"
   ]
  },
  {
   "cell_type": "code",
   "execution_count": 6,
   "metadata": {
    "collapsed": false,
    "deletable": true,
    "editable": true,
    "slideshow": {
     "slide_type": "subslide"
    }
   },
   "outputs": [
    {
     "data": {
      "text/plain": [
       "'Hello Hello Hello '"
      ]
     },
     "execution_count": 6,
     "metadata": {},
     "output_type": "execute_result"
    }
   ],
   "source": [
    "\"Hello \" * 3"
   ]
  },
  {
   "cell_type": "markdown",
   "metadata": {
    "deletable": true,
    "editable": true,
    "slideshow": {
     "slide_type": "slide"
    }
   },
   "source": [
    "## Lists\n",
    "Lists are the most versatile datatype available in Python.  \n",
    "Lists might contain items of different types, but usually the items all have the same type."
   ]
  },
  {
   "cell_type": "code",
   "execution_count": 7,
   "metadata": {
    "collapsed": false,
    "deletable": true,
    "editable": true,
    "slideshow": {
     "slide_type": "fragment"
    }
   },
   "outputs": [
    {
     "name": "stdout",
     "output_type": "stream",
     "text": [
      "blue\n",
      "green\n",
      "purple\n",
      "pink\n"
     ]
    }
   ],
   "source": [
    "colors = [\"blue\",\"yellow\",\"green\"]\n",
    "colors.append(\"purple\")\n",
    "colors = colors + [\"pink\"]\n",
    "colors.remove(\"yellow\")\n",
    "\n",
    "for color in colors:\n",
    "    print(color)"
   ]
  },
  {
   "cell_type": "code",
   "execution_count": 13,
   "metadata": {
    "collapsed": false,
    "deletable": true,
    "editable": true,
    "slideshow": {
     "slide_type": "subslide"
    }
   },
   "outputs": [
    {
     "name": "stdout",
     "output_type": "stream",
     "text": [
      "True\n",
      "pink is color number 3/4\n"
     ]
    },
    {
     "data": {
      "text/plain": [
       "'pink'"
      ]
     },
     "execution_count": 13,
     "metadata": {},
     "output_type": "execute_result"
    }
   ],
   "source": [
    "print(\"green\" in colors)\n",
    "print(\"pink is color number {}/{}\".format(colors.index('pink'),len(colors)))\n",
    "colors[-1] "
   ]
  },
  {
   "cell_type": "code",
   "execution_count": 15,
   "metadata": {
    "collapsed": false,
    "deletable": true,
    "editable": true,
    "slideshow": {
     "slide_type": "subslide"
    }
   },
   "outputs": [
    {
     "name": "stdout",
     "output_type": "stream",
     "text": [
      "['l', 'r', 'u', 'i']\n"
     ]
    }
   ],
   "source": [
    "# List comprehensions are very powerful\n",
    "COLORS = [color[1] for color in colors]\n",
    "print(COLORS)"
   ]
  },
  {
   "cell_type": "code",
   "execution_count": 18,
   "metadata": {
    "collapsed": false,
    "deletable": true,
    "editable": true,
    "slideshow": {
     "slide_type": "subslide"
    }
   },
   "outputs": [
    {
     "name": "stdout",
     "output_type": "stream",
     "text": [
      "0 d\n",
      "1 e\n",
      "2 v\n",
      "3 s\n",
      "4 t\n",
      "5 u\n",
      "6 d\n",
      "7 i\n",
      "8 o\n"
     ]
    }
   ],
   "source": [
    "# enumerate works on any object that supports iteration\n",
    "count = 0\n",
    "for i,color in enumerate('devstudio'):\n",
    "    print(i,color)"
   ]
  },
  {
   "cell_type": "code",
   "execution_count": 19,
   "metadata": {
    "collapsed": false,
    "deletable": true,
    "editable": true,
    "slideshow": {
     "slide_type": "subslide"
    }
   },
   "outputs": [
    {
     "name": "stdout",
     "output_type": "stream",
     "text": [
      "blue\n",
      "pink\n",
      "green\n",
      "purple\n",
      "--------\n",
      "banana\n",
      "apple\n",
      "cherry\n"
     ]
    }
   ],
   "source": [
    "# key specifies a function of one argument that is used to extract a comparison key from each list element\n",
    "for color in sorted(colors, key=len):\n",
    "    print(color)  \n",
    "print(\"--------\")\n",
    "for color in sorted([\"apple\",\"banana\",\"cherry\"],key=lambda x:x[-1]):\n",
    "    print(color)"
   ]
  },
  {
   "cell_type": "code",
   "execution_count": 22,
   "metadata": {
    "collapsed": false,
    "deletable": true,
    "editable": true,
    "slideshow": {
     "slide_type": "subslide"
    }
   },
   "outputs": [
    {
     "name": "stdout",
     "output_type": "stream",
     "text": [
      "['Bonjour', 'je', 'fais', 'du', 'Python']\n",
      "B$o$n$j$o$u$r$,$j$e$,$f$a$i$s$,$d$u$,$P$y$t$h$o$n\n"
     ]
    }
   ],
   "source": [
    "hello = \"Bonjour,je,fais,du,Python\"\n",
    "hello2 = hello.split(\",\")\n",
    "hello3 = \"$\".join(hello)\n",
    "print(hello2)\n",
    "print(hello3)\n"
   ]
  },
  {
   "cell_type": "code",
   "execution_count": 24,
   "metadata": {
    "collapsed": false,
    "deletable": true,
    "editable": true,
    "slideshow": {
     "slide_type": "subslide"
    }
   },
   "outputs": [
    {
     "name": "stdout",
     "output_type": "stream",
     "text": [
      "sky is blue\n",
      "sun is yellow\n",
      "tree is green\n"
     ]
    }
   ],
   "source": [
    "# Zip makes an iterator that aggregates elements from each of the iterables.\n",
    "names = [\"sky\", \"sun\", \"tree\"]\n",
    "colors = [\"blue\",\"yellow\",\"green\", \"white\"]\n",
    "for name, color in zip(names, colors):\n",
    "    print(name,\"is\",color)  "
   ]
  },
  {
   "cell_type": "markdown",
   "metadata": {
    "deletable": true,
    "editable": true,
    "slideshow": {
     "slide_type": "slide"
    }
   },
   "source": [
    "## Tuples\n",
    "A tuple is an immutable list.  \n",
    "Tuples are faster and safer than lists. \n",
    "If you’re defining a constant set of values and all you’re ever going to do with it\n",
    "is iterate through it, use a tuple instead of a list"
   ]
  },
  {
   "cell_type": "code",
   "execution_count": 25,
   "metadata": {
    "collapsed": false,
    "deletable": true,
    "editable": true,
    "slideshow": {
     "slide_type": "subslide"
    }
   },
   "outputs": [
    {
     "ename": "AttributeError",
     "evalue": "'tuple' object has no attribute 'remove'",
     "output_type": "error",
     "traceback": [
      "\u001b[0;31m---------------------------------------------------------------------------\u001b[0m",
      "\u001b[0;31mAttributeError\u001b[0m                            Traceback (most recent call last)",
      "\u001b[0;32m<ipython-input-25-a531d5a9385b>\u001b[0m in \u001b[0;36m<module>\u001b[0;34m()\u001b[0m\n\u001b[1;32m      1\u001b[0m \u001b[0msites_a_visiter\u001b[0m \u001b[0;34m=\u001b[0m \u001b[0;34m(\u001b[0m\u001b[0;34m\"google.com\"\u001b[0m\u001b[0;34m,\u001b[0m \u001b[0;34m\"stackoverflow.com\"\u001b[0m\u001b[0;34m,\u001b[0m\u001b[0;34m\"lafabriquediy.com\"\u001b[0m\u001b[0;34m)\u001b[0m\u001b[0;34m\u001b[0m\u001b[0m\n\u001b[0;32m----> 2\u001b[0;31m \u001b[0msites_a_visiter\u001b[0m\u001b[0;34m.\u001b[0m\u001b[0mremove\u001b[0m\u001b[0;34m(\u001b[0m\u001b[0;34m\"google.com\"\u001b[0m\u001b[0;34m)\u001b[0m\u001b[0;34m\u001b[0m\u001b[0m\n\u001b[0m",
      "\u001b[0;31mAttributeError\u001b[0m: 'tuple' object has no attribute 'remove'"
     ]
    }
   ],
   "source": [
    "sites_a_visiter = (\"google.com\", \"stackoverflow.com\",\"lafabriquediy.com\")\n",
    "sites_a_visiter.remove(\"google.com\")"
   ]
  },
  {
   "cell_type": "markdown",
   "metadata": {
    "deletable": true,
    "editable": true,
    "slideshow": {
     "slide_type": "slide"
    }
   },
   "source": [
    "## Dicts\n",
    "A dictionary is an unordered set of key-value pairs."
   ]
  },
  {
   "cell_type": "code",
   "execution_count": 32,
   "metadata": {
    "collapsed": false,
    "deletable": true,
    "editable": true,
    "slideshow": {
     "slide_type": "fragment"
    }
   },
   "outputs": [
    {
     "name": "stdout",
     "output_type": "stream",
     "text": [
      "oups\n",
      "sun\n",
      "tree\n"
     ]
    }
   ],
   "source": [
    "d = {\"sky\":\"blue\",\"sun\":\"yellow\",\"tree\":\"green\"}\n",
    "del d[\"sky\"]\n",
    "try:\n",
    "    d[\"sky\"]\n",
    "except:\n",
    "    print(\"oups\")\n",
    "d.get(\"house\",\"black\")\n",
    "for key in d:\n",
    "    print(key)"
   ]
  },
  {
   "cell_type": "code",
   "execution_count": null,
   "metadata": {
    "collapsed": false,
    "deletable": true,
    "editable": true,
    "slideshow": {
     "slide_type": "fragment"
    }
   },
   "outputs": [],
   "source": [
    " len(d) "
   ]
  },
  {
   "cell_type": "code",
   "execution_count": 33,
   "metadata": {
    "collapsed": false,
    "deletable": true,
    "editable": true,
    "slideshow": {
     "slide_type": "subslide"
    }
   },
   "outputs": [
    {
     "name": "stdout",
     "output_type": "stream",
     "text": [
      "yellow\n",
      "green\n"
     ]
    }
   ],
   "source": [
    "for key in d:\n",
    "    print(d[key])"
   ]
  },
  {
   "cell_type": "markdown",
   "metadata": {
    "deletable": true,
    "editable": true,
    "slideshow": {
     "slide_type": "slide"
    }
   },
   "source": [
    "## Sets\n",
    "A set is an unordered “bag” of unique values."
   ]
  },
  {
   "cell_type": "code",
   "execution_count": 36,
   "metadata": {
    "collapsed": false,
    "deletable": true,
    "editable": true,
    "slideshow": {
     "slide_type": "fragment"
    }
   },
   "outputs": [
    {
     "name": "stdout",
     "output_type": "stream",
     "text": [
      "{'pomme', 'banane', 'orange'}\n"
     ]
    }
   ],
   "source": [
    "panier = ('pomme', 'orange', 'pomme', 'banane', 'orange', 'banane')\n",
    "panier = set(panier)\n",
    "panier.add(\"pomme\")\n",
    "print(panier)"
   ]
  },
  {
   "cell_type": "code",
   "execution_count": 37,
   "metadata": {
    "collapsed": false,
    "deletable": true,
    "editable": true,
    "slideshow": {
     "slide_type": "fragment"
    }
   },
   "outputs": [
    {
     "data": {
      "text/plain": [
       "{4, 30, 51, 76, 127, 195}"
      ]
     },
     "execution_count": 37,
     "metadata": {},
     "output_type": "execute_result"
    }
   ],
   "source": [
    "a_set = {2, 4, 5, 9, 12, 21, 30, 51, 76, 127, 195}\n",
    "b_set = {1, 2, 3, 5, 6, 8, 9, 12, 15, 17, 18, 21}\n",
    "# New set with elements common to the set and all others.\n",
    "a_set.intersection(b_set) \n",
    "# new set with elements in the set that are not in the others.\n",
    "a_set.difference(b_set) "
   ]
  },
  {
   "cell_type": "markdown",
   "metadata": {
    "deletable": true,
    "editable": true,
    "slideshow": {
     "slide_type": "slide"
    }
   },
   "source": [
    "## Classes"
   ]
  },
  {
   "cell_type": "code",
   "execution_count": 41,
   "metadata": {
    "collapsed": false,
    "deletable": true,
    "editable": true,
    "slideshow": {
     "slide_type": "subslide"
    }
   },
   "outputs": [
    {
     "data": {
      "text/plain": [
       "['__add__',\n",
       " '__class__',\n",
       " '__delattr__',\n",
       " '__dict__',\n",
       " '__dir__',\n",
       " '__doc__',\n",
       " '__eq__',\n",
       " '__format__',\n",
       " '__ge__',\n",
       " '__getattribute__',\n",
       " '__gt__',\n",
       " '__hash__',\n",
       " '__init__',\n",
       " '__le__',\n",
       " '__lt__',\n",
       " '__module__',\n",
       " '__ne__',\n",
       " '__new__',\n",
       " '__reduce__',\n",
       " '__reduce_ex__',\n",
       " '__repr__',\n",
       " '__setattr__',\n",
       " '__sizeof__',\n",
       " '__str__',\n",
       " '__subclasshook__',\n",
       " '__weakref__',\n",
       " 'module']"
      ]
     },
     "execution_count": 41,
     "metadata": {},
     "output_type": "execute_result"
    }
   ],
   "source": [
    "import math\n",
    "class Complex:\n",
    "    \"\"\"Classe représentant un nombre complexe\"\"\"\n",
    "    def __init__(self, realpart, imagpart):\n",
    "        \"\"\"Constructeur de notre classe\"\"\"\n",
    "        self.r = realpart\n",
    "        self.i = imagpart\n",
    "    def __add__(self, other):\n",
    "        \"Méthode spéciale pour réutiliser le + de python\"\n",
    "        return Complex(self.r + other.i,self.r + other.i)\n",
    "    \n",
    "    def __repr__(self):\n",
    "        \"\"\"Représentation de notre objet par l'interpréteur\"\"\"\n",
    "        return \"{} + i{}\".format(self.r,self.i)\n",
    "    \n",
    "    @property\n",
    "    def module(self):\n",
    "        \"\"\"Affiche le module du nombre complexe\"\"\"\n",
    "        return (math.sqrt(self.r**2+self.i**2))\n",
    "\n",
    "x = Complex(3.0, -4.5)\n",
    "y = Complex(1.0, 1.0)\n",
    "z = x+y\n",
    "y.module\n",
    "y\n",
    "dir(Complex)"
   ]
  },
  {
   "cell_type": "code",
   "execution_count": 40,
   "metadata": {
    "collapsed": false,
    "deletable": true,
    "editable": true
   },
   "outputs": [
    {
     "name": "stdout",
     "output_type": "stream",
     "text": [
      "True\n"
     ]
    },
    {
     "data": {
      "text/plain": [
       "{'contenu': ['banane', 'pomme']}"
      ]
     },
     "execution_count": 40,
     "metadata": {},
     "output_type": "execute_result"
    }
   ],
   "source": [
    "# Exemple de conteneur\n",
    "class Panier:\n",
    "    nbpanier = 0\n",
    "    def __init__(self, value=()): # Émulation du constructeur de list\n",
    "        self.contenu = [element for element in value.split(',')]\n",
    "        Panier.nbpanier +=1\n",
    "    def __len__(self): # Sera utile pour les tests\n",
    "        return len(self.contenu)\n",
    "    def __getitem__(self, key):\n",
    "        return self.contenu[key]\n",
    "    def __setitem__(self, key, value):\n",
    "        self.contenu[key] = value\n",
    "    def __delitem__(self, key):\n",
    "        del self.contenu[key]\n",
    "    def __contains__(self, value):\n",
    "        return value in self.contenu\n",
    "\n",
    "monpanier = Panier(\"banane,pomme\")\n",
    "tonpanier = Panier(\"abricot,fraise\")\n",
    "\n",
    "len(monpanier)\n",
    "monpanier[0]\n",
    "print(\"banane\" in monpanier)\n",
    "Panier.nbpanier\n",
    "dir(Panier)\n",
    "monpanier.__dict__\n"
   ]
  },
  {
   "cell_type": "markdown",
   "metadata": {
    "deletable": true,
    "editable": true,
    "slideshow": {
     "slide_type": "slide"
    }
   },
   "source": [
    "## Flow control\n",
    "If, else, while, try, except ..."
   ]
  },
  {
   "cell_type": "code",
   "execution_count": 42,
   "metadata": {
    "collapsed": false,
    "deletable": true,
    "editable": true,
    "slideshow": {
     "slide_type": "subslide"
    }
   },
   "outputs": [
    {
     "name": "stdout",
     "output_type": "stream",
     "text": [
      "division by zero\n"
     ]
    }
   ],
   "source": [
    "try:\n",
    "    3/0\n",
    "except Exception as e:\n",
    "    print(e)"
   ]
  },
  {
   "cell_type": "code",
   "execution_count": 46,
   "metadata": {
    "collapsed": false,
    "deletable": true,
    "editable": true,
    "slideshow": {
     "slide_type": "subslide"
    }
   },
   "outputs": [
    {
     "ename": "IndentationError",
     "evalue": "expected an indented block (<ipython-input-46-1cd5ddc8a8e9>, line 6)",
     "output_type": "error",
     "traceback": [
      "\u001b[0;36m  File \u001b[0;32m\"<ipython-input-46-1cd5ddc8a8e9>\"\u001b[0;36m, line \u001b[0;32m6\u001b[0m\n\u001b[0;31m    print('No, it is a little higher than that')\u001b[0m\n\u001b[0m        ^\u001b[0m\n\u001b[0;31mIndentationError\u001b[0m\u001b[0;31m:\u001b[0m expected an indented block\n"
     ]
    }
   ],
   "source": [
    "number = 23\n",
    "guess = 0\n",
    "while guess is not number:\n",
    "    guess = int(input('Enter an integer : '))\n",
    "    if guess < number:\n",
    "        print('No, it is a little higher than that')\n",
    "    else:\n",
    "        print('No, it is a little lower than that')\n",
    "\n",
    "print('Congratulations, you guessed it.')\n",
    "print('(but you do not win any prizes!)')"
   ]
  },
  {
   "cell_type": "markdown",
   "metadata": {
    "deletable": true,
    "editable": true,
    "slideshow": {
     "slide_type": "slide"
    }
   },
   "source": [
    "## Decorateurs\n",
    "Un moyen simple de modifier le comportement « par défaut » de fonctions."
   ]
  },
  {
   "cell_type": "code",
   "execution_count": 45,
   "metadata": {
    "collapsed": false,
    "deletable": true,
    "editable": true,
    "slideshow": {
     "slide_type": "subslide"
    }
   },
   "outputs": [
    {
     "data": {
      "text/plain": [
       "9227465"
      ]
     },
     "execution_count": 45,
     "metadata": {},
     "output_type": "execute_result"
    }
   ],
   "source": [
    "def cache(function):\n",
    "  memo = {}\n",
    "  def wrapper(*args):\n",
    "    if args in memo:\n",
    "      return memo[args]\n",
    "    else:\n",
    "      rv = function(*args)\n",
    "      memo[args] = rv\n",
    "      return rv\n",
    "  return wrapper\n",
    "\n",
    "@cache\n",
    "def fibonacci(n):\n",
    "  if n < 2: return n\n",
    "  return fibonacci(n - 1) + fibonacci(n - 2)\n",
    "\n",
    "\n",
    "fibonacci(35)"
   ]
  },
  {
   "cell_type": "markdown",
   "metadata": {
    "deletable": true,
    "editable": true,
    "slideshow": {
     "slide_type": "slide"
    }
   },
   "source": [
    "# Les merveilles de la bibliothèque standard"
   ]
  },
  {
   "cell_type": "markdown",
   "metadata": {
    "deletable": true,
    "editable": true,
    "slideshow": {
     "slide_type": "slide"
    }
   },
   "source": [
    "## Collections\n",
    "Specialized container datatypes providing alternatives to Python’s general purpose built-in containers, dict, list, set, and tuple.  \n",
    "[Documentation](https://docs.python.org/3.6/library/collections.html)"
   ]
  },
  {
   "cell_type": "code",
   "execution_count": 47,
   "metadata": {
    "collapsed": false,
    "deletable": true,
    "editable": true,
    "slideshow": {
     "slide_type": "subslide"
    }
   },
   "outputs": [
    {
     "name": "stdout",
     "output_type": "stream",
     "text": [
      "Counter({'cherry': 3, 'banana': 2, 'apple': 2, 'orange': 1})\n",
      "[('cherry', 3), ('banana', 2)]\n"
     ]
    }
   ],
   "source": [
    "import collections\n",
    "count = collections.Counter([\"banana\",\"apple\",\"apple\",\"orange\",\"cherry\",\"cherry\",\"banana\",\"cherry\"])\n",
    "print(count)\n",
    "print(count.most_common(2))\n"
   ]
  },
  {
   "cell_type": "code",
   "execution_count": 48,
   "metadata": {
    "collapsed": false,
    "deletable": true,
    "editable": true,
    "slideshow": {
     "slide_type": "subslide"
    }
   },
   "outputs": [
    {
     "name": "stdout",
     "output_type": "stream",
     "text": [
      "OrderedDict([('pear', 1), ('orange', 2), ('banana', 3), ('apple', 4)])\n"
     ]
    }
   ],
   "source": [
    "d = {'banana': 3, 'apple': 4, 'pear': 1, 'orange': 2}\n",
    "d = collections.OrderedDict(sorted(d.items(), key=lambda t: t[1]))\n",
    "print(d)"
   ]
  },
  {
   "cell_type": "markdown",
   "metadata": {
    "deletable": true,
    "editable": true,
    "slideshow": {
     "slide_type": "slide"
    }
   },
   "source": [
    "## Regex\n",
    "Les expressions régulières sont un puissant moyen de rechercher et d'isoler des expressions d'une chaîne de caractères."
   ]
  },
  {
   "cell_type": "code",
   "execution_count": 49,
   "metadata": {
    "collapsed": false,
    "deletable": true,
    "editable": true,
    "slideshow": {
     "slide_type": "fragment"
    }
   },
   "outputs": [
    {
     "data": {
      "text/plain": [
       "['lucasberbesson@fabdev.fr']"
      ]
     },
     "execution_count": 49,
     "metadata": {},
     "output_type": "execute_result"
    }
   ],
   "source": [
    "import re\n",
    "text = \"Bonjour je m'appelle Lucas et mon numéro de téléphone lucasberbesson@fabdev.fr est le \"\n",
    "m = re.findall(r'[\\w\\.-]+@[\\w\\.-]+', text)\n",
    "m"
   ]
  },
  {
   "cell_type": "markdown",
   "metadata": {
    "deletable": true,
    "editable": true,
    "slideshow": {
     "slide_type": "slide"
    }
   },
   "source": [
    "## Time & Datetime\n",
    "Contrôler le temps. [documentation](https://docs.python.org/3/library/datetime.html)"
   ]
  },
  {
   "cell_type": "code",
   "execution_count": 51,
   "metadata": {
    "collapsed": false,
    "deletable": true,
    "editable": true,
    "slideshow": {
     "slide_type": "subslide"
    }
   },
   "outputs": [
    {
     "name": "stdout",
     "output_type": "stream",
     "text": [
      "2017 4 11 35\n",
      "Mercredi 26 avril 2017 11:35:58 \n"
     ]
    }
   ],
   "source": [
    "# datetime(année, mois, jour, heure, minute, seconde, microseconde, fuseau horaire)\n",
    "import locale\n",
    "locale.setlocale(locale.LC_TIME, \"fr_FR\")\n",
    "\n",
    "from datetime import datetime\n",
    "maintenant = datetime.now()\n",
    "print(maintenant.year, maintenant.month, maintenant.hour, maintenant.minute)\n",
    "print('{:%A %d %B %Y %H:%M:%S }'.format(maintenant))\n"
   ]
  },
  {
   "cell_type": "code",
   "execution_count": 52,
   "metadata": {
    "collapsed": false,
    "deletable": true,
    "editable": true,
    "slideshow": {
     "slide_type": "subslide"
    }
   },
   "outputs": [
    {
     "name": "stdout",
     "output_type": "stream",
     "text": [
      "2017-10-13 11:36:09.459610\n"
     ]
    }
   ],
   "source": [
    "# Find next friday the 13th\n",
    "import datetime\n",
    "today = datetime.datetime.today()\n",
    "while not (today.day == 13 and today.weekday() == 4):\n",
    "    today += datetime.timedelta(days=1)\n",
    "print(today)"
   ]
  },
  {
   "cell_type": "markdown",
   "metadata": {
    "deletable": true,
    "editable": true,
    "slideshow": {
     "slide_type": "slide"
    }
   },
   "source": [
    "## Random\n",
    "Générer de l'aléatoire. [Documentation](https://docs.python.org/3.6/library/random.html)\n"
   ]
  },
  {
   "cell_type": "code",
   "execution_count": 53,
   "metadata": {
    "collapsed": false,
    "deletable": true,
    "editable": true,
    "slideshow": {
     "slide_type": "fragment"
    }
   },
   "outputs": [
    {
     "name": "stdout",
     "output_type": "stream",
     "text": [
      "11\n",
      "ça\n",
      "['ça', 'Bonjour', 'comment', 'va']\n"
     ]
    }
   ],
   "source": [
    "import random\n",
    "#un nombre aléatoire entre \n",
    "entier = random.randint(1, 100)\n",
    "print(entier)\n",
    "cadavre_exquis = 'Bonjour comment ça va'.split()\n",
    "random_word = random.choice(cadavre_exquis)\n",
    "random.shuffle(cadavre_exquis)\n",
    "print(random_word)\n",
    "print(cadavre_exquis)"
   ]
  },
  {
   "cell_type": "markdown",
   "metadata": {
    "deletable": true,
    "editable": true,
    "slideshow": {
     "slide_type": "slide"
    }
   },
   "source": [
    "## Open\n",
    "Open file and return a corresponding file object. If the file cannot be opened, an OSError is raised."
   ]
  },
  {
   "cell_type": "code",
   "execution_count": 54,
   "metadata": {
    "collapsed": false,
    "deletable": true,
    "editable": true,
    "slideshow": {
     "slide_type": "fragment"
    }
   },
   "outputs": [
    {
     "name": "stdout",
     "output_type": "stream",
     "text": [
      "Hello world\n",
      "\n"
     ]
    }
   ],
   "source": [
    "with open('./data/demo.txt') as f:\n",
    "    print(f.read())"
   ]
  },
  {
   "cell_type": "markdown",
   "metadata": {
    "deletable": true,
    "editable": true,
    "slideshow": {
     "slide_type": "slide"
    }
   },
   "source": [
    "## Logs\n",
    "This module defines functions and classes which implement a flexible event logging system for applications and libraries.  \n",
    "Better than prints for you application events. \n",
    "[Documentation](https://docs.python.org/3/library/logging.html)"
   ]
  },
  {
   "cell_type": "code",
   "execution_count": 55,
   "metadata": {
    "collapsed": false,
    "deletable": true,
    "editable": true,
    "slideshow": {
     "slide_type": "fragment"
    }
   },
   "outputs": [],
   "source": [
    "import logging\n",
    "logging.basicConfig(format='%(asctime)s %(message)s',filename='./logs/example.log',level=logging.DEBUG)\n",
    "logging.debug('This message should go to the log file')\n",
    "logging.info('So should this')\n",
    "logging.warning('And this, too')"
   ]
  },
  {
   "cell_type": "markdown",
   "metadata": {
    "deletable": true,
    "editable": true,
    "slideshow": {
     "slide_type": "slide"
    }
   },
   "source": [
    "## OS\n",
    "This module provides a portable way of using operating system dependent functionality.  \n",
    "If you just want to read or write a file see open(), if you want to manipulate paths, see the os.path module, and if you want to read all the lines in all the files on the command line see the fileinput module.   \n",
    "For creating temporary files and directories see the tempfile module, and for high-level file and directory handling see the shutil module. [Documentation](https://docs.python.org/3.6/library/os.html)"
   ]
  },
  {
   "cell_type": "code",
   "execution_count": 56,
   "metadata": {
    "collapsed": false,
    "deletable": true,
    "editable": true,
    "slideshow": {
     "slide_type": "subslide"
    }
   },
   "outputs": [
    {
     "name": "stdout",
     "output_type": "stream",
     "text": [
      ".DS_Store --> .DS_Store\n",
      ".git --> .git\n",
      ".gitignore --> .gitignore\n",
      ".ipynb_checkpoints --> .ipynb_checkpoints\n",
      "coucou coucou.txt --> coucou_coucou.txt\n",
      "data --> data\n",
      "Demo_librairies.ipynb --> Demo_librairies.ipynb\n",
      "Demo_python.ipynb --> Demo_python.ipynb\n",
      "docs --> docs\n",
      "example.db --> example.db\n",
      "Improve_python.ipynb --> Improve_python.ipynb\n",
      "logs --> logs\n",
      "passgen.py --> passgen.py\n",
      "Play.ipynb --> Play.ipynb\n",
      "README.md --> README.md\n",
      "requests --> requests\n",
      "requirements.txt --> requirements.txt\n",
      "templates --> templates\n",
      "tests --> tests\n"
     ]
    }
   ],
   "source": [
    "# Remplacer récursivement tous les \" \" par des \"_\" dans le dossier courant\n",
    "import os\n",
    "before = os.listdir(\".\")\n",
    "for path, folders, files in os.walk(\".\"):\n",
    "    for file in files:\n",
    "        os.rename(os.path.join(path,file), os.path.join(path, file.replace(' ', '_')))\n",
    "    for folder in folders:\n",
    "        new_name = folder.replace(' ', '_')\n",
    "        os.rename(os.path.join(path, folder), os.path.join(path, new_name))\n",
    "\n",
    "after = os.listdir(\".\")\n",
    "for before,after in zip(before,after):\n",
    "    print(before,'-->',after)"
   ]
  },
  {
   "cell_type": "markdown",
   "metadata": {
    "deletable": true,
    "editable": true,
    "slideshow": {
     "slide_type": "slide"
    }
   },
   "source": [
    "## JSON\n",
    "Easy to use JSON API.  [Documentation](https://docs.python.org/3.6/library/json.html)"
   ]
  },
  {
   "cell_type": "code",
   "execution_count": 57,
   "metadata": {
    "collapsed": false,
    "deletable": true,
    "editable": true,
    "slideshow": {
     "slide_type": "fragment"
    }
   },
   "outputs": [
    {
     "name": "stdout",
     "output_type": "stream",
     "text": [
      "{\n",
      "    \"4\": 5,\n",
      "    \"6\": 7\n",
      "}\n"
     ]
    }
   ],
   "source": [
    "\n",
    "import json\n",
    "# Json to string\n",
    "print(json.dumps({'4': 5, '6': 7}, sort_keys=True, indent=4))"
   ]
  },
  {
   "cell_type": "code",
   "execution_count": 58,
   "metadata": {
    "collapsed": false,
    "deletable": true,
    "editable": true,
    "slideshow": {
     "slide_type": "subslide"
    }
   },
   "outputs": [
    {
     "name": "stdout",
     "output_type": "stream",
     "text": [
      "Guido\n"
     ]
    }
   ],
   "source": [
    "json_string = '{\"first_name\": \"Guido\", \"last_name\":\"Rossum\"}'\n",
    "# String to json\n",
    "parsed_json = json.loads(json_string)\n",
    "print(parsed_json['first_name'])\n"
   ]
  },
  {
   "cell_type": "markdown",
   "metadata": {
    "deletable": true,
    "editable": true,
    "slideshow": {
     "slide_type": "slide"
    }
   },
   "source": [
    "## CSV\n",
    "The csv module implements classes to read and write tabular data in CSV format. \n",
    "[Documentation](https://docs.python.org/3/library/csv.html)"
   ]
  },
  {
   "cell_type": "code",
   "execution_count": 60,
   "metadata": {
    "collapsed": false,
    "deletable": true,
    "editable": true,
    "slideshow": {
     "slide_type": "subslide"
    }
   },
   "outputs": [
    {
     "name": "stdout",
     "output_type": "stream",
     "text": [
      "['Name', 'Quantity']\n",
      "['Bananas', '3']\n",
      "['Oranges', '4']\n",
      "['Apples', '5']\n"
     ]
    }
   ],
   "source": [
    "import csv\n",
    " \n",
    "# write file\n",
    "with open('./data/basket.csv', 'w+') as csvfile:\n",
    "    filewriter = csv.writer(csvfile, delimiter=',')\n",
    "    filewriter.writerow(['Name', 'Quantity'])\n",
    "    filewriter.writerow(['Bananas', 3])\n",
    "    filewriter.writerow(['Oranges', 4])\n",
    "    filewriter.writerow(['Apples', 5])\n",
    "    \n",
    "    \n",
    "# read file\n",
    "with open('./data/basket.csv', 'r+') as f:\n",
    "    reader = csv.reader(f)\n",
    "    # read file row by row\n",
    "    for row in reader:\n",
    "        print(row)"
   ]
  },
  {
   "cell_type": "markdown",
   "metadata": {
    "deletable": true,
    "editable": true,
    "slideshow": {
     "slide_type": "slide"
    }
   },
   "source": [
    "## Math\n",
    "For Maths ..."
   ]
  },
  {
   "cell_type": "code",
   "execution_count": 62,
   "metadata": {
    "collapsed": false,
    "deletable": true,
    "editable": true,
    "slideshow": {
     "slide_type": "fragment"
    }
   },
   "outputs": [
    {
     "name": "stdout",
     "output_type": "stream",
     "text": [
      "-1.0\n",
      "5.0\n"
     ]
    }
   ],
   "source": [
    "import math\n",
    "print(math.cos(math.pi))\n",
    "print(math.sqrt(25))"
   ]
  },
  {
   "cell_type": "markdown",
   "metadata": {
    "deletable": true,
    "editable": true,
    "slideshow": {
     "slide_type": "slide"
    }
   },
   "source": [
    "## smtplib\n",
    "The smtplib module defines an SMTP client session object that can be used to send mail to any Internet machine with an SMTP or ESMTP listener daemon.  \n",
    "[Documentation](https://docs.python.org/3.6/library/smtplib.html)"
   ]
  },
  {
   "cell_type": "raw",
   "metadata": {
    "collapsed": true,
    "deletable": true,
    "editable": true,
    "slideshow": {
     "slide_type": "subslide"
    }
   },
   "source": [
    "import smtplib\n",
    " \n",
    "server = smtplib.SMTP('smtp.gmail.com', 587)\n",
    "server.starttls()\n",
    "server.login(\"YOUR EMAIL ADDRESS\", \"YOUR PASSWORD\")\n",
    " \n",
    "msg = \"YOUR MESSAGE!\"\n",
    "server.sendmail(\"YOUR EMAIL ADDRESS\", \"THE EMAIL ADDRESS TO SEND TO\", msg)\n",
    "server.quit()"
   ]
  },
  {
   "cell_type": "markdown",
   "metadata": {
    "deletable": true,
    "editable": true,
    "slideshow": {
     "slide_type": "slide"
    }
   },
   "source": [
    "## sqlite3 \n",
    "SQLite is a C library that provides a lightweight disk-based database that doesn’t require a separate server process and allows accessing the database using a nonstandard variant of the SQL query language. [Documentation](https://docs.python.org/3.6/library/sqlite3.html)"
   ]
  },
  {
   "cell_type": "code",
   "execution_count": 64,
   "metadata": {
    "collapsed": false,
    "deletable": true,
    "editable": true,
    "slideshow": {
     "slide_type": "subslide"
    }
   },
   "outputs": [],
   "source": [
    "import sqlite3\n",
    "conn = sqlite3.connect('example.db')\n",
    "c = conn.cursor()\n",
    "# Create table\n",
    "try:\n",
    "    c.execute('''CREATE TABLE stocks\n",
    "                 (date text, trans text, symbol text,qty real, price real)''')\n",
    "    # Insert a row of data\n",
    "    c.execute(\"INSERT INTO stocks VALUES ('2017-04-26','BUY','BANANA', 100,35.14)\")\n",
    "except:\n",
    "    pass\n",
    "# Larger example that inserts many records at a time\n",
    "purchases = [('2006-03-28', 'BUY', 'APPLE', 1000, 45.00),\n",
    "             ('2006-04-05', 'BUY', 'ORANGE', 1000, 72.00),\n",
    "             ('2006-04-06', 'SELL', 'CHERRY', 500, 53.00),\n",
    "            ]\n",
    "c.executemany('INSERT INTO stocks VALUES (?,?,?,?,?)', purchases)\n",
    "# Save (commit) the changes\n",
    "conn.commit()\n",
    "# We can also close the connection if we are done with it.\n",
    "# Just be sure any changes have been committed or they will be lost.\n",
    "conn.close()"
   ]
  },
  {
   "cell_type": "code",
   "execution_count": 65,
   "metadata": {
    "collapsed": false,
    "deletable": true,
    "editable": true,
    "slideshow": {
     "slide_type": "subslide"
    }
   },
   "outputs": [
    {
     "name": "stdout",
     "output_type": "stream",
     "text": [
      "('2017-04-26', 'BUY', 'BANANA', 100.0, 35.14)\n",
      "('2006-03-28', 'BUY', 'APPLE', 1000.0, 45.0)\n",
      "('2006-03-28', 'BUY', 'APPLE', 1000.0, 45.0)\n",
      "('2006-03-28', 'BUY', 'APPLE', 1000.0, 45.0)\n",
      "('2006-03-28', 'BUY', 'APPLE', 1000.0, 45.0)\n",
      "('2006-04-06', 'SELL', 'CHERRY', 500.0, 53.0)\n",
      "('2006-04-06', 'SELL', 'CHERRY', 500.0, 53.0)\n",
      "('2006-04-06', 'SELL', 'CHERRY', 500.0, 53.0)\n",
      "('2006-04-06', 'SELL', 'CHERRY', 500.0, 53.0)\n",
      "('2006-04-05', 'BUY', 'ORANGE', 1000.0, 72.0)\n",
      "('2006-04-05', 'BUY', 'ORANGE', 1000.0, 72.0)\n",
      "('2006-04-05', 'BUY', 'ORANGE', 1000.0, 72.0)\n",
      "('2006-04-05', 'BUY', 'ORANGE', 1000.0, 72.0)\n"
     ]
    }
   ],
   "source": [
    "conn = sqlite3.connect('example.db')\n",
    "c = conn.cursor()\n",
    "for row in c.execute('SELECT * FROM stocks ORDER BY price'):\n",
    "    print(row)"
   ]
  },
  {
   "cell_type": "code",
   "execution_count": null,
   "metadata": {
    "collapsed": true
   },
   "outputs": [],
   "source": []
  }
 ],
 "metadata": {
  "celltoolbar": "Slideshow",
  "kernelspec": {
   "display_name": "Python 3",
   "language": "python",
   "name": "python3"
  },
  "language_info": {
   "codemirror_mode": {
    "name": "ipython",
    "version": 3
   },
   "file_extension": ".py",
   "mimetype": "text/x-python",
   "name": "python",
   "nbconvert_exporter": "python",
   "pygments_lexer": "ipython3",
   "version": "3.5.1"
  }
 },
 "nbformat": 4,
 "nbformat_minor": 2
}
