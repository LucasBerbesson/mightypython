{
 "cells": [
  {
   "cell_type": "markdown",
   "metadata": {
    "deletable": true,
    "editable": true,
    "slideshow": {
     "slide_type": "slide"
    }
   },
   "source": [
    "## Requests : super simple requests\n",
    "Warning: Recreational use of other HTTP libraries may result in dangerous side-effects, including: security vulnerabilities, verbose code, reinventing the wheel, constantly reading documentation, depression, headaches, or even death."
   ]
  },
  {
   "cell_type": "code",
   "execution_count": 10,
   "metadata": {
    "collapsed": false,
    "deletable": true,
    "editable": true,
    "slideshow": {
     "slide_type": "subslide"
    }
   },
   "outputs": [
    {
     "name": "stdout",
     "output_type": "stream",
     "text": [
      "HTML : https://github.com/LucasBerbesson/apifier.git\n",
      "Arduino : https://github.com/LucasBerbesson/Bricolage-numerique.git\n",
      "Arduino : https://github.com/LucasBerbesson/Laser-cat.git\n",
      "Jupyter Notebook : https://github.com/LucasBerbesson/mightypython.git\n",
      "Python : https://github.com/LucasBerbesson/notification-box.git\n",
      "Arduino : https://github.com/LucasBerbesson/pixelstick.git\n",
      "Batchfile : https://github.com/LucasBerbesson/python-guide.git\n",
      "Arduino : https://github.com/LucasBerbesson/teatime.git\n"
     ]
    }
   ],
   "source": [
    "import requests\n",
    "r = requests.get('https://api.github.com/users/LucasBerbesson/repos')\n",
    "data = r.json()\n",
    "\n",
    "for element in data:\n",
    "    print(element['language'],\":\", element['clone_url'])"
   ]
  },
  {
   "cell_type": "markdown",
   "metadata": {
    "deletable": true,
    "editable": true,
    "slideshow": {
     "slide_type": "slide"
    }
   },
   "source": [
    "## Bottle : micro framework\n",
    "Bottle is a fast, simple and lightweight WSGI micro web-framework for Python."
   ]
  },
  {
   "cell_type": "code",
   "execution_count": 11,
   "metadata": {
    "collapsed": false,
    "deletable": true,
    "editable": true,
    "slideshow": {
     "slide_type": "subslide"
    }
   },
   "outputs": [],
   "source": [
    "from bottle import route, run, template\n",
    "\n",
    "@route('/hello/<name>')\n",
    "def index(name):\n",
    "    return template('<b>Hello {{name}}</b>!', name=name)\n",
    "\n",
    "#run(host='localhost', port=8080)"
   ]
  },
  {
   "cell_type": "markdown",
   "metadata": {
    "deletable": true,
    "editable": true,
    "slideshow": {
     "slide_type": "slide"
    }
   },
   "source": [
    "## Faker : generate fake data\n",
    "Faker is a Python package that generates fake data for you.[Documentation](https://faker.readthedocs.io/en/latest/)"
   ]
  },
  {
   "cell_type": "code",
   "execution_count": 12,
   "metadata": {
    "collapsed": false,
    "deletable": true,
    "editable": true,
    "slideshow": {
     "slide_type": "subslide"
    }
   },
   "outputs": [
    {
     "name": "stdout",
     "output_type": "stream",
     "text": [
      "Nicolas Ruiz 55933 ferrandjean@voila.fr Barbier #ca5dfe\n"
     ]
    }
   ],
   "source": [
    "from faker import Faker\n",
    "f = Faker(locale=\"fr_FR\")\n",
    "name = f.name()\n",
    "postcode = f.postcode()\n",
    "email = f.email()\n",
    "city = f.city()\n",
    "color = f.hex_color()\n",
    "print(name,postcode,email,city,color)"
   ]
  },
  {
   "cell_type": "markdown",
   "metadata": {
    "deletable": true,
    "editable": true,
    "slideshow": {
     "slide_type": "slide"
    }
   },
   "source": [
    "## Jinja2 : template engine\n",
    "Jinja2 is a full featured template engine for Python.[Documentation](http://jinja.pocoo.org/docs/)"
   ]
  },
  {
   "cell_type": "code",
   "execution_count": 13,
   "metadata": {
    "collapsed": false,
    "deletable": true,
    "editable": true,
    "slideshow": {
     "slide_type": "subslide"
    }
   },
   "outputs": [],
   "source": [
    "from jinja2 import Environment, FileSystemLoader\n",
    "\n",
    "env = Environment(loader=FileSystemLoader('templates'))\n",
    "template = env.get_template('jinja_demo.html')\n",
    "links = [\n",
    "    {\"href\":\"http://google.com\", \"caption\":\"google\"},\n",
    "    {\"href\":\"http://github.com\", \"caption\":\"github\"},\n",
    "    {\"href\":\"http://stackoverflow.com/\", \"caption\":\"Stack Overflow\"},\n",
    "    {\"href\":\"https://www.reddit.com/r/Python/\", \"caption\":\"Subreddit Python\"},\n",
    "    {\"href\":\"https://www.lafabriquediy.com/\", \"caption\":\"La Fabrique DIY\"},\n",
    "    {\"href\":\"https://www.lemonde.fr/\", \"caption\":\"Le monde\"}\n",
    "]\n",
    "result = template.render(title='Mes sites préférés', links=links)\n",
    "\n",
    "\n",
    "# to save the results\n",
    "with open(\"./templates/result.html\", \"w+\") as fh:\n",
    "    fh.write(result)"
   ]
  },
  {
   "cell_type": "markdown",
   "metadata": {
    "deletable": true,
    "editable": true,
    "slideshow": {
     "slide_type": "slide"
    }
   },
   "source": [
    "## Jupyter: interactive python notebook\n",
    "The Jupyter Notebook is an open-source web application that allows you to create and share documents that contain live code, equations, visualizations and explanatory text.  \n",
    "[Documentation](http://jupyter.org/)"
   ]
  },
  {
   "cell_type": "markdown",
   "metadata": {
    "deletable": true,
    "editable": true,
    "slideshow": {
     "slide_type": "slide"
    }
   },
   "source": [
    "## Sphinx : beautiful python documentation\n",
    "Easy and intelligent and beautiful python documentation. [Documentation](http://www.sphinx-doc.org/en/stable/)"
   ]
  },
  {
   "cell_type": "markdown",
   "metadata": {
    "deletable": true,
    "editable": true,
    "slideshow": {
     "slide_type": "skip"
    }
   },
   "source": [
    "To get **beautiful** sphinx documentation you need :\n",
    "- to write **beautiful docstrings** (check the google ones in `useful.py` to get inspired) in your python code. \n",
    "- install sphinx\n",
    "- run `sphinx-quickstart` from your `/docs` folder\n",
    "- Edit `index.rst` and create other `.rst`files if you need [ReStructuredText syntax](https://fr.wikipedia.org/wiki/ReStructuredText)\n",
    "- run `make html` "
   ]
  },
  {
   "cell_type": "markdown",
   "metadata": {
    "collapsed": false,
    "deletable": true,
    "editable": true,
    "slideshow": {
     "slide_type": "slide"
    }
   },
   "source": [
    "## BeautifulSoup : XML and HTML parser\n",
    "A Python library for pulling data out of HTML and XML files. [Documentation](https://www.crummy.com/software/BeautifulSoup/bs4/doc/)"
   ]
  },
  {
   "cell_type": "code",
   "execution_count": 33,
   "metadata": {
    "collapsed": false,
    "deletable": true,
    "editable": true,
    "slideshow": {
     "slide_type": "subslide"
    }
   },
   "outputs": [
    {
     "name": "stdout",
     "output_type": "stream",
     "text": [
      "103 726 abonnés sur La Fabrique DIY\n"
     ]
    }
   ],
   "source": [
    "import requests\n",
    "from bs4 import BeautifulSoup\n",
    "url = \"https://www.youtube.com/channel/UCV8D6u7_jkuGf_iUvNzXpmg\"\n",
    "r = requests.get(url)\n",
    "data = r.text\n",
    "soup = BeautifulSoup(data, \"lxml\")\n",
    "for subscribe_btn in soup.find(\"span\",{\"class\":\"yt-subscription-button-subscriber-count-branded-horizontal\"}):\n",
    "    print(subscribe_btn, \"abonnés sur La Fabrique DIY\")"
   ]
  },
  {
   "cell_type": "markdown",
   "metadata": {
    "deletable": true,
    "editable": true,
    "slideshow": {
     "slide_type": "slide"
    }
   },
   "source": [
    "## XML : XML parser\n",
    "Simple and efficient API for parsing and creating XML data.\n",
    "[Documentation](https://docs.python.org/3.5/library/xml.etree.elementtree.html)"
   ]
  },
  {
   "cell_type": "code",
   "execution_count": 15,
   "metadata": {
    "collapsed": false,
    "deletable": true,
    "editable": true,
    "slideshow": {
     "slide_type": "subslide"
    }
   },
   "outputs": [
    {
     "data": {
      "text/html": [
       "<a href=http://www.lemonde.fr/police-justice/article/2017/04/25/champs-elysees-l-interieur-saisit-la-justice-apres-des-commentaires-homophobes-visant-le-policier-mort_5117427_1653578.html target=\"_blank\">Champs-Elysées : l’intérieur saisit la justice après des commentaires homophobes visant le policier mort</a>"
      ],
      "text/plain": [
       "<IPython.core.display.HTML object>"
      ]
     },
     "metadata": {},
     "output_type": "display_data"
    },
    {
     "data": {
      "text/html": [
       "<a href=http://www.lemonde.fr/pixels/article/2017/04/25/contre-les-fausses-informations-google-retouche-son-moteur-de-recherche_5117424_4408996.html target=\"_blank\">Contre les fausses informations, Google retouche son moteur de recherche</a>"
      ],
      "text/plain": [
       "<IPython.core.display.HTML object>"
      ]
     },
     "metadata": {},
     "output_type": "display_data"
    },
    {
     "data": {
      "text/html": [
       "<a href=http://www.lemonde.fr/pixels/article/2017/04/25/en-thailande-une-scene-d-horreur-diffusee-en-direct-sur-facebook_5117404_4408996.html target=\"_blank\">En Thaïlande, une scène d’horreur diffusée en direct sur Facebook</a>"
      ],
      "text/plain": [
       "<IPython.core.display.HTML object>"
      ]
     },
     "metadata": {},
     "output_type": "display_data"
    },
    {
     "data": {
      "text/html": [
       "<a href=http://www.lemonde.fr/pixels/article/2017/04/25/sur-internet-l-extreme-droite-anglophone-tente-peniblement-de-s-organiser-pour-nuire-a-macron_5117362_4408996.html target=\"_blank\">Sur Internet, l’extrême droite anglophone tente péniblement de s’organiser pour nuire à Macron</a>"
      ],
      "text/plain": [
       "<IPython.core.display.HTML object>"
      ]
     },
     "metadata": {},
     "output_type": "display_data"
    },
    {
     "data": {
      "text/html": [
       "<a href=http://www.lemonde.fr/actualite-medias/article/2017/04/25/avec-wikitribune-wikipedia-veut-redessiner-le-paysage-mediatique_5117336_3236.html target=\"_blank\">Wikitribune entend redessiner le paysage médiatique</a>"
      ],
      "text/plain": [
       "<IPython.core.display.HTML object>"
      ]
     },
     "metadata": {},
     "output_type": "display_data"
    }
   ],
   "source": [
    "from IPython.core.display import display, HTML\n",
    "\n",
    "import requests\n",
    "url = \"http://www.lemonde.fr/pixels/rss_full.xml\"\n",
    "\n",
    "r = requests.get(url)\n",
    "r.encoding = 'utf-8'\n",
    "import xml.etree.ElementTree as ET\n",
    "root = ET.fromstring(r.text.encode('utf8'))\n",
    "for i,item in zip(range(5),root.iter(\"item\")):\n",
    "    if item.find('link').text:\n",
    "        display(HTML('<a href={} target=\"_blank\">{}</a>'.format(item.find('link').text, item.find('title').text)))"
   ]
  },
  {
   "cell_type": "markdown",
   "metadata": {
    "deletable": true,
    "editable": true,
    "slideshow": {
     "slide_type": "slide"
    }
   },
   "source": [
    "## Pandas : excel in python\n",
    "Pandas is an open source, BSD-licensed library providing high-performance, easy-to-use data structures and data analysis tools for the Python programming language.[Documentation](http://pandas.pydata.org/pandas-docs/stable/)"
   ]
  },
  {
   "cell_type": "code",
   "execution_count": 1,
   "metadata": {
    "collapsed": false,
    "deletable": true,
    "editable": true,
    "slideshow": {
     "slide_type": "subslide"
    }
   },
   "outputs": [
    {
     "name": "stdout",
     "output_type": "stream",
     "text": [
      "Tailel du tableau:  (14256, 20)\n",
      "5632334 personnes ont voté en Ile-de-france dimanche dernier\n"
     ]
    },
    {
     "data": {
      "text/html": [
       "<div>\n",
       "<table border=\"1\" class=\"dataframe\">\n",
       "  <thead>\n",
       "    <tr style=\"text-align: right;\">\n",
       "      <th></th>\n",
       "      <th>Code Région</th>\n",
       "      <th>Code Région 3</th>\n",
       "      <th>Région</th>\n",
       "      <th>Code Département</th>\n",
       "      <th>Code Département</th>\n",
       "      <th>Code Département 3</th>\n",
       "      <th>Département</th>\n",
       "      <th>Tour</th>\n",
       "      <th>Code Commune</th>\n",
       "      <th>Commune</th>\n",
       "      <th>Nom Candidat</th>\n",
       "      <th>Prénom Candidat</th>\n",
       "      <th>Civilité Candidat</th>\n",
       "      <th>Numéro Panneau Candidat</th>\n",
       "      <th>Nombre de voix</th>\n",
       "      <th>Rapport Inscrit</th>\n",
       "      <th>rapportexprime</th>\n",
       "      <th>Code Insee</th>\n",
       "      <th>geom</th>\n",
       "      <th>geo_point_2d</th>\n",
       "    </tr>\n",
       "  </thead>\n",
       "  <tbody>\n",
       "    <tr>\n",
       "      <th>0</th>\n",
       "      <td>11</td>\n",
       "      <td>11</td>\n",
       "      <td>Île-de-France</td>\n",
       "      <td>75</td>\n",
       "      <td>75</td>\n",
       "      <td>75</td>\n",
       "      <td>Paris</td>\n",
       "      <td>1</td>\n",
       "      <td>056AR01</td>\n",
       "      <td>Paris 1er arrondissement</td>\n",
       "      <td>DUPONT-AIGNAN</td>\n",
       "      <td>Nicolas</td>\n",
       "      <td>M.</td>\n",
       "      <td>1</td>\n",
       "      <td>128</td>\n",
       "      <td>1.19</td>\n",
       "      <td>1.42</td>\n",
       "      <td>75101</td>\n",
       "      <td>{\"type\": \"Polygon\", \"coordinates\": [[[2.344559...</td>\n",
       "      <td>48.8625262113, 2.33630086089</td>\n",
       "    </tr>\n",
       "    <tr>\n",
       "      <th>1</th>\n",
       "      <td>11</td>\n",
       "      <td>11</td>\n",
       "      <td>Île-de-France</td>\n",
       "      <td>75</td>\n",
       "      <td>75</td>\n",
       "      <td>75</td>\n",
       "      <td>Paris</td>\n",
       "      <td>1</td>\n",
       "      <td>056AR01</td>\n",
       "      <td>Paris 1er arrondissement</td>\n",
       "      <td>LE PEN</td>\n",
       "      <td>Marine</td>\n",
       "      <td>Mme</td>\n",
       "      <td>2</td>\n",
       "      <td>443</td>\n",
       "      <td>4.11</td>\n",
       "      <td>4.91</td>\n",
       "      <td>75101</td>\n",
       "      <td>{\"type\": \"Polygon\", \"coordinates\": [[[2.344559...</td>\n",
       "      <td>48.8625262113, 2.33630086089</td>\n",
       "    </tr>\n",
       "  </tbody>\n",
       "</table>\n",
       "</div>"
      ],
      "text/plain": [
       "   Code Région  Code Région 3         Région  Code Département  \\\n",
       "0           11             11  Île-de-France                75   \n",
       "1           11             11  Île-de-France                75   \n",
       "\n",
       "   Code Département   Code Département 3 Département  Tour Code Commune  \\\n",
       "0                 75                  75       Paris     1      056AR01   \n",
       "1                 75                  75       Paris     1      056AR01   \n",
       "\n",
       "                    Commune   Nom Candidat Prénom Candidat Civilité Candidat  \\\n",
       "0  Paris 1er arrondissement  DUPONT-AIGNAN         Nicolas                M.   \n",
       "1  Paris 1er arrondissement         LE PEN          Marine               Mme   \n",
       "\n",
       "   Numéro Panneau Candidat  Nombre de voix  Rapport Inscrit  rapportexprime  \\\n",
       "0                        1             128             1.19            1.42   \n",
       "1                        2             443             4.11            4.91   \n",
       "\n",
       "   Code Insee                                               geom  \\\n",
       "0       75101  {\"type\": \"Polygon\", \"coordinates\": [[[2.344559...   \n",
       "1       75101  {\"type\": \"Polygon\", \"coordinates\": [[[2.344559...   \n",
       "\n",
       "                   geo_point_2d  \n",
       "0  48.8625262113, 2.33630086089  \n",
       "1  48.8625262113, 2.33630086089  "
      ]
     },
     "execution_count": 1,
     "metadata": {},
     "output_type": "execute_result"
    }
   ],
   "source": [
    "import pandas as pd\n",
    "df = pd.read_csv('data/election-presidentielle-2017.csv', delimiter=\";\")\n",
    "print(\"Tailel du tableau: \",df.shape)\n",
    "print(df[\"Nombre de voix\"].sum(),\"personnes ont voté en Ile-de-france dimanche dernier\")\n",
    "df.head(2)\n"
   ]
  },
  {
   "cell_type": "code",
   "execution_count": 2,
   "metadata": {
    "collapsed": false,
    "deletable": true,
    "editable": true,
    "slideshow": {
     "slide_type": "subslide"
    }
   },
   "outputs": [
    {
     "name": "stdout",
     "output_type": "stream",
     "text": [
      "Dataset contains 1292 communes\n"
     ]
    },
    {
     "data": {
      "text/html": [
       "<div>\n",
       "<table border=\"1\" class=\"dataframe\">\n",
       "  <thead>\n",
       "    <tr style=\"text-align: right;\">\n",
       "      <th></th>\n",
       "      <th>Commune</th>\n",
       "      <th>rapportexprime</th>\n",
       "    </tr>\n",
       "    <tr>\n",
       "      <th>Nom Candidat</th>\n",
       "      <th></th>\n",
       "      <th></th>\n",
       "    </tr>\n",
       "  </thead>\n",
       "  <tbody>\n",
       "    <tr>\n",
       "      <th>CHEMINADE</th>\n",
       "      <td>Paris 20eme arrondissement</td>\n",
       "      <td>0.16</td>\n",
       "    </tr>\n",
       "    <tr>\n",
       "      <th>LASSALLE</th>\n",
       "      <td>Paris 20eme arrondissement</td>\n",
       "      <td>0.54</td>\n",
       "    </tr>\n",
       "    <tr>\n",
       "      <th>MÉLENCHON</th>\n",
       "      <td>Paris 20eme arrondissement</td>\n",
       "      <td>31.83</td>\n",
       "    </tr>\n",
       "    <tr>\n",
       "      <th>ASSELINEAU</th>\n",
       "      <td>Paris 20eme arrondissement</td>\n",
       "      <td>0.96</td>\n",
       "    </tr>\n",
       "    <tr>\n",
       "      <th>FILLON</th>\n",
       "      <td>Paris 20eme arrondissement</td>\n",
       "      <td>12.78</td>\n",
       "    </tr>\n",
       "  </tbody>\n",
       "</table>\n",
       "</div>"
      ],
      "text/plain": [
       "                                 Commune  rapportexprime\n",
       "Nom Candidat                                            \n",
       "CHEMINADE     Paris 20eme arrondissement            0.16\n",
       "LASSALLE      Paris 20eme arrondissement            0.54\n",
       "MÉLENCHON     Paris 20eme arrondissement           31.83\n",
       "ASSELINEAU    Paris 20eme arrondissement            0.96\n",
       "FILLON        Paris 20eme arrondissement           12.78"
      ]
     },
     "execution_count": 2,
     "metadata": {},
     "output_type": "execute_result"
    }
   ],
   "source": [
    "# Keep interesting columns\n",
    "df = df[['Nom Candidat','Commune','rapportexprime']]\n",
    "print(\"Dataset contains {} communes\".format(df['Commune'].nunique()))\n",
    "# Only keep Paris districts\n",
    "df = df[df['Commune'].str.contains(\"Paris \")]\n",
    "# Change datagrame index\n",
    "resultats = df.set_index('Nom Candidat')\n",
    "# Print last 10 rows\n",
    "resultats.tail(5)"
   ]
  },
  {
   "cell_type": "markdown",
   "metadata": {
    "deletable": true,
    "editable": true,
    "slideshow": {
     "slide_type": "slide"
    }
   },
   "source": [
    "## Matplotlib : Matlab-like plot\n",
    "MATLAB-like plotting framework.[Documentation](http://matplotlib.org/)"
   ]
  },
  {
   "cell_type": "code",
   "execution_count": null,
   "metadata": {
    "collapsed": false,
    "deletable": true,
    "editable": true,
    "slideshow": {
     "slide_type": "subslide"
    }
   },
   "outputs": [],
   "source": [
    "import matplotlib.pyplot as plt\n",
    "import matplotlib\n",
    "colors = {'CHEMINADE':\"#95A5A6\", 'ARTHAUD':\"#C0392B\", 'LASSALLE':'#f1c40f', 'POUTOU':\"#8e44ad\", 'ASSELINEAU':\"#34495e\", 'DUPONT-AIGNAN':\"#1abc9c\", 'LE PEN':\"#2c3e50\", 'HAMON':\"#e67e22\", 'FILLON':\"#3498db\", 'MÉLENCHON':\"#d35400\", 'MACRON':\"#2ecc71\"}\n",
    "# Group by commune\n",
    "grouped = resultats.groupby(['Commune']).sort_values(by=\"Commune\")\n",
    "# Prepare giant plot\n",
    "fig, axs = plt.subplots(figsize=(20,30), nrows=5, ncols=4)\n",
    "for (name, group), ax in zip(grouped, axs.flat):\n",
    "    group = group.sort_values(by=\"rapportexprime\")\n",
    "    color = [colors[x] for x in list(group.index)]\n",
    "    group.plot.bar(y=\"rapportexprime\",title=name,ax=ax, color = color)\n",
    "\n",
    "plt.subplots_adjust(hspace=1)\n",
    "plt.show()"
   ]
  },
  {
   "cell_type": "markdown",
   "metadata": {
    "deletable": true,
    "editable": true,
    "slideshow": {
     "slide_type": "slide"
    }
   },
   "source": [
    "## Scikit learn : Machine learning\n",
    "Simple and efficient tools for data mining and data analysis [Documentation](http://scikit-learn.org/stable/)"
   ]
  },
  {
   "cell_type": "code",
   "execution_count": 32,
   "metadata": {
    "collapsed": false,
    "deletable": true,
    "editable": true,
    "scrolled": false,
    "slideshow": {
     "slide_type": "subslide"
    }
   },
   "outputs": [
    {
     "data": {
      "image/png": "[encoded data removed]",
      "text/plain": [
       "<matplotlib.figure.Figure at 0x10bf316d8>"
      ]
     },
     "metadata": {},
     "output_type": "display_data"
    }
   ],
   "source": [
    "# Author: Gael Varoquaux <gael dot varoquaux at normalesup dot org>\n",
    "# License: BSD 3 clause\n",
    "\n",
    "# Standard scientific Python imports\n",
    "import matplotlib.pyplot as plt\n",
    "\n",
    "# Import datasets, classifiers and performance metrics\n",
    "from sklearn import datasets, svm, metrics\n",
    "\n",
    "# The digits dataset\n",
    "digits = datasets.load_digits()\n",
    "\n",
    "# The data that we are interested in is made of 8x8 images of digits, let's\n",
    "# have a look at the first 4 images, stored in the `images` attribute of the\n",
    "# dataset.  If we were working from image files, we could load them using\n",
    "# matplotlib.pyplot.imread.  Note that each image must have the same size. For these\n",
    "# images, we know which digit they represent: it is given in the 'target' of\n",
    "# the dataset.\n",
    "images_and_labels = list(zip(digits.images, digits.target))\n",
    "for index, (image, label) in enumerate(images_and_labels[:4]):\n",
    "    plt.subplot(2, 4, index + 1)\n",
    "    plt.axis('off')\n",
    "    plt.imshow(image, cmap=plt.cm.gray_r, interpolation='nearest')\n",
    "    plt.title('Training: %i' % label)\n",
    "\n",
    "# To apply a classifier on this data, we need to flatten the image, to\n",
    "# turn the data in a (samples, feature) matrix:\n",
    "n_samples = len(digits.images)\n",
    "data = digits.images.reshape((n_samples, -1))\n",
    "\n",
    "# Create a classifier: a support vector classifier\n",
    "classifier = svm.SVC(gamma=0.001)\n",
    "\n",
    "# We learn the digits on the first half of the digits\n",
    "classifier.fit(data[:int(n_samples / 2)], digits.target[:int(n_samples / 2)])\n",
    "\n",
    "# Now predict the value of the digit on the second half:\n",
    "expected = digits.target[int(n_samples / 2):]\n",
    "predicted = classifier.predict(data[int(n_samples / 2):])\n",
    "\n",
    "images_and_predictions = list(zip(digits.images[int(n_samples / 2):], predicted))\n",
    "for index, (image, prediction) in enumerate(images_and_predictions[:4]):\n",
    "    plt.subplot(2, 4, index + 5)\n",
    "    plt.axis('off')\n",
    "    plt.imshow(image, cmap=plt.cm.gray_r, interpolation='nearest')\n",
    "    plt.title('Prediction: %i' % prediction)\n",
    "\n",
    "plt.show()\n"
   ]
  },
  {
   "cell_type": "markdown",
   "metadata": {
    "deletable": true,
    "editable": true,
    "slideshow": {
     "slide_type": "slide"
    }
   },
   "source": [
    "## Django : the best web framework\n",
    "Django is a high-level Python Web framework that encourages rapid development and clean, pragmatic design.  \n",
    "Built by experienced developers, it takes care of much of the hassle of Web development, so you can focus on writing your app without needing to reinvent the wheel. It’s free and open source. [Documentation](https://docs.djangoproject.com/en/dev/). [Demo](http://www.lafabriquediy.com/)"
   ]
  },
  {
   "cell_type": "markdown",
   "metadata": {
    "deletable": true,
    "editable": true,
    "slideshow": {
     "slide_type": "slide"
    }
   },
   "source": [
    "## Django REST : api builder\n",
    "Django REST framework is a powerful and flexible toolkit for building Web APIs.\n",
    "[Documentation](http://www.django-rest-framework.org/). [Demo](https://spotit.fr/api/)"
   ]
  },
  {
   "cell_type": "markdown",
   "metadata": {
    "deletable": true,
    "editable": true,
    "slideshow": {
     "slide_type": "slide"
    }
   },
   "source": [
    "## Flask : advanced microframework \n",
    "Flask is a microframework for Python based on Werkzeug, Jinja 2 and good intentions. \n",
    "[Documentation](http://flask.pocoo.org/)"
   ]
  },
  {
   "cell_type": "markdown",
   "metadata": {
    "deletable": true,
    "editable": true,
    "slideshow": {
     "slide_type": "slide"
    }
   },
   "source": [
    "## Pylint : code analysis\n",
    "Code analyisis for python [Documentation](https://www.pylint.org/).  \n",
    "Check the `passgen.py` code by running `pylint passgen.py` and try to improve it !"
   ]
  },
  {
   "cell_type": "markdown",
   "metadata": {
    "deletable": true,
    "editable": true,
    "slideshow": {
     "slide_type": "slide"
    }
   },
   "source": [
    "## Pytest : tests\n",
    "The pytest framework makes it easy to write small tests, yet scales to support complex functional testing for applications and libraries.[Documentation](https://docs.pytest.org/en/latest/)\n",
    "\n",
    "From your project directory simply run `pytest` to run all `test_*.py` files"
   ]
  },
  {
   "cell_type": "markdown",
   "metadata": {
    "deletable": true,
    "editable": true,
    "slideshow": {
     "slide_type": "slide"
    }
   },
   "source": [
    "## Gspread : Google spreadsheet api\n",
    "Google spreadsheet python API [Documentation](https://github.com/burnash/gspread)"
   ]
  },
  {
   "cell_type": "code",
   "execution_count": null,
   "metadata": {
    "collapsed": false,
    "deletable": true,
    "editable": true,
    "slideshow": {
     "slide_type": "subslide"
    }
   },
   "outputs": [],
   "source": [
    "import gspread\n",
    "import datetime\n",
    "from oauth2client.service_account import ServiceAccountCredentials\n",
    "\n",
    "scope = ['https://spreadsheets.google.com/feeds']\n",
    "# to get your own client_secret.json credentials goto : http://gspread.readthedocs.io/en/latest/oauth2.html\n",
    "creds = ServiceAccountCredentials.from_json_keyfile_name('data/client_secret.json', scope)\n",
    "client = gspread.authorize(creds)\n",
    "\n",
    "# Find a workbook by name and open the first sheet\n",
    "sheet = client.open(\"demo\").sheet1\n",
    "\n",
    "# Extract and print all of the values\n",
    "list_of_hashes = sheet.get_all_records()\n",
    "print(list_of_hashes)\n",
    "\n",
    "#Append the current date and time\n",
    "\n",
    "row = [\"Date\",datetime.datetime.now()]\n",
    "index = 1\n",
    "sheet.insert_row(row, index)"
   ]
  }
 ],
 "metadata": {
  "celltoolbar": "Slideshow",
  "kernelspec": {
   "display_name": "Python 3",
   "language": "python",
   "name": "python3"
  },
  "language_info": {
   "codemirror_mode": {
    "name": "ipython",
    "version": 3
   },
   "file_extension": ".py",
   "mimetype": "text/x-python",
   "name": "python",
   "nbconvert_exporter": "python",
   "pygments_lexer": "ipython3",
   "version": "3.5.1"
  }
 },
 "nbformat": 4,
 "nbformat_minor": 2
}
