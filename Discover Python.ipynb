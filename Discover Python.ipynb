{
 "cells": [
  {
   "cell_type": "markdown",
   "metadata": {
    "slideshow": {
     "slide_type": "slide"
    }
   },
   "source": [
    "## Mighty Python\n",
    "A list of python mini demos"
   ]
  },
  {
   "cell_type": "markdown",
   "metadata": {
    "slideshow": {
     "slide_type": "slide"
    }
   },
   "source": [
    "## Python est simple..."
   ]
  },
  {
   "cell_type": "markdown",
   "metadata": {
    "slideshow": {
     "slide_type": "skip"
    }
   },
   "source": [
    "Python est un langage simple et minimaliste.  \n",
    "C'est un langage de haut niveau.  \n",
    "Il fait abstraction des caractéristiques techniques du matériel utilisé pour exécuter le programme.  \n",
    "Pas de gestion de mémoire, de processeur, de registres ... juste du code fonctionnel !  \n",
    "Un programme bien écrit se lit comme du pseudo-code anglais.    \n",
    "Son système d'indentation le rend très propre : pas de ; ni de {}...  \n",
    "Python est facile à apprendre, de plus en plus enseigné (lycée, prépa...)    \n",
    "La communauté pythonienne rédige d'excellentes documentations, claires et concises, comme Python !"
   ]
  },
  {
   "cell_type": "markdown",
   "metadata": {
    "slideshow": {
     "slide_type": "slide"
    }
   },
   "source": [
    "## ...utilisé par beaucoup de monde\n",
    "Google, Nasa, Youtube, Dropbox, Reddit, Instagram, MIT ... [list of most Popular Languages (TIOBE Index for May 2017)](https://insights.stackoverflow.com/trends?tags=java%2Cc%2Cc%2B%2B%2Cpython%2Cc%23%2Cvb.net%2Cassembly%2Cphp%2Cperl%2Cruby%2Cswift%2Cr%2Cobjective-c%2Cjavascript)\n",
    "\n",
    "\n",
    "https://www.kaggle.com/surveys/2017?utm_content=buffer345c0&utm_medium=social&utm_source=linkedin.com&utm_campaign=buffer"
   ]
  },
  {
   "cell_type": "markdown",
   "metadata": {
    "slideshow": {
     "slide_type": "slide"
    }
   },
   "source": [
    "## ...gratuit et open source"
   ]
  },
  {
   "cell_type": "markdown",
   "metadata": {
    "slideshow": {
     "slide_type": "skip"
    }
   },
   "source": [
    "Tout le monde peut avoir accès et contribuer à son code source et à ses librairies.  \n",
    "Permet de faire beaucoup de choses que certains logiciels payants ne proposent pas (Maple).  \n",
    "Python est un langage interpreté ce qui le rend très Portable : GNU/Linux, Windows, FreeBSD, Macintosh... Un même code source peut fonctionner exactement de la même manière sur toutes ces plateformes : l'interpréteur se charge de la compilation en fonction de l'OS. "
   ]
  },
  {
   "cell_type": "markdown",
   "metadata": {
    "slideshow": {
     "slide_type": "slide"
    }
   },
   "source": [
    "## ...orienté objet...si on veut\n"
   ]
  },
  {
   "cell_type": "markdown",
   "metadata": {
    "slideshow": {
     "slide_type": "skip"
    }
   },
   "source": [
    "Python permet de faire de la programmation fonctionnelle et objet.\n",
    "\n",
    "En Python, tout est un objet, et peut être manipulé en tant que tel.  \n",
    "Les fonctions, les classes, les chaînes et même les types sont des objets en Python: comme tout objet ils peuvent être passés comme arguments de fonction, et ils peuvent avoir des méthodes et propriétés.\n",
    "\n",
    "Cependant, contrairement à Java, Python n’impose pas la programmation orientée objet comme paradigme de programmation principal. Il est parfaitement viable pour un projet de Python de ne pas être orienté objet, à savoir de ne pas utiliser ou très peu de définitions de classes, d’héritage de classe, ou d’autres mécanismes qui sont spécifiques à la programmation orientée objet.\n",
    "\n",
    "La gestion par modules permet aux développeur d'encapsuler naturellement les couches d'abstractions de leur code.\n",
    "\n",
    "Les fonctions pures sont des blocs de construction plus efficaces que les classes et les objets pour certaines architectures parce qu’elles n’ont pas de contexte ou d’effets de bord.\n",
    "L’orientation objet est utile et même nécessaire dans de nombreux cas."
   ]
  },
  {
   "cell_type": "markdown",
   "metadata": {
    "slideshow": {
     "slide_type": "slide"
    }
   },
   "source": [
    "## ...typé dynamiquement"
   ]
  },
  {
   "cell_type": "markdown",
   "metadata": {
    "slideshow": {
     "slide_type": "skip"
    }
   },
   "source": [
    "En python les variables sont des \"tags\" pointant vers des objets. L'interpréteur se charge de deviner leur type.  \n",
    "Pour les variables comme pour beaucoup d'autres choses, on fait confiance aux programmeurs pour utiliser un nommage intelligent. \n",
    "\n"
   ]
  },
  {
   "cell_type": "code",
   "execution_count": 33,
   "metadata": {
    "slideshow": {
     "slide_type": "fragment"
    }
   },
   "outputs": [
    {
     "name": "stdout",
     "output_type": "stream",
     "text": [
      "<class 'str'>\n",
      "<class 'int'>\n",
      "<class 'function'>\n"
     ]
    }
   ],
   "source": [
    "a = \"Hello world\"\n",
    "print(type(a))\n",
    "a = 3\n",
    "print(type(a))\n",
    "def a():\n",
    "    print(\"Finalement je suis une fonction\")\n",
    "print(type(a))"
   ]
  },
  {
   "cell_type": "markdown",
   "metadata": {
    "slideshow": {
     "slide_type": "slide"
    }
   },
   "source": [
    "## ...en kit complet\n",
    "**Enormément de librairies standards** : Expression régulières, génération de doc, test unitaires, threading, database, CGI, FTP, EMail, XML, HTML, Cryptography, GUI ...\n",
    "\n",
    "**Encore plus de libraries open source** : Frameworks web, Text processing, Machine learning, analyse de données, Maths, API, Images, Son, Geo loc, e-commerce, Dataviz, authentification, scrap ..."
   ]
  },
  {
   "cell_type": "markdown",
   "metadata": {
    "slideshow": {
     "slide_type": "slide"
    }
   },
   "source": [
    "## Petit tour d'horizon"
   ]
  },
  {
   "cell_type": "code",
   "execution_count": 1,
   "metadata": {
    "slideshow": {
     "slide_type": "slide"
    }
   },
   "outputs": [
    {
     "name": "stdout",
     "output_type": "stream",
     "text": [
      "The Zen of Python, by Tim Peters\n",
      "\n",
      "Beautiful is better than ugly.\n",
      "Explicit is better than implicit.\n",
      "Simple is better than complex.\n",
      "Complex is better than complicated.\n",
      "Flat is better than nested.\n",
      "Sparse is better than dense.\n",
      "Readability counts.\n",
      "Special cases aren't special enough to break the rules.\n",
      "Although practicality beats purity.\n",
      "Errors should never pass silently.\n",
      "Unless explicitly silenced.\n",
      "In the face of ambiguity, refuse the temptation to guess.\n",
      "There should be one-- and preferably only one --obvious way to do it.\n",
      "Although that way may not be obvious at first unless you're Dutch.\n",
      "Now is better than never.\n",
      "Although never is often better than *right* now.\n",
      "If the implementation is hard to explain, it's a bad idea.\n",
      "If the implementation is easy to explain, it may be a good idea.\n",
      "Namespaces are one honking great idea -- let's do more of those!\n"
     ]
    }
   ],
   "source": [
    "import this"
   ]
  },
  {
   "cell_type": "markdown",
   "metadata": {
    "slideshow": {
     "slide_type": "slide"
    }
   },
   "source": [
    "## Strings"
   ]
  },
  {
   "cell_type": "code",
   "execution_count": 4,
   "metadata": {},
   "outputs": [
    {
     "name": "stdout",
     "output_type": "stream",
     "text": [
      "Hello my name is Lucas and I love Python\n"
     ]
    }
   ],
   "source": [
    "s = \"Hello my name is Lucas and I love Python\"\n",
    "print(s)"
   ]
  },
  {
   "cell_type": "code",
   "execution_count": 7,
   "metadata": {
    "slideshow": {
     "slide_type": "fragment"
    }
   },
   "outputs": [
    {
     "data": {
      "text/plain": [
       "'Hello my name is Lucas and I love Python'"
      ]
     },
     "execution_count": 7,
     "metadata": {},
     "output_type": "execute_result"
    }
   ],
   "source": [
    "# String format \n",
    "\"Hello my name is {} and I love {}\".format(\"Lucas\", \"Python\")"
   ]
  },
  {
   "cell_type": "code",
   "execution_count": 8,
   "metadata": {
    "slideshow": {
     "slide_type": "subslide"
    }
   },
   "outputs": [
    {
     "data": {
      "text/plain": [
       "\"Hello my name is Lucas and I'm 26\""
      ]
     },
     "execution_count": 8,
     "metadata": {},
     "output_type": "execute_result"
    }
   ],
   "source": [
    "# Named string format\n",
    "\"Hello my name is {name} and I'm {age}\".format(name=\"Lucas\",age=26)"
   ]
  },
  {
   "cell_type": "code",
   "execution_count": 13,
   "metadata": {
    "slideshow": {
     "slide_type": "subslide"
    }
   },
   "outputs": [
    {
     "name": "stdout",
     "output_type": "stream",
     "text": [
      "c\n",
      "c\n",
      "c\n"
     ]
    }
   ],
   "source": [
    "# Strings are iterable. So you can use iterable methods on them...\n",
    "for letter in \"abc\":\n",
    "    print(letter)"
   ]
  },
  {
   "cell_type": "code",
   "execution_count": 14,
   "metadata": {
    "slideshow": {
     "slide_type": "subslide"
    }
   },
   "outputs": [
    {
     "name": "stdout",
     "output_type": "stream",
     "text": [
      "Hello Hello Hello \n",
      "Hello World\n"
     ]
    }
   ],
   "source": [
    "print(\"Hello \" * 3)\n",
    "print(\"Hello\" + \" World\")"
   ]
  },
  {
   "cell_type": "markdown",
   "metadata": {
    "slideshow": {
     "slide_type": "slide"
    }
   },
   "source": [
    "## Lists\n",
    "Lists are ordered sequence of values.   \n",
    "You can create, update, concatenate, loop, search, index, add, slice, delete, analyse ..."
   ]
  },
  {
   "cell_type": "code",
   "execution_count": 17,
   "metadata": {
    "slideshow": {
     "slide_type": "subslide"
    }
   },
   "outputs": [
    {
     "data": {
      "text/plain": [
       "['cat', 'bat', 'rat', 'bat', 'ants', 'dogs']"
      ]
     },
     "execution_count": 17,
     "metadata": {},
     "output_type": "execute_result"
    }
   ],
   "source": [
    "# Here we create a list called zoo with 6 elements\n",
    "zoo = ['cat', 'bat', 'rat', 'bat','ants','dogs']\n",
    "zoo"
   ]
  },
  {
   "cell_type": "code",
   "execution_count": 18,
   "metadata": {
    "slideshow": {
     "slide_type": "fragment"
    }
   },
   "outputs": [
    {
     "data": {
      "text/plain": [
       "'rat'"
      ]
     },
     "execution_count": 18,
     "metadata": {},
     "output_type": "execute_result"
    }
   ],
   "source": [
    "# we can get any element of the list by calling its position\n",
    "zoo[2]"
   ]
  },
  {
   "cell_type": "code",
   "execution_count": 22,
   "metadata": {
    "slideshow": {
     "slide_type": "fragment"
    }
   },
   "outputs": [
    {
     "name": "stdout",
     "output_type": "stream",
     "text": [
      "1\n",
      "a\n",
      "hello\n",
      "3.14\n"
     ]
    }
   ],
   "source": [
    "# We can put all sorts of objects inside a list\n",
    "mylist = [1,\"a\",\"hello\",3.14]\n",
    "for element in mylist:\n",
    "    print(element)"
   ]
  },
  {
   "cell_type": "code",
   "execution_count": 28,
   "metadata": {
    "slideshow": {
     "slide_type": "subslide"
    }
   },
   "outputs": [
    {
     "data": {
      "text/plain": [
       "'target'"
      ]
     },
     "execution_count": 28,
     "metadata": {},
     "output_type": "execute_result"
    }
   ],
   "source": [
    "# Even other lists (these are called nested lists)\n",
    "nest = [1,2,3,[4,5,['target']]]\n",
    "# Quizz : how do I get the 'target' element ?\n",
    "nest[3][2][0]"
   ]
  },
  {
   "cell_type": "code",
   "execution_count": 32,
   "metadata": {
    "slideshow": {
     "slide_type": "subslide"
    }
   },
   "outputs": [
    {
     "data": {
      "text/plain": [
       "True"
      ]
     },
     "execution_count": 32,
     "metadata": {},
     "output_type": "execute_result"
    }
   ],
   "source": [
    " # We  can  check i f an element is in a list with the keyword \"in\"\n",
    "'rat' in zoo"
   ]
  },
  {
   "cell_type": "code",
   "execution_count": 33,
   "metadata": {
    "slideshow": {
     "slide_type": "subslide"
    }
   },
   "outputs": [
    {
     "name": "stdout",
     "output_type": "stream",
     "text": [
      "cat\n",
      "bat\n",
      "rat\n",
      "bat\n",
      "ants\n",
      "dogs\n"
     ]
    }
   ],
   "source": [
    "# We can loop on our list with the keyword \"for....in\"\n",
    "for animal in zoo:\n",
    "    print(animal)"
   ]
  },
  {
   "cell_type": "code",
   "execution_count": 34,
   "metadata": {
    "slideshow": {
     "slide_type": "subslide"
    }
   },
   "outputs": [
    {
     "data": {
      "text/plain": [
       "['cat', 'rat', 'bat', 'ants', 'dogs', 'lion']"
      ]
     },
     "execution_count": 34,
     "metadata": {},
     "output_type": "execute_result"
    }
   ],
   "source": [
    "# \"append\" is one of the many methods we can use on our list. It adds an element at the end of the list\n",
    "zoo.append(\"lion\")\n",
    "# Try to search on google \"remove an element from a python list\"\n",
    "zoo.remove(\"bat\")\n",
    "zoo   "
   ]
  },
  {
   "cell_type": "code",
   "execution_count": 40,
   "metadata": {
    "slideshow": {
     "slide_type": "subslide"
    }
   },
   "outputs": [
    {
     "name": "stdout",
     "output_type": "stream",
     "text": [
      "[1, 2, 3, 4, 5, 6, 7, 8, 9, 10]\n",
      "[0, 1, 2, 3, 4, 5, 6, 7, 8, 9]\n",
      "[2, 3]\n",
      "[0, 2, 4, 6, 8, 10]\n"
     ]
    }
   ],
   "source": [
    "# slice lists\n",
    "a = [0,1, 2, 3, 4, 5, 6,7,8,9,10]\n",
    "print(a[1:])\n",
    "print(a[:-1])\n",
    "print(a[2:4])\n",
    "print(a[::2])"
   ]
  },
  {
   "cell_type": "code",
   "execution_count": 46,
   "metadata": {
    "slideshow": {
     "slide_type": "subslide"
    }
   },
   "outputs": [],
   "source": [
    "a = [i for i in range(20) if i%2==0]"
   ]
  },
  {
   "cell_type": "code",
   "execution_count": 47,
   "metadata": {},
   "outputs": [
    {
     "name": "stdout",
     "output_type": "stream",
     "text": [
      "[0, 4, 16, 36, 64, 100, 144, 196, 256, 324]\n"
     ]
    }
   ],
   "source": [
    "def square(x):\n",
    "    result = x**2\n",
    "    return result\n",
    "\n",
    "b = [square(x) for x in a]\n",
    "print(b)"
   ]
  },
  {
   "cell_type": "code",
   "execution_count": 54,
   "metadata": {
    "slideshow": {
     "slide_type": "subslide"
    }
   },
   "outputs": [
    {
     "name": "stdout",
     "output_type": "stream",
     "text": [
      "0 bat\n",
      "1 cat\n",
      "2 rat\n",
      "3 ants\n",
      "4 dogs\n",
      "5 lion\n",
      "11\n"
     ]
    }
   ],
   "source": [
    "# enumerate works on any object that supports iteration\n",
    "count = 0\n",
    "for i,animal in enumerate(zoo):\n",
    "    print(i,animal)\n",
    "print(len(\"oaiejlkajze\"))"
   ]
  },
  {
   "cell_type": "code",
   "execution_count": 52,
   "metadata": {
    "slideshow": {
     "slide_type": "subslide"
    }
   },
   "outputs": [
    {
     "name": "stdout",
     "output_type": "stream",
     "text": [
      "['ants', 'bat', 'cat', 'dogs', 'lion', 'rat']\n",
      "['bat', 'cat', 'rat', 'ants', 'dogs', 'lion']\n"
     ]
    }
   ],
   "source": [
    "zoo.sort()\n",
    "print(zoo)\n",
    "# key specifies a function of one argument that is used to extract a comparison key from each list element\n",
    "zoo.sort(key=len)\n",
    "print(zoo)"
   ]
  },
  {
   "cell_type": "code",
   "execution_count": 62,
   "metadata": {
    "slideshow": {
     "slide_type": "subslide"
    }
   },
   "outputs": [
    {
     "name": "stdout",
     "output_type": "stream",
     "text": [
      "['Bonjour', 'je', 'fais', 'du', 'Python']\n",
      "Bonjour,je,fais,du,Python\n"
     ]
    }
   ],
   "source": [
    "hello = \"Bonjour;je;fais;du;Python\"\n",
    "hello2 = hello.split(\";\")\n",
    "hello3 = \",\".join(hello2)\n",
    "print(hello2)\n",
    "print(hello3)"
   ]
  },
  {
   "cell_type": "code",
   "execution_count": 63,
   "metadata": {
    "slideshow": {
     "slide_type": "subslide"
    }
   },
   "outputs": [
    {
     "name": "stdout",
     "output_type": "stream",
     "text": [
      "sky is blue\n",
      "sun is yellow\n",
      "tree is green\n"
     ]
    }
   ],
   "source": [
    "# Zip makes an iterator that aggregates elements from each of the iterables.\n",
    "names = [\"sky\", \"sun\", \"tree\"]\n",
    "colors = [\"blue\",\"yellow\",\"green\", \"white\"]\n",
    "for name, color in zip(names, colors):\n",
    "    print(name,\"is\",color)"
   ]
  },
  {
   "cell_type": "markdown",
   "metadata": {
    "slideshow": {
     "slide_type": "slide"
    }
   },
   "source": [
    "## Dicts\n",
    "Like a list, a dictionary is a collection of many values.  \n",
    "But unlike indexes for lists which are integers (zoo[4]), indexes for dicts can be strings or any other type. \n",
    "Indexes for dictionaries are called keys.  \n",
    "Also dicts are unordered. "
   ]
  },
  {
   "cell_type": "code",
   "execution_count": 69,
   "metadata": {
    "collapsed": true,
    "slideshow": {
     "slide_type": "fragment"
    }
   },
   "outputs": [],
   "source": [
    "# Creation of a dictionnary called \"earth\"\n",
    "earth = {\"sky\":\"blue\",\"sun\":\"yellow\",\"tree\":\"green\"}\n",
    "# Quizz : how do I get the color of the sun ?"
   ]
  },
  {
   "cell_type": "code",
   "execution_count": 82,
   "metadata": {},
   "outputs": [],
   "source": [
    "color_of_water = \"\"\n",
    "try: \n",
    "    color_of_water = earth[\"water\"]\n",
    "except KeyError:\n",
    "    color_of_water = \"blue\""
   ]
  },
  {
   "cell_type": "code",
   "execution_count": 80,
   "metadata": {
    "slideshow": {
     "slide_type": "fragment"
    }
   },
   "outputs": [
    {
     "data": {
      "text/plain": [
       "'blue'"
      ]
     },
     "execution_count": 80,
     "metadata": {},
     "output_type": "execute_result"
    }
   ],
   "source": [
    "# Get an element of the dictionnary. It is the same idea as zoo[4], but with a name instead of a number\n",
    "earth.get(\"water\",\"blue\")"
   ]
  },
  {
   "cell_type": "code",
   "execution_count": 101,
   "metadata": {},
   "outputs": [
    {
     "data": {
      "text/plain": [
       "'bonjour'"
      ]
     },
     "execution_count": 101,
     "metadata": {},
     "output_type": "execute_result"
    }
   ],
   "source": []
  },
  {
   "cell_type": "code",
   "execution_count": 83,
   "metadata": {
    "slideshow": {
     "slide_type": "fragment"
    }
   },
   "outputs": [
    {
     "data": {
      "text/plain": [
       "True"
      ]
     },
     "execution_count": 83,
     "metadata": {},
     "output_type": "execute_result"
    }
   ],
   "source": [
    "# Check if a key is  in a dictionnary. \n",
    "'sun' in earth"
   ]
  },
  {
   "cell_type": "code",
   "execution_count": 88,
   "metadata": {
    "slideshow": {
     "slide_type": "fragment"
    }
   },
   "outputs": [
    {
     "data": {
      "text/plain": [
       "dict_items([('sun', 'yellow'), ('sky', 'blue'), ('tree', 'green')])"
      ]
     },
     "execution_count": 88,
     "metadata": {},
     "output_type": "execute_result"
    }
   ],
   "source": [
    "earth.items()"
   ]
  },
  {
   "cell_type": "code",
   "execution_count": 97,
   "metadata": {
    "slideshow": {
     "slide_type": "subslide"
    }
   },
   "outputs": [
    {
     "data": {
      "text/plain": [
       "True"
      ]
     },
     "execution_count": 97,
     "metadata": {},
     "output_type": "execute_result"
    }
   ],
   "source": [
    "# Loop on a dictionnary and print values\n",
    "\"blue\" in earth.values()"
   ]
  },
  {
   "cell_type": "code",
   "execution_count": 92,
   "metadata": {
    "slideshow": {
     "slide_type": "subslide"
    }
   },
   "outputs": [
    {
     "data": {
      "text/plain": [
       "{'sky': 'blue', 'sun': 'pink', 'tree': 'green', 'water': 'blue'}"
      ]
     },
     "execution_count": 92,
     "metadata": {},
     "output_type": "execute_result"
    }
   ],
   "source": [
    "earth[\"sun\"]=\"pink\"\n",
    "earth[\"water\"]=\"blue\"\n",
    "\n",
    "earth"
   ]
  },
  {
   "cell_type": "code",
   "execution_count": null,
   "metadata": {
    "collapsed": true,
    "slideshow": {
     "slide_type": "subslide"
    }
   },
   "outputs": [],
   "source": [
    "# Fallback to a value if key does not exist\n",
    "d.get(\"house\",\"black\")"
   ]
  },
  {
   "cell_type": "markdown",
   "metadata": {
    "slideshow": {
     "slide_type": "slide"
    }
   },
   "source": [
    "## Sets\n",
    "A set is an unordered “bag” of unique values."
   ]
  },
  {
   "cell_type": "code",
   "execution_count": 109,
   "metadata": {
    "slideshow": {
     "slide_type": "fragment"
    }
   },
   "outputs": [
    {
     "name": "stdout",
     "output_type": "stream",
     "text": [
      "{'orange', 'dqsdqsd', 'pomme', 'banane'}\n",
      "orange\n",
      "dqsdqsd\n",
      "pomme\n",
      "banane\n"
     ]
    }
   ],
   "source": [
    "panier = ['pomme', 'orange', 'pomme', 'banane', 'orange', 'banane']\n",
    "panier = set(panier)\n",
    "panier.add(\"dqsdqsd\")\n",
    "print(panier)\n",
    "for element in panier:\n",
    "    print(element)"
   ]
  },
  {
   "cell_type": "code",
   "execution_count": 110,
   "metadata": {
    "slideshow": {
     "slide_type": "fragment"
    }
   },
   "outputs": [
    {
     "data": {
      "text/plain": [
       "{4, 30, 51, 76, 127, 195}"
      ]
     },
     "execution_count": 110,
     "metadata": {},
     "output_type": "execute_result"
    }
   ],
   "source": [
    "a_set = {2, 4, 5, 9, 12, 21, 30, 51, 76, 127, 195}\n",
    "b_set = {1, 2, 3, 5, 6, 8, 9, 12, 15, 17, 18, 21}\n",
    "# New set with elements common to the set and all others.\n",
    "a_set.intersection(b_set) \n",
    "# new set with elements in the set that are not in the others.\n",
    "a_set.difference(b_set) "
   ]
  },
  {
   "cell_type": "markdown",
   "metadata": {
    "slideshow": {
     "slide_type": "slide"
    }
   },
   "source": [
    "## Classes"
   ]
  },
  {
   "cell_type": "code",
   "execution_count": 117,
   "metadata": {
    "slideshow": {
     "slide_type": "subslide"
    }
   },
   "outputs": [
    {
     "data": {
      "text/plain": [
       "5.315072906367325"
      ]
     },
     "execution_count": 117,
     "metadata": {},
     "output_type": "execute_result"
    }
   ],
   "source": [
    "import math\n",
    "\n",
    "class Complex:\n",
    "    \"\"\"Classe représentant un nombre complexe\"\"\"\n",
    "    def __init__(self, realpart, imagpart):\n",
    "        \"\"\"Constructeur de notre classe\"\"\"\n",
    "        self.r = realpart\n",
    "        self.i = imagpart\n",
    "    def __add__(self, other):\n",
    "        \"Méthode spéciale pour réutiliser le + de python\"\n",
    "        return Complex(self.r + other.r,self.i + other.i)\n",
    "    \n",
    "    def __repr__(self):\n",
    "        \"\"\"Représentation de notre objet par l'interpréteur\"\"\"\n",
    "        return \"{} + i{}\".format(self.r,self.i)\n",
    "    \n",
    "    def module(self):\n",
    "        \"\"\"Affiche le module du nombre complexe\"\"\"\n",
    "        return (math.sqrt(self.r**2+self.i**2))\n",
    "\n",
    "x = Complex(3.0, -4.5)\n",
    "y = Complex(1.0, 1.0)\n",
    "z = x+y\n",
    "z.module()"
   ]
  },
  {
   "cell_type": "code",
   "execution_count": 119,
   "metadata": {
    "slideshow": {
     "slide_type": "slide"
    }
   },
   "outputs": [
    {
     "name": "stdout",
     "output_type": "stream",
     "text": [
      "True\n"
     ]
    },
    {
     "data": {
      "text/plain": [
       "2"
      ]
     },
     "execution_count": 119,
     "metadata": {},
     "output_type": "execute_result"
    }
   ],
   "source": [
    "# Exemple de conteneur\n",
    "class Panier():\n",
    "    nbpanier = 0\n",
    "    def __init__(self, value=()): # Émulation du constructeur de list\n",
    "        self.contenu = [element for element in value.split(',')]\n",
    "        Panier.nbpanier +=1\n",
    "    def __len__(self): # Sera utile pour les tests\n",
    "        return len(self.contenu)\n",
    "    def __getitem__(self, key):\n",
    "        return self.contenu[key]\n",
    "    def __setitem__(self, key, value):\n",
    "        self.contenu[key] = value\n",
    "    def __delitem__(self, key):\n",
    "        del self.contenu[key]\n",
    "    def __contains__(self, value):\n",
    "        return value in self.contenu\n",
    "\n",
    "monpanier = Panier(\"banane,pomme\")\n",
    "tonpanier = Panier(\"abricot,fraise\")\n",
    "\n",
    "len(monpanier)\n",
    "monpanier[0]\n",
    "print(\"banane\" in monpanier)\n",
    "Panier.nbpanier"
   ]
  },
  {
   "cell_type": "markdown",
   "metadata": {
    "slideshow": {
     "slide_type": "slide"
    }
   },
   "source": [
    "## Flow control\n",
    "If, else, while, try, except ..."
   ]
  },
  {
   "cell_type": "code",
   "execution_count": 120,
   "metadata": {
    "slideshow": {
     "slide_type": "subslide"
    }
   },
   "outputs": [
    {
     "name": "stdout",
     "output_type": "stream",
     "text": [
      "division by zero\n"
     ]
    }
   ],
   "source": [
    "try:\n",
    "    3/0\n",
    "except Exception as e:\n",
    "    print(e)"
   ]
  },
  {
   "cell_type": "code",
   "execution_count": 121,
   "metadata": {
    "slideshow": {
     "slide_type": "subslide"
    }
   },
   "outputs": [
    {
     "name": "stdout",
     "output_type": "stream",
     "text": [
      "Enter an integer : 12\n",
      "No, it is a little higher than that\n",
      "Enter an integer : 24\n",
      "No, it is a little lower than that\n",
      "Enter an integer : 23\n",
      "No, it is a little lower than that\n",
      "Congratulations, you guessed it.\n",
      "(but you do not win any prize!)\n"
     ]
    }
   ],
   "source": [
    "number = 23\n",
    "guess = 0\n",
    "while guess is not number:\n",
    "    guess = int(input('Enter an integer : '))\n",
    "    if guess < number:\n",
    "        print('No, it is a little higher than that')\n",
    "    else:\n",
    "        print('No, it is a little lower than that')\n",
    "\n",
    "print('Congratulations, you guessed it.')\n",
    "print('(but you do not win any prize!)')"
   ]
  },
  {
   "cell_type": "markdown",
   "metadata": {
    "slideshow": {
     "slide_type": "skip"
    }
   },
   "source": [
    "## Decorateurs\n",
    "Un moyen simple de modifier le comportement « par défaut » de fonctions."
   ]
  },
  {
   "cell_type": "code",
   "execution_count": null,
   "metadata": {
    "collapsed": true,
    "slideshow": {
     "slide_type": "skip"
    }
   },
   "outputs": [],
   "source": [
    "def cache(function):\n",
    "  memo = {}\n",
    "  def wrapper(*args):\n",
    "    if args in memo:\n",
    "      return memo[args]\n",
    "    else:\n",
    "      rv = function(*args)\n",
    "      memo[args] = rv\n",
    "      return rv\n",
    "  return wrapper\n",
    "\n",
    "@cache\n",
    "def fibonacci(n):\n",
    "  if n < 2: return n\n",
    "  return fibonacci(n - 1) + fibonacci(n - 2)\n",
    "\n",
    "\n",
    "fibonacci(37)"
   ]
  },
  {
   "cell_type": "markdown",
   "metadata": {
    "slideshow": {
     "slide_type": "slide"
    }
   },
   "source": [
    "# Les merveilles de la bibliothèque standard"
   ]
  },
  {
   "cell_type": "markdown",
   "metadata": {
    "slideshow": {
     "slide_type": "slide"
    }
   },
   "source": [
    "## Collections\n",
    "Specialized container datatypes providing alternatives to Python’s general purpose built-in containers, dict, list, set, and tuple.  \n",
    "[Documentation](https://docs.python.org/3.6/library/collections.html)"
   ]
  },
  {
   "cell_type": "code",
   "execution_count": 124,
   "metadata": {
    "slideshow": {
     "slide_type": "subslide"
    }
   },
   "outputs": [
    {
     "name": "stdout",
     "output_type": "stream",
     "text": [
      "Counter({'cherry': 3, 'banana': 2, 'apple': 2, 'orange': 1})\n",
      "[('cherry', 3), ('banana', 2)]\n"
     ]
    }
   ],
   "source": [
    "import collections\n",
    "count = collections.Counter([\"banana\",\"apple\",\"apple\",\"orange\",\"cherry\",\"cherry\",\"banana\",\"cherry\"])\n",
    "print(count)\n",
    "print(count.most_common(2))\n"
   ]
  },
  {
   "cell_type": "code",
   "execution_count": 125,
   "metadata": {
    "slideshow": {
     "slide_type": "subslide"
    }
   },
   "outputs": [
    {
     "name": "stdout",
     "output_type": "stream",
     "text": [
      "OrderedDict([('pear', 1), ('orange', 2), ('banana', 3), ('apple', 4)])\n"
     ]
    }
   ],
   "source": [
    "d = {'banana': 3, 'apple': 4, 'pear': 1, 'orange': 2}\n",
    "d = collections.OrderedDict(sorted(d.items(), key=lambda t: t[1]))\n",
    "print(d)"
   ]
  },
  {
   "cell_type": "markdown",
   "metadata": {
    "slideshow": {
     "slide_type": "slide"
    }
   },
   "source": [
    "## Regex\n",
    "Les expressions régulières sont un puissant moyen de rechercher et d'isoler des expressions d'une chaîne de caractères."
   ]
  },
  {
   "cell_type": "code",
   "execution_count": 132,
   "metadata": {
    "slideshow": {
     "slide_type": "fragment"
    }
   },
   "outputs": [
    {
     "data": {
      "text/plain": [
       "['34']"
      ]
     },
     "execution_count": 132,
     "metadata": {},
     "output_type": "execute_result"
    }
   ],
   "source": [
    "import re\n",
    "\n",
    "text = \"Bonjour je m'appelle Lucas 34 et mon numéro de téléphone lucasberbesson@fabdev.fr est le \"\n",
    "m = re.findall(r'\\d+', text)\n",
    "m"
   ]
  },
  {
   "cell_type": "markdown",
   "metadata": {
    "slideshow": {
     "slide_type": "slide"
    }
   },
   "source": [
    "## Time & Datetime\n",
    "Contrôler le temps. [documentation](https://docs.python.org/3/library/datetime.html)"
   ]
  },
  {
   "cell_type": "code",
   "execution_count": 140,
   "metadata": {
    "slideshow": {
     "slide_type": "subslide"
    }
   },
   "outputs": [
    {
     "name": "stdout",
     "output_type": "stream",
     "text": [
      "2017-11-13 11:40:02.241084\n",
      "40\n"
     ]
    }
   ],
   "source": [
    "# datetime(année, mois, jour, heure, minute, seconde, microseconde, fuseau horaire)\n",
    "import locale\n",
    "locale.setlocale(locale.LC_TIME, \"fr_FR\")\n",
    "\n",
    "from datetime import datetime\n",
    "maintenant = datetime.now()\n",
    "print(maintenant)\n",
    "print(maintenant.minute)"
   ]
  },
  {
   "cell_type": "code",
   "execution_count": 142,
   "metadata": {
    "slideshow": {
     "slide_type": "subslide"
    }
   },
   "outputs": [
    {
     "data": {
      "text/plain": [
       "datetime.datetime(2018, 4, 13, 11, 41, 10, 207848)"
      ]
     },
     "execution_count": 142,
     "metadata": {},
     "output_type": "execute_result"
    }
   ],
   "source": [
    "# Find next friday the 13th\n",
    "today = datetime.datetime.today()\n",
    "\n",
    "while not (today.day == 13 and today.weekday() == 4):\n",
    "    today += datetime.timedelta(days=1)\n",
    "today"
   ]
  },
  {
   "cell_type": "markdown",
   "metadata": {
    "slideshow": {
     "slide_type": "slide"
    }
   },
   "source": [
    "## Random\n",
    "Générer de l'aléatoire. [Documentation](https://docs.python.org/3.6/library/random.html)\n",
    "\n",
    "The random module actually produces pseudorandom (that is, deterministic) num‐ bers based on an internal state that you can set with random.seed if you want to get reproducible results\n"
   ]
  },
  {
   "cell_type": "code",
   "execution_count": 148,
   "metadata": {
    "slideshow": {
     "slide_type": "fragment"
    }
   },
   "outputs": [
    {
     "name": "stdout",
     "output_type": "stream",
     "text": [
      "11\n",
      "ça\n",
      "['va', 'comment', 'ça', 'Bonjour']\n",
      "0.5714025946899135\n",
      "0.5714025946899135\n"
     ]
    }
   ],
   "source": [
    "import random\n",
    "#un nombre aléatoire entre \n",
    "entier = random.randint(1, 100)\n",
    "print(entier)\n",
    "\n",
    "\n",
    "cadavre_exquis = 'Bonjour comment ça va'.split()\n",
    "random_word = random.choice(cadavre_exquis)\n",
    "random.shuffle(cadavre_exquis)\n",
    "print(random_word)\n",
    "print(cadavre_exquis)\n",
    "\n",
    "random.seed(10) \n",
    "print(random.random())\n",
    "random.seed(10)\n",
    "print(random.random())\n",
    "# set the seed to 10\n",
    "# 0.57140259469\n",
    "# reset the seed to 10\n",
    "# 0.57140259469 again"
   ]
  },
  {
   "cell_type": "markdown",
   "metadata": {
    "slideshow": {
     "slide_type": "slide"
    }
   },
   "source": [
    "## Open\n",
    "Open file and return a corresponding file object. If the file cannot be opened, an OSError is raised."
   ]
  },
  {
   "cell_type": "code",
   "execution_count": 149,
   "metadata": {
    "slideshow": {
     "slide_type": "fragment"
    }
   },
   "outputs": [
    {
     "name": "stdout",
     "output_type": "stream",
     "text": [
      "Vivamus suscipit tortor eget felis porttitor volutpat. Curabitur aliquet quam id dui posuere blandit. Donec sollicitudin molestie malesuada. Sed porttitor lectus nibh. Donec sollicitudin molestie malesuada. Curabitur non nulla sit amet nisl tempus convallis quis ac lectus. Nulla quis lorem ut libero malesuada feugiat. Quisque velit nisi, pretium ut lacinia in, elementum id enim. Vivamus magna justo, lacinia eget consectetur sed, convallis at tellus. Vivamus magna justo, lacinia eget consectetur sed, convallis at tellus. Curabitur arcu erat, accumsan id imperdiet et, porttitor at sem. Proin eget tortor risus. Sed porttitor lectus nibh. Mauris blandit aliquet elit, eget tincidunt nibh pulvinar a. Nulla porttitor accumsan tincidunt. Lorem ipsum dolor sit amet, consectetur adipiscing elit. Curabitur non nulla sit amet nisl tempus convallis quis ac lectus. Quisque velit nisi, pretium ut lacinia in, elementum id enim.\n",
      "\n",
      "Curabitur non nulla sit amet nisl tempus convallis quis ac lectus. Nulla porttitor accumsan tincidunt. Lorem ipsum dolor sit amet, consectetur adipiscing elit. Lorem ipsum dolor sit amet, consectetur adipiscing elit. Sed porttitor lectus nibh. Donec sollicitudin molestie malesuada. Mauris blandit aliquet elit, eget tincidunt nibh pulvinar a. Proin eget tortor risus. Cras ultricies ligula sed magna dictum porta. Sed porttitor lectus nibh. Praesent sapien massa, convallis a pellentesque nec, egestas non nisi. Pellentesque in ipsum id orci porta dapibus. Praesent sapien massa, convallis a pellentesque nec, egestas non nisi. Praesent sapien massa, convallis a pellentesque nec, egestas non nisi. Donec rutrum congue leo eget malesuada. Curabitur arcu erat, accumsan id imperdiet et, porttitor at sem. Cras ultricies ligula sed magna dictum porta. Praesent sapien massa, convallis a pellentesque nec, egestas non nisi.\n",
      "\n",
      "Curabitur non nulla sit amet nisl tempus convallis quis ac lectus. Curabitur arcu erat, accumsan id imperdiet et, porttitor at sem. Quisque velit nisi, pretium ut lacinia in, elementum id enim. Vivamus suscipit tortor eget felis porttitor volutpat. Nulla porttitor accumsan tincidunt. Donec rutrum congue leo eget malesuada. Vivamus suscipit tortor eget felis porttitor volutpat. Proin eget tortor risus. Nulla porttitor accumsan tincidunt. Cras ultricies ligula sed magna dictum porta. Mauris blandit aliquet elit, eget tincidunt nibh pulvinar a. Quisque velit nisi, pretium ut lacinia in, elementum id enim. Donec rutrum congue leo eget malesuada. Curabitur arcu erat, accumsan id imperdiet et, porttitor at sem. Nulla porttitor accumsan tincidunt. Pellentesque in ipsum id orci porta dapibus. Curabitur non nulla sit amet nisl tempus convallis quis ac lectus. Donec sollicitudin molestie malesuada.\n",
      "\n",
      "Vestibulum ac diam sit amet quam vehicula elementum sed sit amet dui. Praesent sapien massa, convallis a pellentesque nec, egestas non nisi. Curabitur aliquet quam id dui posuere blandit. Curabitur aliquet quam id dui posuere blandit. Mauris blandit aliquet elit, eget tincidunt nibh pulvinar a. Donec sollicitudin molestie malesuada. Curabitur non nulla sit amet nisl tempus convallis quis ac lectus. Pellentesque in ipsum id orci porta dapibus. Curabitur arcu erat, accumsan id imperdiet et, porttitor at sem. Curabitur non nulla sit amet nisl tempus convallis quis ac lectus. Vivamus magna justo, lacinia eget consectetur sed, convallis at tellus. Vivamus suscipit tortor eget felis porttitor volutpat. Sed porttitor lectus nibh. Curabitur non nulla sit amet nisl tempus convallis quis ac lectus. Quisque velit nisi, pretium ut lacinia in, elementum id enim. Vivamus magna justo, lacinia eget consectetur sed, convallis at tellus. Mauris blandit aliquet elit, eget tincidunt nibh pulvinar a. Cras ultricies ligula sed magna dictum porta.\n",
      "\n",
      "Nulla porttitor accumsan tincidunt. Vestibulum ante ipsum primis in faucibus orci luctus et ultrices posuere cubilia Curae; Donec velit neque, auctor sit amet aliquam vel, ullamcorper sit amet ligula. Nulla quis lorem ut libero malesuada feugiat. Quisque velit nisi, pretium ut lacinia in, elementum id enim. Donec sollicitudin molestie malesuada. Lorem ipsum dolor sit amet, consectetur adipiscing elit. Cras ultricies ligula sed magna dictum porta. Proin eget tortor risus. Donec rutrum congue leo eget malesuada. Pellentesque in ipsum id orci porta dapibus. Vivamus suscipit tortor eget felis porttitor volutpat. Nulla quis lorem ut libero malesuada feugiat. Proin eget tortor risus. Vivamus magna justo, lacinia eget consectetur sed, convallis at tellus. Proin eget tortor risus. Pellentesque in ipsum id orci porta dapibus. Cras ultricies ligula sed magna dictum porta. Vivamus magna justo, lacinia eget consectetur sed, convallis at tellus.\n"
     ]
    }
   ],
   "source": [
    "with open('./data/demo.txt') as f:\n",
    "    print(f.read())"
   ]
  },
  {
   "cell_type": "markdown",
   "metadata": {
    "slideshow": {
     "slide_type": "slide"
    }
   },
   "source": [
    "## Logs\n",
    "This module defines functions and classes which implement a flexible event logging system for applications and libraries.  \n",
    "Better than prints for you application events. \n",
    "[Documentation](https://docs.python.org/3/library/logging.html)"
   ]
  },
  {
   "cell_type": "code",
   "execution_count": 150,
   "metadata": {
    "collapsed": true,
    "slideshow": {
     "slide_type": "fragment"
    }
   },
   "outputs": [],
   "source": [
    "import logging\n",
    "\n",
    "logging.basicConfig(format='%(asctime)s %(message)s',filename='./logs/example.log',level=logging.DEBUG)\n",
    "logging.debug('This message should go to the log file')\n",
    "logging.info('So should this')\n",
    "logging.warning('And this, too')"
   ]
  },
  {
   "cell_type": "markdown",
   "metadata": {
    "slideshow": {
     "slide_type": "slide"
    }
   },
   "source": [
    "## OS\n",
    "This module provides a portable way of using operating system dependent functionality.  \n",
    "If you just want to read or write a file see open(), if you want to manipulate paths, see the os.path module, and if you want to read all the lines in all the files on the command line see the fileinput module.   \n",
    "For creating temporary files and directories see the tempfile module, and for high-level file and directory handling see the shutil module. [Documentation](https://docs.python.org/3.6/library/os.html)"
   ]
  },
  {
   "cell_type": "code",
   "execution_count": 151,
   "metadata": {
    "slideshow": {
     "slide_type": "subslide"
    }
   },
   "outputs": [
    {
     "name": "stdout",
     "output_type": "stream",
     "text": [
      ".cache --> .cache\n",
      ".DS_Store --> .DS_Store\n",
      ".git --> .git\n",
      ".gitignore --> .gitignore\n",
      ".idea --> .idea\n",
      ".ipynb_checkpoints --> .ipynb_checkpoints\n",
      "Algorithms.ipynb --> Algorithms.ipynb\n",
      "Cool_libraries --> Cool_libraries\n",
      "coucou_coucou.txt --> coucou_coucou.txt\n",
      "data --> data\n",
      "Discover Python.ipynb --> Discover_Python.ipynb\n",
      "docs dsqkjhkqjshd --> docs_dsqkjhkqjshd\n",
      "example.db --> example.db\n",
      "Improve_python.ipynb --> Improve_python.ipynb\n",
      "logs --> logs\n",
      "Play.ipynb --> Play.ipynb\n",
      "README.md --> README.md\n",
      "requirements.txt --> requirements.txt\n",
      "tests --> tests\n"
     ]
    }
   ],
   "source": [
    "# Remplacer récursivement tous les \" \" par des \"_\" dans le dossier courant\n",
    "import os\n",
    "before = os.listdir(\".\")\n",
    "for path, folders, files in os.walk(\".\"):\n",
    "    for file in files:\n",
    "        os.rename(os.path.join(path,file), os.path.join(path, file.replace(' ', '_')))\n",
    "    for folder in folders:\n",
    "        new_name = folder.replace(' ', '_')\n",
    "        os.rename(os.path.join(path, folder), os.path.join(path, new_name))\n",
    "\n",
    "after = os.listdir(\".\")\n",
    "for before,after in zip(before,after):\n",
    "    print(before,'-->',after)"
   ]
  },
  {
   "cell_type": "markdown",
   "metadata": {
    "slideshow": {
     "slide_type": "slide"
    }
   },
   "source": [
    "## JSON\n",
    "Easy to use JSON API.  [Documentation](https://docs.python.org/3.6/library/json.html)"
   ]
  },
  {
   "cell_type": "code",
   "execution_count": null,
   "metadata": {
    "collapsed": true,
    "slideshow": {
     "slide_type": "fragment"
    }
   },
   "outputs": [],
   "source": [
    "\n",
    "import json\n",
    "# Json to string\n",
    "print(json.dumps({'4': 5, '6': 7}, sort_keys=True, indent=4))"
   ]
  },
  {
   "cell_type": "code",
   "execution_count": null,
   "metadata": {
    "collapsed": true,
    "slideshow": {
     "slide_type": "subslide"
    }
   },
   "outputs": [],
   "source": [
    "json_string = '{\"first_name\": \"Guido\", \"last_name\":\"Rossum\"}'\n",
    "# String to json\n",
    "parsed_json = json.loads(json_string)\n",
    "print(parsed_json['first_name'])\n"
   ]
  },
  {
   "cell_type": "code",
   "execution_count": 162,
   "metadata": {},
   "outputs": [
    {
     "name": "stdout",
     "output_type": "stream",
     "text": [
      "Sergey Ryazanskiy is in ISS\n",
      "Randy Bresnik is in ISS\n",
      "Paolo Nespoli is in ISS\n",
      "Alexander Misurkin is in ISS\n",
      "Mark Vande Hei is in ISS\n",
      "Joe Acaba is in ISS\n"
     ]
    }
   ],
   "source": [
    "# Requests is a library to get web page contents inside our code\n",
    "# This script gets some json information on an API and prints it\n",
    "import requests\n",
    "\n",
    "astros = requests.get('http://api.open-notify.org/astros.json').json()\n",
    "for people in astros[\"people\"]:\n",
    "    print(\"{} is in {}\".format(people['name'],people['craft']))"
   ]
  },
  {
   "cell_type": "markdown",
   "metadata": {
    "slideshow": {
     "slide_type": "slide"
    }
   },
   "source": [
    "## CSV\n",
    "The csv module implements classes to read and write tabular data in CSV format. \n",
    "[Documentation](https://docs.python.org/3/library/csv.html)"
   ]
  },
  {
   "cell_type": "code",
   "execution_count": 167,
   "metadata": {
    "slideshow": {
     "slide_type": "subslide"
    }
   },
   "outputs": [
    {
     "name": "stdout",
     "output_type": "stream",
     "text": [
      "['Name', 'Quantity']\n",
      "['Bananas', '3']\n",
      "['Oranges', '4']\n",
      "['Apples', '5']\n",
      "['Name', 'Quantity']\n",
      "['Bananas', '3']\n",
      "['Oranges', '4']\n",
      "['Apples', '5']\n",
      "['Name', 'Quantity']\n",
      "['Bananas', '3']\n",
      "['Oranges', '4']\n",
      "['Apples', '5']\n",
      "['Name', 'Quantity']\n",
      "['Bananas', '3']\n",
      "['Oranges', '4']\n",
      "['Apples', '5']\n",
      "['Name', 'Quantity']\n",
      "['Bananas', '3']\n",
      "['Oranges', '4']\n",
      "['Apples', '5']\n"
     ]
    }
   ],
   "source": [
    "import csv\n",
    " \n",
    "# write file\n",
    "with open('./data/basket.csv', 'a') as csvfile:\n",
    "    filewriter = csv.writer(csvfile, delimiter=',')\n",
    "    filewriter.writerow(['Name', 'Quantity'])\n",
    "    filewriter.writerow(['Bananas', 3])\n",
    "    filewriter.writerow(['Oranges', 4])\n",
    "    filewriter.writerow(['Apples', 5])\n",
    "    \n",
    "    \n",
    "# read file\n",
    "with open('./data/basket.csv', 'r+') as f:\n",
    "    reader = csv.reader(f)\n",
    "    # read file row by row\n",
    "    for row in reader:\n",
    "        print(row)"
   ]
  },
  {
   "cell_type": "markdown",
   "metadata": {
    "slideshow": {
     "slide_type": "slide"
    }
   },
   "source": [
    "## Math\n",
    "For Maths ..."
   ]
  },
  {
   "cell_type": "code",
   "execution_count": null,
   "metadata": {
    "collapsed": true,
    "slideshow": {
     "slide_type": "fragment"
    }
   },
   "outputs": [],
   "source": [
    "import math\n",
    "print(math.cos(math.pi))\n",
    "print(math.sqrt(25))"
   ]
  },
  {
   "cell_type": "markdown",
   "metadata": {
    "slideshow": {
     "slide_type": "slide"
    }
   },
   "source": [
    "## smtplib\n",
    "The smtplib module defines an SMTP client session object that can be used to send mail to any Internet machine with an SMTP or ESMTP listener daemon.  \n",
    "[Documentation](https://docs.python.org/3.6/library/smtplib.html)"
   ]
  },
  {
   "cell_type": "raw",
   "metadata": {
    "collapsed": true,
    "slideshow": {
     "slide_type": "subslide"
    }
   },
   "source": [
    "import smtplib\n",
    " \n",
    "server = smtplib.SMTP('smtp.gmail.com', 587)\n",
    "server.starttls()\n",
    "server.login(\"YOUR EMAIL ADDRESS\", \"YOUR PASSWORD\")\n",
    " \n",
    "msg = \"YOUR MESSAGE!\"\n",
    "server.sendmail(\"YOUR EMAIL ADDRESS\", \"THE EMAIL ADDRESS TO SEND TO\", msg)\n",
    "server.quit()"
   ]
  },
  {
   "cell_type": "markdown",
   "metadata": {
    "slideshow": {
     "slide_type": "slide"
    }
   },
   "source": [
    "## sqlite3 \n",
    "SQLite is a C library that provides a lightweight disk-based database that doesn’t require a separate server process and allows accessing the database using a nonstandard variant of the SQL query language. [Documentation](https://docs.python.org/3.6/library/sqlite3.html)"
   ]
  },
  {
   "cell_type": "code",
   "execution_count": 168,
   "metadata": {
    "collapsed": true,
    "slideshow": {
     "slide_type": "subslide"
    }
   },
   "outputs": [],
   "source": [
    "import sqlite3\n",
    "conn = sqlite3.connect('example.db')\n",
    "c = conn.cursor()\n",
    "# Create table\n",
    "try:\n",
    "    c.execute('''CREATE TABLE stocks\n",
    "                 (date text, trans text, symbol text,qty real, price real)''')\n",
    "    # Insert a row of data\n",
    "    c.execute(\"INSERT INTO stocks VALUES ('2017-04-26','BUY','BANANA', 100,35.14)\")\n",
    "except:\n",
    "    pass\n",
    "# Larger example that inserts many records at a time\n",
    "purchases = [('2006-03-28', 'BUY', 'APPLE', 1000, 45.00),\n",
    "             ('2006-04-05', 'BUY', 'ORANGE', 1000, 72.00),\n",
    "             ('2006-04-06', 'SELL', 'CHERRY', 500, 53.00),\n",
    "            ]\n",
    "c.executemany('INSERT INTO stocks VALUES (?,?,?,?,?)', purchases)\n",
    "# Save (commit) the changes\n",
    "conn.commit()\n",
    "# We can also close the connection if we are done with it.\n",
    "# Just be sure any changes have been committed or they will be lost.\n",
    "conn.close()"
   ]
  },
  {
   "cell_type": "code",
   "execution_count": 169,
   "metadata": {
    "slideshow": {
     "slide_type": "subslide"
    }
   },
   "outputs": [
    {
     "name": "stdout",
     "output_type": "stream",
     "text": [
      "('2017-04-26', 'BUY', 'BANANA', 100.0, 35.14)\n",
      "('2006-03-28', 'BUY', 'APPLE', 1000.0, 45.0)\n",
      "('2006-03-28', 'BUY', 'APPLE', 1000.0, 45.0)\n",
      "('2006-03-28', 'BUY', 'APPLE', 1000.0, 45.0)\n",
      "('2006-03-28', 'BUY', 'APPLE', 1000.0, 45.0)\n",
      "('2006-03-28', 'BUY', 'APPLE', 1000.0, 45.0)\n",
      "('2006-04-06', 'SELL', 'CHERRY', 500.0, 53.0)\n",
      "('2006-04-06', 'SELL', 'CHERRY', 500.0, 53.0)\n",
      "('2006-04-06', 'SELL', 'CHERRY', 500.0, 53.0)\n",
      "('2006-04-06', 'SELL', 'CHERRY', 500.0, 53.0)\n",
      "('2006-04-06', 'SELL', 'CHERRY', 500.0, 53.0)\n",
      "('2006-04-05', 'BUY', 'ORANGE', 1000.0, 72.0)\n",
      "('2006-04-05', 'BUY', 'ORANGE', 1000.0, 72.0)\n",
      "('2006-04-05', 'BUY', 'ORANGE', 1000.0, 72.0)\n",
      "('2006-04-05', 'BUY', 'ORANGE', 1000.0, 72.0)\n",
      "('2006-04-05', 'BUY', 'ORANGE', 1000.0, 72.0)\n"
     ]
    }
   ],
   "source": [
    "conn = sqlite3.connect('example.db')\n",
    "c = conn.cursor()\n",
    "for row in c.execute('SELECT * FROM stocks ORDER BY price'):\n",
    "    print(row)"
   ]
  },
  {
   "cell_type": "markdown",
   "metadata": {
    "collapsed": true
   },
   "source": [
    "## Mini http server"
   ]
  },
  {
   "cell_type": "code",
   "execution_count": null,
   "metadata": {
    "collapsed": true
   },
   "outputs": [],
   "source": [
    "# Python 3.x\n",
    "python3 -m http.server\n",
    "\n",
    "# Python 2.x\n",
    "python -m SimpleHTTPServer 8000"
   ]
  }
 ],
 "metadata": {
  "celltoolbar": "Slideshow",
  "kernelspec": {
   "display_name": "Python 3",
   "language": "python",
   "name": "python3"
  },
  "language_info": {
   "codemirror_mode": {
    "name": "ipython",
    "version": 3
   },
   "file_extension": ".py",
   "mimetype": "text/x-python",
   "name": "python",
   "nbconvert_exporter": "python",
   "pygments_lexer": "ipython3",
   "version": "3.5.1"
  }
 },
 "nbformat": 4,
 "nbformat_minor": 2
}
