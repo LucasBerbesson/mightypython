{
 "cells": [
  {
   "cell_type": "markdown",
   "metadata": {
    "deletable": true,
    "editable": true,
    "slideshow": {
     "slide_type": "slide"
    }
   },
   "source": [
    "## Requests : super simple requests\n",
    "Warning: Recreational use of other HTTP libraries may result in dangerous side-effects, including: security vulnerabilities, verbose code, reinventing the wheel, constantly reading documentation, depression, headaches, or even death."
   ]
  },
  {
   "cell_type": "code",
   "execution_count": null,
   "metadata": {
    "collapsed": false,
    "deletable": true,
    "editable": true,
    "slideshow": {
     "slide_type": "subslide"
    }
   },
   "outputs": [],
   "source": [
    "import requests\n",
    "r = requests.get('https://api.github.com/users/LucasBerbesson/repos')\n",
    "data = r.json()\n",
    "\n",
    "for element in data:\n",
    "    print(element['language'],\":\", element['clone_url'])"
   ]
  },
  {
   "cell_type": "markdown",
   "metadata": {
    "deletable": true,
    "editable": true,
    "slideshow": {
     "slide_type": "slide"
    }
   },
   "source": [
    "## Bottle : micro framework\n",
    "Bottle is a fast, simple and lightweight WSGI micro web-framework for Python."
   ]
  },
  {
   "cell_type": "code",
   "execution_count": null,
   "metadata": {
    "collapsed": false,
    "deletable": true,
    "editable": true,
    "slideshow": {
     "slide_type": "subslide"
    }
   },
   "outputs": [],
   "source": [
    "from bottle import route, run, template\n",
    "\n",
    "@route('/hello/<name>')\n",
    "def index(name):\n",
    "    return template('<b>Hello {{name}}</b>!', name=name)\n",
    "\n",
    "#run(host='localhost', port=8080)"
   ]
  },
  {
   "cell_type": "markdown",
   "metadata": {
    "deletable": true,
    "editable": true,
    "slideshow": {
     "slide_type": "slide"
    }
   },
   "source": [
    "## Faker : generate fake data\n",
    "Faker is a Python package that generates fake data for you.[Documentation](https://faker.readthedocs.io/en/latest/)"
   ]
  },
  {
   "cell_type": "code",
   "execution_count": null,
   "metadata": {
    "collapsed": false,
    "deletable": true,
    "editable": true,
    "slideshow": {
     "slide_type": "subslide"
    }
   },
   "outputs": [],
   "source": [
    "from faker import Faker\n",
    "f = Faker(locale=\"fr_FR\")\n",
    "name = f.name()\n",
    "postcode = f.postcode()\n",
    "email = f.email()\n",
    "city = f.city()\n",
    "color = f.hex_color()\n",
    "print(name,postcode,email,city,color)"
   ]
  },
  {
   "cell_type": "markdown",
   "metadata": {
    "deletable": true,
    "editable": true,
    "slideshow": {
     "slide_type": "slide"
    }
   },
   "source": [
    "## Jinja2 : templates\n",
    "Jinja2 is a full featured template engine for Python.[Documentation](http://jinja.pocoo.org/docs/)"
   ]
  },
  {
   "cell_type": "code",
   "execution_count": null,
   "metadata": {
    "collapsed": false,
    "deletable": true,
    "editable": true,
    "slideshow": {
     "slide_type": "subslide"
    }
   },
   "outputs": [],
   "source": [
    "from jinja2 import Environment, FileSystemLoader\n",
    "\n",
    "env = Environment(loader=FileSystemLoader('templates'))\n",
    "template = env.get_template('jinja_demo.html')\n",
    "links = [\n",
    "    {\"href\":\"http://google.com\", \"caption\":\"google\"},\n",
    "    {\"href\":\"http://github.com\", \"caption\":\"github\"},\n",
    "    {\"href\":\"http://stackoverflow.com/\", \"caption\":\"Stack Overflow\"},\n",
    "    {\"href\":\"https://www.reddit.com/r/Python/\", \"caption\":\"Subreddit Python\"},\n",
    "    {\"href\":\"https://www.lafabriquediy.com/\", \"caption\":\"La Fabrique DIY\"},\n",
    "    {\"href\":\"https://www.lemonde.fr/\", \"caption\":\"Le monde\"}\n",
    "]\n",
    "result = template.render(title='Mes sites préférés', links=links)\n",
    "\n",
    "\n",
    "# to save the results\n",
    "with open(\"./templates/result.html\", \"w+\") as fh:\n",
    "    fh.write(result)"
   ]
  },
  {
   "cell_type": "markdown",
   "metadata": {
    "slideshow": {
     "slide_type": "slide"
    }
   },
   "source": [
    "# Jupyter\n",
    "The Jupyter Notebook is an open-source web application that allows you to create and share documents that contain live code, equations, visualizations and explanatory text.  \n",
    "[Documentation](http://jupyter.org/)"
   ]
  },
  {
   "cell_type": "markdown",
   "metadata": {
    "slideshow": {
     "slide_type": "slide"
    }
   },
   "source": [
    "# Sphinx\n",
    "Easy and intelligent and beautiful python documentation. [Documentation](http://www.sphinx-doc.org/en/stable/)"
   ]
  },
  {
   "cell_type": "markdown",
   "metadata": {
    "slideshow": {
     "slide_type": "skip"
    }
   },
   "source": [
    "To get **beautiful** sphinx documentation you need :\n",
    "- to write **beautiful docstrings** (check the google ones in `useful.py` to get inspired) in your python code. \n",
    "- install sphinx\n",
    "- run `sphinx-quickstart` from your `/docs` folder\n",
    "- Edit `index.rst` and create other `.rst`files if you need [ReStructuredText syntax](https://fr.wikipedia.org/wiki/ReStructuredText)\n",
    "- run `make html` "
   ]
  },
  {
   "cell_type": "markdown",
   "metadata": {
    "collapsed": false,
    "deletable": true,
    "editable": true,
    "slideshow": {
     "slide_type": "slide"
    }
   },
   "source": [
    "# BeautifulSoup : XML and HTML parser\n",
    "A Python library for pulling data out of HTML and XML files. [Documentation](https://www.crummy.com/software/BeautifulSoup/bs4/doc/)"
   ]
  },
  {
   "cell_type": "code",
   "execution_count": null,
   "metadata": {
    "collapsed": false,
    "slideshow": {
     "slide_type": "subslide"
    }
   },
   "outputs": [],
   "source": [
    "import requests\n",
    "from bs4 import BeautifulSoup\n",
    "url = \"https://www.youtube.com/channel/UCV8D6u7_jkuGf_iUvNzXpmg\"\n",
    "r = requests.get(url)\n",
    "data = r.text\n",
    "soup = BeautifulSoup(data, \"lxml\")\n",
    "for subscribe_btn in soup.find(\"span\",{\"class\":\"yt-subscription-button-subscriber-count-branded-horizontal\"}):\n",
    "    print(subscribe_btn, \"abonnés sur La Fabrique DIY\")"
   ]
  },
  {
   "cell_type": "markdown",
   "metadata": {
    "slideshow": {
     "slide_type": "slide"
    }
   },
   "source": [
    "# XML : XML parser\n",
    "Simple and efficient API for parsing and creating XML data.\n",
    "[Documentation](https://docs.python.org/3.5/library/xml.etree.elementtree.html)"
   ]
  },
  {
   "cell_type": "code",
   "execution_count": null,
   "metadata": {
    "collapsed": false,
    "slideshow": {
     "slide_type": "subslide"
    }
   },
   "outputs": [],
   "source": [
    "from IPython.core.display import display, HTML\n",
    "\n",
    "import requests\n",
    "url = \"http://www.lemonde.fr/pixels/rss_full.xml\"\n",
    "\n",
    "r = requests.get(url)\n",
    "r.encoding = 'utf-8'\n",
    "import xml.etree.ElementTree as ET\n",
    "root = ET.fromstring(r.text.encode('utf8'))\n",
    "for i,item in zip(range(5),root.iter(\"item\")):\n",
    "    if item.find('link').text:\n",
    "        display(HTML('<a href={} target=\"_blank\">{}</a>'.format(item.find('link').text, item.find('title').text)))"
   ]
  },
  {
   "cell_type": "markdown",
   "metadata": {
    "slideshow": {
     "slide_type": "slide"
    }
   },
   "source": [
    "# Pandas\n",
    "Pandas is an open source, BSD-licensed library providing high-performance, easy-to-use data structures and data analysis tools for the Python programming language.[Documentation](http://pandas.pydata.org/pandas-docs/stable/)"
   ]
  },
  {
   "cell_type": "code",
   "execution_count": null,
   "metadata": {
    "collapsed": false,
    "slideshow": {
     "slide_type": "subslide"
    }
   },
   "outputs": [],
   "source": [
    "import pandas as pd\n",
    "df = pd.read_csv('data/election-presidentielle-2017.csv', delimiter=\";\")\n",
    "print(\"Tailel du tableau: \",df.shape)\n",
    "print(df[\"Nombre de voix\"].sum(),\"personnes ont voté en Ile-de-france dimanche dernier\")\n",
    "df.head(2)\n"
   ]
  },
  {
   "cell_type": "code",
   "execution_count": null,
   "metadata": {
    "collapsed": false,
    "slideshow": {
     "slide_type": "subslide"
    }
   },
   "outputs": [],
   "source": [
    "# Keep interesting columns\n",
    "df = df[['Nom Candidat','Commune','rapportexprime']]\n",
    "print(\"Dataset contains {} communes\".format(df['Commune'].nunique()))\n",
    "# Only keep Paris districts\n",
    "df = df[df['Commune'].str.contains(\"Paris \")]\n",
    "# Change datagrame index\n",
    "resultats = df.set_index('Nom Candidat')\n",
    "# Print last 10 rows\n",
    "resultats.tail(5)"
   ]
  },
  {
   "cell_type": "markdown",
   "metadata": {
    "slideshow": {
     "slide_type": "slide"
    }
   },
   "source": [
    "# Matplotlib\n",
    "MATLAB-like plotting framework.[Documentation](http://matplotlib.org/)"
   ]
  },
  {
   "cell_type": "code",
   "execution_count": null,
   "metadata": {
    "collapsed": false,
    "slideshow": {
     "slide_type": "subslide"
    }
   },
   "outputs": [],
   "source": [
    "import matplotlib.pyplot as plt\n",
    "import matplotlib\n",
    "# Group by commune\n",
    "grouped = resultats.groupby(['Commune'])\n",
    "# Prepare giant plot\n",
    "fig, axs = plt.subplots(figsize=(20,30), nrows=5, ncols=4)\n",
    "for (name, group), ax in zip(grouped, axs.flat):\n",
    "    group = group.sort_values(by=\"rapportexprime\")\n",
    "    group.plot.bar(y=\"rapportexprime\",title=name,ax=ax)\n",
    "\n",
    "plt.subplots_adjust(hspace=1)\n",
    "plt.show()"
   ]
  },
  {
   "cell_type": "markdown",
   "metadata": {
    "slideshow": {
     "slide_type": "slide"
    }
   },
   "source": [
    "# Scikit learn\n",
    "Simple and efficient tools for data mining and data analysis [Documentation](http://scikit-learn.org/stable/)"
   ]
  },
  {
   "cell_type": "code",
   "execution_count": null,
   "metadata": {
    "collapsed": false,
    "slideshow": {
     "slide_type": "subslide"
    }
   },
   "outputs": [],
   "source": [
    "from sklearn import datasets\n",
    "digits = datasets.load_digits()\n",
    "\n",
    "# The data that we are interested in is made of 8x8 images of digits, let's\n",
    "# have a look at the first 4 images, stored in the `images` attribute of the\n",
    "# dataset. \n",
    "# For these images, we know which digit they represent: it is given in the 'target' of\n",
    "# the dataset.\n",
    "images_and_labels = list(zip(digits.images, digits.target))\n",
    "for index, (image, label) in enumerate(images_and_labels[:4]):\n",
    "    plt.subplot(2, 4, index + 1)\n",
    "    plt.axis('off')\n",
    "    plt.imshow(image, cmap=plt.cm.gray_r)\n",
    "    plt.title('Training %i' % label)\n",
    "plt.show()"
   ]
  },
  {
   "cell_type": "code",
   "execution_count": null,
   "metadata": {
    "collapsed": false,
    "slideshow": {
     "slide_type": "subslide"
    }
   },
   "outputs": [],
   "source": [
    "# Author: Gael Varoquaux <gael dot varoquaux at normalesup dot org>\n",
    "# License: BSD 3 clause\n",
    "\n",
    "# Standard scientific Python imports\n",
    "import matplotlib.pyplot as plt\n",
    "\n",
    "from sklearn import svm\n",
    "classifier = svm.SVC(gamma=0.001, C=100.)\n",
    "# As a training set, let us use all the images of our dataset apart from the last one.\n",
    "half_samples = int(len(digits.images)/2)\n",
    "classifier.fit(data[:half_samples], digits.target[:half_samples])\n",
    "\n",
    "expected = digits.target[half_samples:]\n",
    "predicted = classifier.predict(data[half_samples:])\n",
    "images_and_predictions = list(zip(digits.images[half_samples:], predicted))\n",
    "for index, (image, prediction) in enumerate(images_and_predictions[:4]):\n",
    "    plt.subplot(2, 4, index + 5)\n",
    "    plt.axis('off')\n",
    "    plt.imshow(image, cmap=plt.cm.gray_r, interpolation='nearest')\n",
    "    plt.title('Prediction: %i' % prediction)\n",
    "\n",
    "plt.show()\n"
   ]
  },
  {
   "cell_type": "markdown",
   "metadata": {
    "slideshow": {
     "slide_type": "slide"
    }
   },
   "source": [
    "# Django\n",
    "Django is a high-level Python Web framework that encourages rapid development and clean, pragmatic design.  \n",
    "Built by experienced developers, it takes care of much of the hassle of Web development, so you can focus on writing your app without needing to reinvent the wheel. It’s free and open source. [Documentation](https://docs.djangoproject.com/en/dev/). [Demo](http://www.lafabriquediy.com/)"
   ]
  },
  {
   "cell_type": "markdown",
   "metadata": {
    "slideshow": {
     "slide_type": "slide"
    }
   },
   "source": [
    "# Django REST\n",
    "Django REST framework is a powerful and flexible toolkit for building Web APIs.\n",
    "[Documentation](http://www.django-rest-framework.org/). [Demo](https://spotit.fr/api/)"
   ]
  },
  {
   "cell_type": "markdown",
   "metadata": {
    "slideshow": {
     "slide_type": "slide"
    }
   },
   "source": [
    "# Flask\n",
    "Flask is a microframework for Python based on Werkzeug, Jinja 2 and good intentions. \n",
    "[Documentation](http://flask.pocoo.org/)"
   ]
  },
  {
   "cell_type": "markdown",
   "metadata": {
    "slideshow": {
     "slide_type": "slide"
    }
   },
   "source": [
    "# Pylint\n",
    "Code analyisis for python [Documentation](https://www.pylint.org/).  \n",
    "Check the `passgen.py` code by running `pylint passgen.py` and try to improve it !"
   ]
  },
  {
   "cell_type": "markdown",
   "metadata": {
    "slideshow": {
     "slide_type": "slide"
    }
   },
   "source": [
    "# Pytest \n",
    "The pytest framework makes it easy to write small tests, yet scales to support complex functional testing for applications and libraries.[Documentation](https://docs.pytest.org/en/latest/)\n",
    "\n",
    "From your project directory simply run `pytest` to run all `test_*.py` files"
   ]
  },
  {
   "cell_type": "markdown",
   "metadata": {
    "slideshow": {
     "slide_type": "slide"
    }
   },
   "source": [
    "# Gspread\n",
    "Google spreadsheet python API [Documentation](https://github.com/burnash/gspread)"
   ]
  },
  {
   "cell_type": "code",
   "execution_count": null,
   "metadata": {
    "collapsed": false,
    "slideshow": {
     "slide_type": "subslide"
    }
   },
   "outputs": [],
   "source": [
    "import gspread\n",
    "import datetime\n",
    "from oauth2client.service_account import ServiceAccountCredentials\n",
    "\n",
    "scope = ['https://spreadsheets.google.com/feeds']\n",
    "# to get your own client_secret.json credentials goto : http://gspread.readthedocs.io/en/latest/oauth2.html\n",
    "creds = ServiceAccountCredentials.from_json_keyfile_name('data/client_secret.json', scope)\n",
    "client = gspread.authorize(creds)\n",
    "\n",
    "# Find a workbook by name and open the first sheet\n",
    "sheet = client.open(\"demo\").sheet1\n",
    "\n",
    "# Extract and print all of the values\n",
    "list_of_hashes = sheet.get_all_records()\n",
    "print(list_of_hashes)\n",
    "\n",
    "#Append the current date and time\n",
    "\n",
    "row = [\"Date\",datetime.datetime.now()]\n",
    "index = 1\n",
    "sheet.insert_row(row, index)"
   ]
  }
 ],
 "metadata": {
  "celltoolbar": "Slideshow",
  "kernelspec": {
   "display_name": "Python 3",
   "language": "python",
   "name": "python3"
  },
  "language_info": {
   "codemirror_mode": {
    "name": "ipython",
    "version": 3
   },
   "file_extension": ".py",
   "mimetype": "text/x-python",
   "name": "python",
   "nbconvert_exporter": "python",
   "pygments_lexer": "ipython3",
   "version": "3.5.1"
  }
 },
 "nbformat": 4,
 "nbformat_minor": 2
}
