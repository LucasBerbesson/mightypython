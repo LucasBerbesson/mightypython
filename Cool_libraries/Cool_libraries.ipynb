{
 "cells": [
  {
   "cell_type": "markdown",
   "metadata": {},
   "source": [
    "# Jupyter: interactive python notebook¶\n",
    "The Jupyter Notebook is an open-source web application that allows you to create and share documents that contain live code, equations, visualizations and explanatory text.\n",
    "[Documentation](http://jupyter.org/)"
   ]
  },
  {
   "cell_type": "markdown",
   "metadata": {},
   "source": [
    "# Requests : super simple requests\n",
    "Warning: Recreational use of other HTTP libraries may result in dangerous side-effects, including: security vulnerabilities, verbose code, reinventing the wheel, constantly reading documentation, depression, headaches, or even death."
   ]
  },
  {
   "cell_type": "code",
   "execution_count": null,
   "metadata": {
    "collapsed": true
   },
   "outputs": [],
   "source": [
    "import requests\n",
    "r = requests.get('https://api.github.com/users/LucasBerbesson/repos')\n",
    "data = r.json()\n",
    "\n",
    "for element in data:\n",
    "    print(element['language'],\":\", element['clone_url'])"
   ]
  },
  {
   "cell_type": "markdown",
   "metadata": {},
   "source": [
    "# BeautifulSoup : XML and HTML parser\n",
    "A Python library for pulling data out of HTML and XML files. [Documentation](https://www.crummy.com/software/BeautifulSoup/bs4/doc/)"
   ]
  },
  {
   "cell_type": "code",
   "execution_count": 1,
   "metadata": {
    "collapsed": true
   },
   "outputs": [],
   "source": [
    "# Find all alternative softwares\n",
    "import requests\n",
    "from IPython.core.display import display, HTML\n",
    "from bs4 import BeautifulSoup\n",
    "\n",
    "def find_alternatives(app_name):\n",
    "    alternatives = []\n",
    "    print(\"Searching web for {} alternatives...\".format(app_name))\n",
    "    r = requests.get('http://alternativeto.net/software/'+app_name+'/')\n",
    "    soup = BeautifulSoup(r.text, \"lxml\")\n",
    "    for link in soup.select(\"article > div.col-xs-2.col-sm-2.col-lg-1 > div.like-box > span\"):\n",
    "        alternatives.append({\"name\":link.findNext('a')['data-urlname'], \"score\":link.text})\n",
    "    \n",
    "    return alternatives"
   ]
  },
  {
   "cell_type": "code",
   "execution_count": 2,
   "metadata": {},
   "outputs": [
    {
     "name": "stdout",
     "output_type": "stream",
     "text": [
      "Searching web for Python alternatives...\n",
      "[{'score': '514', 'name': 'java'}, {'score': '237', 'name': 'c-programming-language-'}, {'score': '219', 'name': 'ruby'}, {'score': '228', 'name': 'cpp'}, {'score': '154', 'name': 'c--programming-language-'}, {'score': '80', 'name': 'go-programming-language-'}, {'score': '144', 'name': 'r-project'}, {'score': '126', 'name': 'lua'}, {'score': '50', 'name': 'haskell'}, {'score': '109', 'name': 'perl'}, {'score': '57', 'name': 'scala'}, {'score': '43', 'name': 'd'}, {'score': '57', 'name': 'dart'}, {'score': '36', 'name': 'julia'}, {'score': '18', 'name': 'nim-programming-language'}]\n"
     ]
    }
   ],
   "source": [
    "print(find_alternatives(\"Python\"))"
   ]
  },
  {
   "cell_type": "markdown",
   "metadata": {},
   "source": [
    "# Pretty Print\n",
    "The pprint module provides a capability to “pretty-print” arbitrary Python data structures in a form which can be used as input to the interpreter"
   ]
  },
  {
   "cell_type": "code",
   "execution_count": 3,
   "metadata": {},
   "outputs": [
    {
     "name": "stdout",
     "output_type": "stream",
     "text": [
      "Searching web for ifttt alternatives...\n",
      "[{'name': 'zapier', 'score': '131'},\n",
      " {'name': 'tasker', 'score': '94'},\n",
      " {'name': 'huginn', 'score': '39'},\n",
      " {'name': 'microsoft-flow', 'score': '17'},\n",
      " {'name': 'integromat', 'score': '21'},\n",
      " {'name': 'skyvia', 'score': '90'},\n",
      " {'name': 'rclone', 'score': '29'},\n",
      " {'name': 'bipio', 'score': '22'},\n",
      " {'name': 'cloudhq', 'score': '22'},\n",
      " {'name': 'automate-io', 'score': '11'},\n",
      " {'name': 'we-wired-web', 'score': '10'},\n",
      " {'name': 'wappwolf-automator', 'score': '18'},\n",
      " {'name': 'hooks', 'score': '8'},\n",
      " {'name': 'ellp', 'score': '4'},\n",
      " {'name': 'feedmyinbox', 'score': '4'}]\n"
     ]
    }
   ],
   "source": [
    "from pprint import pprint\n",
    "pprint(find_alternatives(\"ifttt\"))"
   ]
  },
  {
   "cell_type": "markdown",
   "metadata": {},
   "source": [
    "# Jinja2 : template engine\n",
    "Jinja2 is a full featured template engine for Python"
   ]
  },
  {
   "cell_type": "code",
   "execution_count": 4,
   "metadata": {
    "collapsed": true
   },
   "outputs": [],
   "source": [
    "from jinja2 import Environment, FileSystemLoader\n",
    "\n",
    "env = Environment(loader=FileSystemLoader('templates'))\n",
    "jinja_template = env.get_template('jinja_demo.html')\n",
    "\n",
    "def generate_html_page(alternatives,app_name):\n",
    "    print(\"Generating a nice HTML Page...\")\n",
    "    return jinja_template.render(alternatives=alternatives, app_name=app_name)"
   ]
  },
  {
   "cell_type": "code",
   "execution_count": 6,
   "metadata": {},
   "outputs": [
    {
     "name": "stdout",
     "output_type": "stream",
     "text": [
      "Searching web for pycharm alternatives...\n",
      "Generating a nice HTML Page...\n"
     ]
    }
   ],
   "source": [
    "with open(\"./templates/ifttt.html\", \"w+\") as fh:\n",
    "        fh.write(generate_html_page(find_alternatives(\"pycharm\"), \"ifttt\"))\n",
    "\n",
    "\n"
   ]
  },
  {
   "cell_type": "markdown",
   "metadata": {},
   "source": [
    "# Bottle : micro framework\n",
    "Bottle is a fast, simple and lightweight WSGI micro web-framework for Python."
   ]
  },
  {
   "cell_type": "code",
   "execution_count": null,
   "metadata": {},
   "outputs": [
    {
     "name": "stderr",
     "output_type": "stream",
     "text": [
      "Bottle v0.12.13 server starting up (using WSGIRefServer())...\n",
      "Listening on http://localhost:8080/\n",
      "Hit Ctrl-C to quit.\n",
      "\n",
      "127.0.0.1 - - [09/Nov/2017 14:09:56] \"GET / HTTP/1.1\" 200 29\n",
      "127.0.0.1 - - [09/Nov/2017 14:09:57] \"GET /favicon.ico HTTP/1.1\" 404 742\n"
     ]
    },
    {
     "name": "stdout",
     "output_type": "stream",
     "text": [
      "Searching web for Python alternatives...\n",
      "Generating a nice HTML Page...\n"
     ]
    },
    {
     "name": "stderr",
     "output_type": "stream",
     "text": [
      "127.0.0.1 - - [09/Nov/2017 14:10:04] \"GET /alternatives/Python/ HTTP/1.1\" 200 3384\n",
      "127.0.0.1 - - [09/Nov/2017 14:10:04] \"GET /alternatives/Python/Sports.png HTTP/1.1\" 404 780\n"
     ]
    },
    {
     "name": "stdout",
     "output_type": "stream",
     "text": [
      "Searching web for java alternatives...\n",
      "Generating a nice HTML Page...\n"
     ]
    },
    {
     "name": "stderr",
     "output_type": "stream",
     "text": [
      "127.0.0.1 - - [09/Nov/2017 14:10:11] \"GET /alternatives/java/ HTTP/1.1\" 200 3387\n",
      "127.0.0.1 - - [09/Nov/2017 14:10:11] \"GET /alternatives/java/Sports.png HTTP/1.1\" 404 776\n"
     ]
    },
    {
     "name": "stdout",
     "output_type": "stream",
     "text": [
      "Searching web for ifttt alternatives...\n",
      "Generating a nice HTML Page...\n"
     ]
    },
    {
     "name": "stderr",
     "output_type": "stream",
     "text": [
      "127.0.0.1 - - [09/Nov/2017 14:10:17] \"GET /alternatives/ifttt/ HTTP/1.1\" 200 3357\n",
      "127.0.0.1 - - [09/Nov/2017 14:10:17] \"GET /alternatives/ifttt/Sports.png HTTP/1.1\" 404 778\n"
     ]
    }
   ],
   "source": [
    "from bottle import route, run, template\n",
    "\n",
    "\n",
    "@route('/')\n",
    "def index():\n",
    "    return 'Go to /alternatives/app_name/'\n",
    "\n",
    "@route('/alternatives/<app_name>/')\n",
    "def hello(app_name):\n",
    "    my_template = generate_html_page(find_alternatives(app_name), app_name)\n",
    "    return template(my_template)\n",
    "\n",
    "run(host='localhost', port=8080)"
   ]
  },
  {
   "cell_type": "markdown",
   "metadata": {},
   "source": [
    "# SMTPlib\n",
    "The smtplib module defines an SMTP client session object that can be used to send mail to any Internet machine."
   ]
  },
  {
   "cell_type": "code",
   "execution_count": null,
   "metadata": {
    "collapsed": true
   },
   "outputs": [],
   "source": [
    "alternatives = find_alternatives(\"ifttt\")\n",
    "\n",
    "import os\n",
    "import smtplib \n",
    "server = smtplib.SMTP('smtp.gmail.com', 587)\n",
    "server.starttls()\n",
    "server.login(\"lucasberbesson@gmail.com\", os.environ['MY_PWD'])\n",
    "msg = \"IFTTT has {} alternatives\".format(len(alternatives))\n",
    "server.sendmail(\"lucasberbesson@gmail.com\",\"lucas.berbesson@fabdev.fr\", msg)\n",
    "server.quit()"
   ]
  },
  {
   "cell_type": "markdown",
   "metadata": {},
   "source": [
    "# Faker : generate fake data\n",
    "Faker is a Python package that generates fake data for you.Documentation"
   ]
  },
  {
   "cell_type": "code",
   "execution_count": null,
   "metadata": {
    "collapsed": true
   },
   "outputs": [],
   "source": [
    "from faker import Faker\n",
    "f = Faker(locale=\"fr_FR\")\n",
    "name = f.name()\n",
    "postcode = f.postcode()\n",
    "email = f.email()\n",
    "city = f.city()\n",
    "color = f.hex_color()\n",
    "print(name,postcode,email,city,color)"
   ]
  },
  {
   "cell_type": "markdown",
   "metadata": {
    "collapsed": true
   },
   "source": [
    "# Regex\n",
    "\n",
    "A regular expression (or \"regex\") is a sequence of characters that define a search pattern.   \n",
    "Usually this pattern is then used by string searching algorithms for \"find\" or \"find and replace\" operations on strings."
   ]
  },
  {
   "cell_type": "code",
   "execution_count": 15,
   "metadata": {},
   "outputs": [
    {
     "name": "stdout",
     "output_type": "stream",
     "text": [
      "['isabelle.kocher@engie.fr']\n"
     ]
    }
   ],
   "source": [
    "# Script to match all the fabdev.fr emails inside a .txt file\n",
    "import re\n",
    "results = []\n",
    "# Modify the script to match all the email \n",
    "for line in open('./data/lorem.txt'):\n",
    "    results = results + re.findall(r'[\\w\\.-]+@[\\w\\.-]+', line)\n",
    "print(results)"
   ]
  },
  {
   "cell_type": "markdown",
   "metadata": {},
   "source": [
    "# Fuzzy wuzzy\n",
    "fuzzy string matching in Python based on the standard library difflib  \n",
    "[Documentation](https://github.com/seatgeek/fuzzywuzzy)"
   ]
  },
  {
   "cell_type": "code",
   "execution_count": null,
   "metadata": {
    "collapsed": true
   },
   "outputs": [],
   "source": [
    "from fuzzywuzzy import fuzz\n",
    "print(\"Simple ratio : \",fuzz.ratio(\"this is a test\", \"this is a test!\"))\n",
    "print(\"Partial ratio : \",fuzz.partial_ratio(\"this is a test\", \"this is a test!\"))\n",
    "print(\"Token Ration : \",fuzz.token_sort_ratio(\"fuzzy wuzzy was a bear\", \"wuzzy fuzzy was a bear\"))"
   ]
  },
  {
   "cell_type": "code",
   "execution_count": null,
   "metadata": {
    "collapsed": true
   },
   "outputs": [],
   "source": [
    "from fuzzywuzzy import fuzz\n",
    "from fuzzywuzzy import process\n",
    "state_to_code = {\"VERMONT\": \"VT\", \"GEORGIA\": \"GA\", \"IOWA\": \"IA\", \"Armed Forces Pacific\": \"AP\", \"GUAM\": \"GU\",\n",
    "                 \"KANSAS\": \"KS\", \"FLORIDA\": \"FL\", \"AMERICAN SAMOA\": \"AS\", \"NORTH CAROLINA\": \"NC\", \"HAWAII\": \"HI\",\n",
    "                 \"NEW YORK\": \"NY\", \"CALIFORNIA\": \"CA\", \"ALABAMA\": \"AL\", \"IDAHO\": \"ID\", \"FEDERATED STATES OF MICRONESIA\": \"FM\",\n",
    "                 \"Armed Forces Americas\": \"AA\", \"DELAWARE\": \"DE\", \"ALASKA\": \"AK\", \"ILLINOIS\": \"IL\",\n",
    "                 \"Armed Forces Africa\": \"AE\", \"SOUTH DAKOTA\": \"SD\", \"CONNECTICUT\": \"CT\", \"MONTANA\": \"MT\", \"MASSACHUSETTS\": \"MA\",\n",
    "                 \"PUERTO RICO\": \"PR\", \"Armed Forces Canada\": \"AE\", \"NEW HAMPSHIRE\": \"NH\", \"MARYLAND\": \"MD\", \"NEW MEXICO\": \"NM\",\n",
    "                 \"MISSISSIPPI\": \"MS\", \"TENNESSEE\": \"TN\", \"PALAU\": \"PW\", \"COLORADO\": \"CO\", \"Armed Forces Middle East\": \"AE\",\n",
    "                 \"NEW JERSEY\": \"NJ\", \"UTAH\": \"UT\", \"MICHIGAN\": \"MI\", \"WEST VIRGINIA\": \"WV\", \"WASHINGTON\": \"WA\",\n",
    "                 \"MINNESOTA\": \"MN\", \"OREGON\": \"OR\", \"VIRGINIA\": \"VA\", \"VIRGIN ISLANDS\": \"VI\", \"MARSHALL ISLANDS\": \"MH\",\n",
    "                 \"WYOMING\": \"WY\", \"OHIO\": \"OH\", \"SOUTH CAROLINA\": \"SC\", \"INDIANA\": \"IN\", \"NEVADA\": \"NV\", \"LOUISIANA\": \"LA\",\n",
    "                 \"NORTHERN MARIANA ISLANDS\": \"MP\", \"NEBRASKA\": \"NE\", \"ARIZONA\": \"AZ\", \"WISCONSIN\": \"WI\", \"NORTH DAKOTA\": \"ND\",\n",
    "                 \"Armed Forces Europe\": \"AE\", \"PENNSYLVANIA\": \"PA\", \"OKLAHOMA\": \"OK\", \"KENTUCKY\": \"KY\", \"RHODE ISLAND\": \"RI\",\n",
    "                 \"DISTRICT OF COLUMBIA\": \"DC\", \"ARKANSAS\": \"AR\", \"MISSOURI\": \"MO\", \"TEXAS\": \"TX\", \"MAINE\": \"ME\"}"
   ]
  },
  {
   "cell_type": "code",
   "execution_count": null,
   "metadata": {
    "collapsed": true
   },
   "outputs": [],
   "source": [
    "process.extractOne(\"Minesotta\",choices=state_to_code.keys())"
   ]
  },
  {
   "cell_type": "code",
   "execution_count": null,
   "metadata": {
    "collapsed": true
   },
   "outputs": [],
   "source": [
    "process.extractOne(\"AlaBAMMazzz\",choices=state_to_code.keys(),score_cutoff=80)"
   ]
  },
  {
   "cell_type": "markdown",
   "metadata": {},
   "source": [
    "## Django : the best web framework\n",
    "Django is a high-level Python Web framework that encourages rapid development and clean, pragmatic design.  \n",
    "Built by experienced developers, it takes care of much of the hassle of Web development, so you can focus on writing your app without needing to reinvent the wheel. It’s free and open source. [Documentation](https://docs.djangoproject.com/en/dev/). [Demo](http://www.lafabriquediy.com/)"
   ]
  },
  {
   "cell_type": "markdown",
   "metadata": {
    "collapsed": true
   },
   "source": [
    "## Flask : advanced microframework \n",
    "Flask is a microframework for Python based on Werkzeug, Jinja 2 and good intentions. \n",
    "[Documentation](http://flask.pocoo.org/)"
   ]
  },
  {
   "cell_type": "markdown",
   "metadata": {},
   "source": [
    "## Pytest : tests\n",
    "The pytest framework makes it easy to write small tests, yet scales to support complex functional testing for applications and libraries.[Documentation](https://docs.pytest.org/en/latest/)\n",
    "\n",
    "From your project directory simply run `pytest` to run all `test_*.py` files"
   ]
  },
  {
   "cell_type": "markdown",
   "metadata": {},
   "source": [
    "## Sphinx : beautiful python documentation\n",
    "\n",
    "Easy and intelligent and beautiful python documentation.  \n",
    "To get beautiful sphinx documentation you need :  \n",
    "- to write beautiful docstrings (check the google ones in useful.py to get inspired) in your python code.\n",
    "- install sphinx\n",
    "- run sphinx-quickstart from your /docs folder\n",
    "- Edit index.rst and create other .rstfiles if you need ReStructuredText syntax\n",
    "- run make html"
   ]
  },
  {
   "cell_type": "markdown",
   "metadata": {},
   "source": [
    "# Numpy\n",
    "Numpy is the core library for scientific computing in Python. It provides a high-performance multidimensional array object, and tools for working with these arrays. If you are already familiar with MATLAB, you might find this tutorial useful to get started with Numpy."
   ]
  },
  {
   "cell_type": "code",
   "execution_count": 76,
   "metadata": {
    "collapsed": true
   },
   "outputs": [],
   "source": [
    "import numpy as np"
   ]
  },
  {
   "cell_type": "code",
   "execution_count": 83,
   "metadata": {},
   "outputs": [
    {
     "name": "stdout",
     "output_type": "stream",
     "text": [
      "[[19 22]\n",
      " [43 50]]\n",
      "[[1 3]\n",
      " [2 4]]\n",
      "10\n"
     ]
    },
    {
     "data": {
      "text/plain": [
       "array([[ 1.,  0.,  0.],\n",
       "       [ 0.,  1.,  0.],\n",
       "       [ 0.,  0.,  1.]])"
      ]
     },
     "execution_count": 83,
     "metadata": {},
     "output_type": "execute_result"
    }
   ],
   "source": [
    "x = np.array([[1,2],[3,4]])\n",
    "y = np.array([[5,6],[7,8]])\n",
    "print(np.dot(x, y))\n",
    "print(x.T)\n",
    "print(x.sum())\n",
    "np.arange(10,51)"
   ]
  },
  {
   "cell_type": "code",
   "execution_count": 84,
   "metadata": {},
   "outputs": [
    {
     "data": {
      "text/plain": [
       "array([[ 1.,  0.,  0.],\n",
       "       [ 0.,  1.,  0.],\n",
       "       [ 0.,  0.,  1.]])"
      ]
     },
     "execution_count": 84,
     "metadata": {},
     "output_type": "execute_result"
    }
   ],
   "source": [
    "np.eye(3)"
   ]
  },
  {
   "cell_type": "code",
   "execution_count": 87,
   "metadata": {},
   "outputs": [
    {
     "data": {
      "text/plain": [
       "array([[ 0.        ,  0.05263158,  0.10526316,  0.15789474,  0.21052632],\n",
       "       [ 0.26315789,  0.31578947,  0.36842105,  0.42105263,  0.47368421],\n",
       "       [ 0.52631579,  0.57894737,  0.63157895,  0.68421053,  0.73684211],\n",
       "       [ 0.78947368,  0.84210526,  0.89473684,  0.94736842,  1.        ]])"
      ]
     },
     "execution_count": 87,
     "metadata": {},
     "output_type": "execute_result"
    }
   ],
   "source": [
    "np.linspace(0,1,20).reshape(4,5)"
   ]
  },
  {
   "cell_type": "markdown",
   "metadata": {
    "collapsed": true
   },
   "source": [
    "# Pandas\n",
    "Pandas helps us manipulate all of this data structures efficiently.   \n",
    "You can think of pandas as an extremely powerful version of Excel, with a lot more features."
   ]
  },
  {
   "cell_type": "code",
   "execution_count": 3,
   "metadata": {
    "collapsed": true
   },
   "outputs": [],
   "source": [
    "import pandas as pd"
   ]
  },
  {
   "cell_type": "code",
   "execution_count": 5,
   "metadata": {
    "collapsed": true
   },
   "outputs": [],
   "source": [
    "df = pd.read_excel('./data/data.xlsx')"
   ]
  },
  {
   "cell_type": "code",
   "execution_count": 7,
   "metadata": {},
   "outputs": [
    {
     "data": {
      "text/html": [
       "<div>\n",
       "<style>\n",
       "    .dataframe thead tr:only-child th {\n",
       "        text-align: right;\n",
       "    }\n",
       "\n",
       "    .dataframe thead th {\n",
       "        text-align: left;\n",
       "    }\n",
       "\n",
       "    .dataframe tbody tr th {\n",
       "        vertical-align: top;\n",
       "    }\n",
       "</style>\n",
       "<table border=\"1\" class=\"dataframe\">\n",
       "  <thead>\n",
       "    <tr style=\"text-align: right;\">\n",
       "      <th></th>\n",
       "      <th>ENTITE</th>\n",
       "      <th>POLE</th>\n",
       "      <th>STATUT</th>\n",
       "      <th>NOM</th>\n",
       "      <th>PRENOM</th>\n",
       "      <th>RESPONSABLE</th>\n",
       "      <th>PROJET</th>\n",
       "      <th>WINDOW OCT. 2018</th>\n",
       "      <th>LIEU</th>\n",
       "      <th>ARRIVEE</th>\n",
       "      <th>DEPART</th>\n",
       "      <th>REMARQUES</th>\n",
       "    </tr>\n",
       "  </thead>\n",
       "  <tbody>\n",
       "    <tr>\n",
       "      <th>0</th>\n",
       "      <td>DRD</td>\n",
       "      <td>GPM</td>\n",
       "      <td>prestataire</td>\n",
       "      <td>AIT-HADDOU</td>\n",
       "      <td>Ali</td>\n",
       "      <td>AKEL</td>\n",
       "      <td>Convergence</td>\n",
       "      <td>OUI</td>\n",
       "      <td>NextDoor 1</td>\n",
       "      <td>NaN</td>\n",
       "      <td>2017-10-31 00:00:00</td>\n",
       "      <td>MCO2</td>\n",
       "    </tr>\n",
       "    <tr>\n",
       "      <th>1</th>\n",
       "      <td>DRD</td>\n",
       "      <td>GPM</td>\n",
       "      <td>agent</td>\n",
       "      <td>AKEL</td>\n",
       "      <td>Youssef</td>\n",
       "      <td>-</td>\n",
       "      <td>Convergence</td>\n",
       "      <td>OUI</td>\n",
       "      <td>Nextdoor</td>\n",
       "      <td>NaN</td>\n",
       "      <td>NaN</td>\n",
       "      <td>NaN</td>\n",
       "    </tr>\n",
       "    <tr>\n",
       "      <th>2</th>\n",
       "      <td>DRD</td>\n",
       "      <td>GPM</td>\n",
       "      <td>prestataire</td>\n",
       "      <td>AMAR</td>\n",
       "      <td>Slimane</td>\n",
       "      <td>AKEL</td>\n",
       "      <td>Convergence</td>\n",
       "      <td>OUI</td>\n",
       "      <td>NextDoor 33</td>\n",
       "      <td>NaN</td>\n",
       "      <td>2019-03-01 00:00:00</td>\n",
       "      <td>NaN</td>\n",
       "    </tr>\n",
       "    <tr>\n",
       "      <th>3</th>\n",
       "      <td>DRD</td>\n",
       "      <td>ES</td>\n",
       "      <td>stagiaire</td>\n",
       "      <td>ARAUJO</td>\n",
       "      <td>Joao</td>\n",
       "      <td>MAROT</td>\n",
       "      <td>Apogée</td>\n",
       "      <td>NON</td>\n",
       "      <td>NextDoor</td>\n",
       "      <td>du 31/07/2017</td>\n",
       "      <td>2017-09-05 00:00:00</td>\n",
       "      <td>NaN</td>\n",
       "    </tr>\n",
       "    <tr>\n",
       "      <th>4</th>\n",
       "      <td>DRD</td>\n",
       "      <td>DS</td>\n",
       "      <td>intérimaire</td>\n",
       "      <td>ARAVENA</td>\n",
       "      <td>Fabiola</td>\n",
       "      <td>POULLENNEC</td>\n",
       "      <td>Optim</td>\n",
       "      <td>OUI</td>\n",
       "      <td>Versailles</td>\n",
       "      <td>NaN</td>\n",
       "      <td>NaN</td>\n",
       "      <td>A postulé pour embauche</td>\n",
       "    </tr>\n",
       "  </tbody>\n",
       "</table>\n",
       "</div>"
      ],
      "text/plain": [
       "  ENTITE POLE       STATUT         NOM   PRENOM RESPONSABLE       PROJET  \\\n",
       "0    DRD  GPM  prestataire  AIT-HADDOU      Ali        AKEL  Convergence   \n",
       "1    DRD  GPM        agent        AKEL  Youssef           -  Convergence   \n",
       "2    DRD  GPM  prestataire        AMAR  Slimane        AKEL  Convergence   \n",
       "3    DRD   ES    stagiaire      ARAUJO     Joao       MAROT       Apogée   \n",
       "4    DRD   DS  intérimaire     ARAVENA  Fabiola  POULLENNEC        Optim   \n",
       "\n",
       "  WINDOW OCT. 2018         LIEU         ARRIVEE               DEPART  \\\n",
       "0              OUI   NextDoor 1             NaN  2017-10-31 00:00:00   \n",
       "1              OUI     Nextdoor             NaN                  NaN   \n",
       "2              OUI  NextDoor 33             NaN  2019-03-01 00:00:00   \n",
       "3              NON     NextDoor  du 31/07/2017   2017-09-05 00:00:00   \n",
       "4              OUI   Versailles             NaN                  NaN   \n",
       "\n",
       "                 REMARQUES  \n",
       "0                     MCO2  \n",
       "1                      NaN  \n",
       "2                      NaN  \n",
       "3                      NaN  \n",
       "4  A postulé pour embauche  "
      ]
     },
     "execution_count": 7,
     "metadata": {},
     "output_type": "execute_result"
    }
   ],
   "source": [
    "df.head()"
   ]
  },
  {
   "cell_type": "code",
   "execution_count": 67,
   "metadata": {},
   "outputs": [
    {
     "data": {
      "text/plain": [
       "array(['Convergence', 'Apogée', 'Optim', 'chef de programme', 'Antares',\n",
       "       'Dynamo', 'chef de pôle', 'chef', 'EOD', 'imaGrid', 'iTesla',\n",
       "       'appui', 'Prospective', 'Prévisions', 'infrastructure', 'Ecolo',\n",
       "       'GestionActifs', 'EtudesDynamiques', 'capas', 'Stanway', 'Tension',\n",
       "       'smartlab', 'conseiller', '?', nan, 'Modèles', 'Let’s Coordinate',\n",
       "       'PowSyBl', 'Consignations', 'EquipeSI-R&D', 'SmartGrids', 'Osmose',\n",
       "       'pertes', 'Maestro', 'SEA', 'CGMES', 'iNProve'], dtype=object)"
      ]
     },
     "execution_count": 67,
     "metadata": {},
     "output_type": "execute_result"
    }
   ],
   "source": [
    "# Get list of values in a column\n",
    "df['PROJET'].unique()"
   ]
  },
  {
   "cell_type": "code",
   "execution_count": 68,
   "metadata": {},
   "outputs": [
    {
     "data": {
      "text/html": [
       "<div>\n",
       "<style>\n",
       "    .dataframe thead tr:only-child th {\n",
       "        text-align: right;\n",
       "    }\n",
       "\n",
       "    .dataframe thead th {\n",
       "        text-align: left;\n",
       "    }\n",
       "\n",
       "    .dataframe tbody tr th {\n",
       "        vertical-align: top;\n",
       "    }\n",
       "</style>\n",
       "<table border=\"1\" class=\"dataframe\">\n",
       "  <thead>\n",
       "    <tr style=\"text-align: right;\">\n",
       "      <th></th>\n",
       "      <th>ENTITE</th>\n",
       "      <th>POLE</th>\n",
       "      <th>STATUT</th>\n",
       "      <th>NOM</th>\n",
       "      <th>PRENOM</th>\n",
       "      <th>RESPONSABLE</th>\n",
       "      <th>PROJET</th>\n",
       "      <th>WINDOW OCT. 2018</th>\n",
       "      <th>LIEU</th>\n",
       "      <th>ARRIVEE</th>\n",
       "      <th>DEPART</th>\n",
       "      <th>REMARQUES</th>\n",
       "    </tr>\n",
       "  </thead>\n",
       "  <tbody>\n",
       "    <tr>\n",
       "      <th>0</th>\n",
       "      <td>DRD</td>\n",
       "      <td>GPM</td>\n",
       "      <td>prestataire</td>\n",
       "      <td>AIT-HADDOU</td>\n",
       "      <td>Ali</td>\n",
       "      <td>AKEL</td>\n",
       "      <td>Convergence</td>\n",
       "      <td>OUI</td>\n",
       "      <td>NextDoor 1</td>\n",
       "      <td>NaN</td>\n",
       "      <td>2017-10-31 00:00:00</td>\n",
       "      <td>MCO2</td>\n",
       "    </tr>\n",
       "    <tr>\n",
       "      <th>1</th>\n",
       "      <td>DRD</td>\n",
       "      <td>GPM</td>\n",
       "      <td>agent</td>\n",
       "      <td>AKEL</td>\n",
       "      <td>Youssef</td>\n",
       "      <td>-</td>\n",
       "      <td>Convergence</td>\n",
       "      <td>OUI</td>\n",
       "      <td>Nextdoor</td>\n",
       "      <td>NaN</td>\n",
       "      <td>NaN</td>\n",
       "      <td>NaN</td>\n",
       "    </tr>\n",
       "    <tr>\n",
       "      <th>2</th>\n",
       "      <td>DRD</td>\n",
       "      <td>GPM</td>\n",
       "      <td>prestataire</td>\n",
       "      <td>AMAR</td>\n",
       "      <td>Slimane</td>\n",
       "      <td>AKEL</td>\n",
       "      <td>Convergence</td>\n",
       "      <td>OUI</td>\n",
       "      <td>NextDoor 33</td>\n",
       "      <td>NaN</td>\n",
       "      <td>2019-03-01 00:00:00</td>\n",
       "      <td>NaN</td>\n",
       "    </tr>\n",
       "    <tr>\n",
       "      <th>12</th>\n",
       "      <td>DRD</td>\n",
       "      <td>GPM</td>\n",
       "      <td>prestataire</td>\n",
       "      <td>BEN TEMESSEK</td>\n",
       "      <td>Seifallah</td>\n",
       "      <td>AKEL</td>\n",
       "      <td>Convergence</td>\n",
       "      <td>OUI</td>\n",
       "      <td>ND 26</td>\n",
       "      <td>NaN</td>\n",
       "      <td>2019-03-01 00:00:00</td>\n",
       "      <td>NaN</td>\n",
       "    </tr>\n",
       "    <tr>\n",
       "      <th>16</th>\n",
       "      <td>DRD</td>\n",
       "      <td>GPM</td>\n",
       "      <td>prestataire</td>\n",
       "      <td>BERTRAND</td>\n",
       "      <td>Jérémy</td>\n",
       "      <td>AKEL</td>\n",
       "      <td>Convergence</td>\n",
       "      <td>OUI</td>\n",
       "      <td>NextDoor 33</td>\n",
       "      <td>NaN</td>\n",
       "      <td>2019-03-01 00:00:00</td>\n",
       "      <td>NaN</td>\n",
       "    </tr>\n",
       "    <tr>\n",
       "      <th>19</th>\n",
       "      <td>DRD</td>\n",
       "      <td>GPM</td>\n",
       "      <td>agent</td>\n",
       "      <td>BISERICA</td>\n",
       "      <td>Monica</td>\n",
       "      <td>-</td>\n",
       "      <td>Convergence</td>\n",
       "      <td>OUI</td>\n",
       "      <td>Nextdoor</td>\n",
       "      <td>NaN</td>\n",
       "      <td>NaN</td>\n",
       "      <td>NaN</td>\n",
       "    </tr>\n",
       "    <tr>\n",
       "      <th>20</th>\n",
       "      <td>DRD</td>\n",
       "      <td>GPM</td>\n",
       "      <td>prestataire</td>\n",
       "      <td>BITTA</td>\n",
       "      <td>Gilbert</td>\n",
       "      <td>AKEL</td>\n",
       "      <td>Convergence</td>\n",
       "      <td>OUI</td>\n",
       "      <td>NextDoor 1</td>\n",
       "      <td>NaN</td>\n",
       "      <td>2017-10-20 00:00:00</td>\n",
       "      <td>MCO2</td>\n",
       "    </tr>\n",
       "    <tr>\n",
       "      <th>24</th>\n",
       "      <td>DRD</td>\n",
       "      <td>GPM</td>\n",
       "      <td>prestataire</td>\n",
       "      <td>BORSENBERGER</td>\n",
       "      <td>Jacques</td>\n",
       "      <td>AKEL</td>\n",
       "      <td>Convergence</td>\n",
       "      <td>OUI</td>\n",
       "      <td>NextDoor 33</td>\n",
       "      <td>NaN</td>\n",
       "      <td>2019-03-01 00:00:00</td>\n",
       "      <td>NaN</td>\n",
       "    </tr>\n",
       "    <tr>\n",
       "      <th>30</th>\n",
       "      <td>DRD</td>\n",
       "      <td>GPM</td>\n",
       "      <td>prestataire</td>\n",
       "      <td>BOUSSAND</td>\n",
       "      <td>Christelle</td>\n",
       "      <td>AKEL</td>\n",
       "      <td>Convergence</td>\n",
       "      <td>OUI</td>\n",
       "      <td>NextDoor 33</td>\n",
       "      <td>NaN</td>\n",
       "      <td>2019-03-01 00:00:00</td>\n",
       "      <td>NaN</td>\n",
       "    </tr>\n",
       "    <tr>\n",
       "      <th>34</th>\n",
       "      <td>DRD</td>\n",
       "      <td>GPM</td>\n",
       "      <td>prestataire</td>\n",
       "      <td>BRIOT</td>\n",
       "      <td>Aurélien</td>\n",
       "      <td>AKEL</td>\n",
       "      <td>Convergence</td>\n",
       "      <td>OUI</td>\n",
       "      <td>ND1</td>\n",
       "      <td>NaN</td>\n",
       "      <td>2019-03-01 00:00:00</td>\n",
       "      <td>MCO2</td>\n",
       "    </tr>\n",
       "    <tr>\n",
       "      <th>35</th>\n",
       "      <td>DRD</td>\n",
       "      <td>GPM</td>\n",
       "      <td>prestataire</td>\n",
       "      <td>BROUT</td>\n",
       "      <td>Adrien</td>\n",
       "      <td>AKEL</td>\n",
       "      <td>Convergence</td>\n",
       "      <td>OUI</td>\n",
       "      <td>NextDoor 6</td>\n",
       "      <td>NaN</td>\n",
       "      <td>2018-05-09 00:00:00</td>\n",
       "      <td>Expés</td>\n",
       "    </tr>\n",
       "    <tr>\n",
       "      <th>38</th>\n",
       "      <td>DRD</td>\n",
       "      <td>GPM</td>\n",
       "      <td>prestataire</td>\n",
       "      <td>BUSSON</td>\n",
       "      <td>Laurent</td>\n",
       "      <td>PICAULT</td>\n",
       "      <td>Convergence</td>\n",
       "      <td>OUI</td>\n",
       "      <td>NextDoor 1</td>\n",
       "      <td>NaN</td>\n",
       "      <td>2019-03-01 00:00:00</td>\n",
       "      <td>MCO2</td>\n",
       "    </tr>\n",
       "    <tr>\n",
       "      <th>44</th>\n",
       "      <td>DRD</td>\n",
       "      <td>GPM</td>\n",
       "      <td>agent</td>\n",
       "      <td>CASTANET</td>\n",
       "      <td>Didier</td>\n",
       "      <td>-</td>\n",
       "      <td>Convergence</td>\n",
       "      <td>OUI</td>\n",
       "      <td>Versailles</td>\n",
       "      <td>NaN</td>\n",
       "      <td>NaN</td>\n",
       "      <td>NaN</td>\n",
       "    </tr>\n",
       "    <tr>\n",
       "      <th>46</th>\n",
       "      <td>DRD</td>\n",
       "      <td>GPM</td>\n",
       "      <td>agent</td>\n",
       "      <td>CHIARAMELLO</td>\n",
       "      <td>Marco</td>\n",
       "      <td>-</td>\n",
       "      <td>Convergence</td>\n",
       "      <td>OUI</td>\n",
       "      <td>Nextdoor</td>\n",
       "      <td>NaN</td>\n",
       "      <td>NaN</td>\n",
       "      <td>NaN</td>\n",
       "    </tr>\n",
       "    <tr>\n",
       "      <th>50</th>\n",
       "      <td>DRD</td>\n",
       "      <td>GPM</td>\n",
       "      <td>prestataire</td>\n",
       "      <td>COMPAGNACCI</td>\n",
       "      <td>Stefano</td>\n",
       "      <td>AKEL</td>\n",
       "      <td>Convergence</td>\n",
       "      <td>OUI</td>\n",
       "      <td>ND</td>\n",
       "      <td>2017-11-06 00:00:00</td>\n",
       "      <td>NaN</td>\n",
       "      <td>NaN</td>\n",
       "    </tr>\n",
       "    <tr>\n",
       "      <th>54</th>\n",
       "      <td>DRD</td>\n",
       "      <td>GPM</td>\n",
       "      <td>prestataire</td>\n",
       "      <td>DE LUNA AMEIDA</td>\n",
       "      <td>Alessandro</td>\n",
       "      <td>AKEL</td>\n",
       "      <td>Convergence</td>\n",
       "      <td>OUI</td>\n",
       "      <td>NextDoor 1</td>\n",
       "      <td>NaN</td>\n",
       "      <td>2019-03-01 00:00:00</td>\n",
       "      <td>NaN</td>\n",
       "    </tr>\n",
       "    <tr>\n",
       "      <th>71</th>\n",
       "      <td>DRD</td>\n",
       "      <td>GPM</td>\n",
       "      <td>prestataire</td>\n",
       "      <td>DUPRE</td>\n",
       "      <td>Laurent</td>\n",
       "      <td>PICAULT</td>\n",
       "      <td>Convergence</td>\n",
       "      <td>OUI</td>\n",
       "      <td>NextDoor 1</td>\n",
       "      <td>NaN</td>\n",
       "      <td>2019-03-01 00:00:00</td>\n",
       "      <td>MCO2</td>\n",
       "    </tr>\n",
       "    <tr>\n",
       "      <th>76</th>\n",
       "      <td>DRD</td>\n",
       "      <td>GPM</td>\n",
       "      <td>prestataire</td>\n",
       "      <td>EL CHEIKH</td>\n",
       "      <td>Bassel</td>\n",
       "      <td>AKEL</td>\n",
       "      <td>Convergence</td>\n",
       "      <td>OUI</td>\n",
       "      <td>NextDoor 33</td>\n",
       "      <td>NaN</td>\n",
       "      <td>2019-03-01 00:00:00</td>\n",
       "      <td>NaN</td>\n",
       "    </tr>\n",
       "    <tr>\n",
       "      <th>88</th>\n",
       "      <td>DRD</td>\n",
       "      <td>GPM</td>\n",
       "      <td>prestataire</td>\n",
       "      <td>GARNIER</td>\n",
       "      <td>Laurent</td>\n",
       "      <td>AKEL</td>\n",
       "      <td>Convergence</td>\n",
       "      <td>OUI</td>\n",
       "      <td>NextDoor 33</td>\n",
       "      <td>NaN</td>\n",
       "      <td>2019-03-01 00:00:00</td>\n",
       "      <td>NaN</td>\n",
       "    </tr>\n",
       "    <tr>\n",
       "      <th>112</th>\n",
       "      <td>DSIT</td>\n",
       "      <td>NaN</td>\n",
       "      <td>agent</td>\n",
       "      <td>GIUDICELLI</td>\n",
       "      <td>Sylvain</td>\n",
       "      <td>-</td>\n",
       "      <td>Convergence</td>\n",
       "      <td>OUI</td>\n",
       "      <td>NaN</td>\n",
       "      <td>NaN</td>\n",
       "      <td>NaN</td>\n",
       "      <td>NaN</td>\n",
       "    </tr>\n",
       "    <tr>\n",
       "      <th>121</th>\n",
       "      <td>DRD</td>\n",
       "      <td>GPM</td>\n",
       "      <td>prestataire</td>\n",
       "      <td>JEAN</td>\n",
       "      <td>Léo</td>\n",
       "      <td>AKEL</td>\n",
       "      <td>Convergence</td>\n",
       "      <td>NON</td>\n",
       "      <td>NextDoor 1</td>\n",
       "      <td>NaN</td>\n",
       "      <td>2019-03-01 00:00:00</td>\n",
       "      <td>NaN</td>\n",
       "    </tr>\n",
       "    <tr>\n",
       "      <th>133</th>\n",
       "      <td>DRD</td>\n",
       "      <td>GPM</td>\n",
       "      <td>prestataire</td>\n",
       "      <td>LECUYER</td>\n",
       "      <td>Franck</td>\n",
       "      <td>AKEL</td>\n",
       "      <td>Convergence</td>\n",
       "      <td>OUI</td>\n",
       "      <td>NextDoor 33</td>\n",
       "      <td>NaN</td>\n",
       "      <td>2019-03-01 00:00:00</td>\n",
       "      <td>NaN</td>\n",
       "    </tr>\n",
       "    <tr>\n",
       "      <th>140</th>\n",
       "      <td>DRD</td>\n",
       "      <td>GPM</td>\n",
       "      <td>agent</td>\n",
       "      <td>LONG</td>\n",
       "      <td>François</td>\n",
       "      <td>-</td>\n",
       "      <td>Convergence</td>\n",
       "      <td>OUI</td>\n",
       "      <td>Nextdoor</td>\n",
       "      <td>NaN</td>\n",
       "      <td>NaN</td>\n",
       "      <td>NaN</td>\n",
       "    </tr>\n",
       "    <tr>\n",
       "      <th>152</th>\n",
       "      <td>DRD</td>\n",
       "      <td>INT</td>\n",
       "      <td>prestataire</td>\n",
       "      <td>MARQUES</td>\n",
       "      <td>Pierre</td>\n",
       "      <td>PETITRENAUD</td>\n",
       "      <td>Convergence</td>\n",
       "      <td>OUI</td>\n",
       "      <td>2/041 puis 3/083 puis 2/087</td>\n",
       "      <td>NaN</td>\n",
       "      <td>2018-05-09 00:00:00</td>\n",
       "      <td>Expés - Sera remplacé</td>\n",
       "    </tr>\n",
       "    <tr>\n",
       "      <th>155</th>\n",
       "      <td>DRD</td>\n",
       "      <td>GPM</td>\n",
       "      <td>prestataire</td>\n",
       "      <td>MFOUMOUNE</td>\n",
       "      <td>Edgard Maurice</td>\n",
       "      <td>AKEL</td>\n",
       "      <td>Convergence</td>\n",
       "      <td>OUI</td>\n",
       "      <td>NextDoor 33</td>\n",
       "      <td>NaN</td>\n",
       "      <td>2019-03-01 00:00:00</td>\n",
       "      <td>NaN</td>\n",
       "    </tr>\n",
       "    <tr>\n",
       "      <th>164</th>\n",
       "      <td>DRD</td>\n",
       "      <td>GPM</td>\n",
       "      <td>prestataire</td>\n",
       "      <td>NOIR</td>\n",
       "      <td>Nicolas</td>\n",
       "      <td>AKEL</td>\n",
       "      <td>Convergence</td>\n",
       "      <td>OUI</td>\n",
       "      <td>NextDoor 1</td>\n",
       "      <td>NaN</td>\n",
       "      <td>2019-03-01 00:00:00</td>\n",
       "      <td>NaN</td>\n",
       "    </tr>\n",
       "    <tr>\n",
       "      <th>179</th>\n",
       "      <td>DRD</td>\n",
       "      <td>GPM</td>\n",
       "      <td>agent</td>\n",
       "      <td>PICAULT</td>\n",
       "      <td>Jérôme</td>\n",
       "      <td>-</td>\n",
       "      <td>Convergence</td>\n",
       "      <td>OUI</td>\n",
       "      <td>Nextdoor</td>\n",
       "      <td>NaN</td>\n",
       "      <td>NaN</td>\n",
       "      <td>NaN</td>\n",
       "    </tr>\n",
       "    <tr>\n",
       "      <th>183</th>\n",
       "      <td>DRD</td>\n",
       "      <td>GPM</td>\n",
       "      <td>prestataire</td>\n",
       "      <td>PLOUVIER</td>\n",
       "      <td>Gauthier</td>\n",
       "      <td>AKEL</td>\n",
       "      <td>Convergence</td>\n",
       "      <td>OUI</td>\n",
       "      <td>NextDoor 1</td>\n",
       "      <td>NaN</td>\n",
       "      <td>30/11/2017 (01/03/2019)</td>\n",
       "      <td>MCO2</td>\n",
       "    </tr>\n",
       "    <tr>\n",
       "      <th>210</th>\n",
       "      <td>DRD</td>\n",
       "      <td>EODCT</td>\n",
       "      <td>agent</td>\n",
       "      <td>TERRIER</td>\n",
       "      <td>Viktor</td>\n",
       "      <td>-</td>\n",
       "      <td>Convergence</td>\n",
       "      <td>OUI</td>\n",
       "      <td>Versailles</td>\n",
       "      <td>NaN</td>\n",
       "      <td>NaN</td>\n",
       "      <td>NaN</td>\n",
       "    </tr>\n",
       "    <tr>\n",
       "      <th>211</th>\n",
       "      <td>DRD</td>\n",
       "      <td>GPM</td>\n",
       "      <td>agent</td>\n",
       "      <td>THEBAULT</td>\n",
       "      <td>Cédric</td>\n",
       "      <td>-</td>\n",
       "      <td>Convergence</td>\n",
       "      <td>OUI</td>\n",
       "      <td>Nextdoor</td>\n",
       "      <td>NaN</td>\n",
       "      <td>NaN</td>\n",
       "      <td>NaN</td>\n",
       "    </tr>\n",
       "    <tr>\n",
       "      <th>212</th>\n",
       "      <td>DRD</td>\n",
       "      <td>GPM</td>\n",
       "      <td>agent</td>\n",
       "      <td>THEODORE</td>\n",
       "      <td>Michaël</td>\n",
       "      <td>-</td>\n",
       "      <td>Convergence</td>\n",
       "      <td>OUI</td>\n",
       "      <td>Nextdoor</td>\n",
       "      <td>NaN</td>\n",
       "      <td>NaN</td>\n",
       "      <td>NaN</td>\n",
       "    </tr>\n",
       "    <tr>\n",
       "      <th>248</th>\n",
       "      <td>DRD</td>\n",
       "      <td>GPM</td>\n",
       "      <td>prestataire</td>\n",
       "      <td>X</td>\n",
       "      <td>X</td>\n",
       "      <td>AKEL</td>\n",
       "      <td>Convergence</td>\n",
       "      <td>OUI</td>\n",
       "      <td>NaN</td>\n",
       "      <td>NaN</td>\n",
       "      <td>NaN</td>\n",
       "      <td>Expés - UGAP</td>\n",
       "    </tr>\n",
       "  </tbody>\n",
       "</table>\n",
       "</div>"
      ],
      "text/plain": [
       "    ENTITE   POLE       STATUT             NOM          PRENOM  RESPONSABLE  \\\n",
       "0      DRD    GPM  prestataire      AIT-HADDOU             Ali         AKEL   \n",
       "1      DRD    GPM        agent            AKEL         Youssef            -   \n",
       "2      DRD    GPM  prestataire            AMAR         Slimane         AKEL   \n",
       "12     DRD    GPM  prestataire    BEN TEMESSEK       Seifallah         AKEL   \n",
       "16     DRD    GPM  prestataire        BERTRAND          Jérémy         AKEL   \n",
       "19     DRD    GPM        agent        BISERICA          Monica            -   \n",
       "20     DRD    GPM  prestataire           BITTA         Gilbert         AKEL   \n",
       "24     DRD    GPM  prestataire    BORSENBERGER         Jacques         AKEL   \n",
       "30     DRD    GPM  prestataire        BOUSSAND      Christelle         AKEL   \n",
       "34     DRD    GPM  prestataire           BRIOT        Aurélien         AKEL   \n",
       "35     DRD    GPM  prestataire           BROUT          Adrien         AKEL   \n",
       "38     DRD    GPM  prestataire          BUSSON         Laurent      PICAULT   \n",
       "44     DRD    GPM        agent        CASTANET          Didier            -   \n",
       "46     DRD    GPM        agent     CHIARAMELLO           Marco            -   \n",
       "50     DRD    GPM  prestataire     COMPAGNACCI         Stefano         AKEL   \n",
       "54     DRD    GPM  prestataire  DE LUNA AMEIDA      Alessandro         AKEL   \n",
       "71     DRD    GPM  prestataire           DUPRE         Laurent      PICAULT   \n",
       "76     DRD    GPM  prestataire       EL CHEIKH          Bassel         AKEL   \n",
       "88     DRD    GPM  prestataire         GARNIER         Laurent         AKEL   \n",
       "112   DSIT    NaN        agent      GIUDICELLI         Sylvain            -   \n",
       "121    DRD    GPM  prestataire            JEAN             Léo         AKEL   \n",
       "133    DRD    GPM  prestataire         LECUYER          Franck         AKEL   \n",
       "140    DRD    GPM        agent            LONG        François            -   \n",
       "152    DRD    INT  prestataire         MARQUES          Pierre  PETITRENAUD   \n",
       "155    DRD    GPM  prestataire       MFOUMOUNE  Edgard Maurice         AKEL   \n",
       "164    DRD    GPM  prestataire            NOIR         Nicolas         AKEL   \n",
       "179    DRD    GPM        agent         PICAULT          Jérôme            -   \n",
       "183    DRD    GPM  prestataire        PLOUVIER        Gauthier         AKEL   \n",
       "210    DRD  EODCT        agent         TERRIER          Viktor            -   \n",
       "211    DRD    GPM        agent        THEBAULT          Cédric            -   \n",
       "212    DRD    GPM        agent        THEODORE         Michaël            -   \n",
       "248    DRD    GPM  prestataire               X               X         AKEL   \n",
       "\n",
       "          PROJET WINDOW OCT. 2018                         LIEU  \\\n",
       "0    Convergence              OUI                   NextDoor 1   \n",
       "1    Convergence              OUI                     Nextdoor   \n",
       "2    Convergence              OUI                  NextDoor 33   \n",
       "12   Convergence              OUI                        ND 26   \n",
       "16   Convergence              OUI                  NextDoor 33   \n",
       "19   Convergence              OUI                     Nextdoor   \n",
       "20   Convergence              OUI                   NextDoor 1   \n",
       "24   Convergence              OUI                  NextDoor 33   \n",
       "30   Convergence              OUI                  NextDoor 33   \n",
       "34   Convergence              OUI                          ND1   \n",
       "35   Convergence              OUI                   NextDoor 6   \n",
       "38   Convergence              OUI                   NextDoor 1   \n",
       "44   Convergence              OUI                   Versailles   \n",
       "46   Convergence              OUI                     Nextdoor   \n",
       "50   Convergence              OUI                           ND   \n",
       "54   Convergence              OUI                   NextDoor 1   \n",
       "71   Convergence              OUI                   NextDoor 1   \n",
       "76   Convergence              OUI                  NextDoor 33   \n",
       "88   Convergence              OUI                  NextDoor 33   \n",
       "112  Convergence              OUI                          NaN   \n",
       "121  Convergence              NON                   NextDoor 1   \n",
       "133  Convergence              OUI                  NextDoor 33   \n",
       "140  Convergence              OUI                     Nextdoor   \n",
       "152  Convergence              OUI  2/041 puis 3/083 puis 2/087   \n",
       "155  Convergence              OUI                  NextDoor 33   \n",
       "164  Convergence              OUI                   NextDoor 1   \n",
       "179  Convergence              OUI                     Nextdoor   \n",
       "183  Convergence              OUI                   NextDoor 1   \n",
       "210  Convergence              OUI                   Versailles   \n",
       "211  Convergence              OUI                     Nextdoor   \n",
       "212  Convergence              OUI                     Nextdoor   \n",
       "248  Convergence              OUI                          NaN   \n",
       "\n",
       "                 ARRIVEE                   DEPART              REMARQUES  \n",
       "0                    NaN      2017-10-31 00:00:00                   MCO2  \n",
       "1                    NaN                      NaN                    NaN  \n",
       "2                    NaN      2019-03-01 00:00:00                    NaN  \n",
       "12                   NaN      2019-03-01 00:00:00                    NaN  \n",
       "16                   NaN      2019-03-01 00:00:00                    NaN  \n",
       "19                   NaN                      NaN                    NaN  \n",
       "20                   NaN      2017-10-20 00:00:00                   MCO2  \n",
       "24                   NaN      2019-03-01 00:00:00                    NaN  \n",
       "30                   NaN      2019-03-01 00:00:00                    NaN  \n",
       "34                   NaN      2019-03-01 00:00:00                   MCO2  \n",
       "35                   NaN      2018-05-09 00:00:00                  Expés  \n",
       "38                   NaN      2019-03-01 00:00:00                   MCO2  \n",
       "44                   NaN                      NaN                    NaN  \n",
       "46                   NaN                      NaN                    NaN  \n",
       "50   2017-11-06 00:00:00                      NaN                    NaN  \n",
       "54                   NaN      2019-03-01 00:00:00                    NaN  \n",
       "71                   NaN      2019-03-01 00:00:00                   MCO2  \n",
       "76                   NaN      2019-03-01 00:00:00                    NaN  \n",
       "88                   NaN      2019-03-01 00:00:00                    NaN  \n",
       "112                  NaN                      NaN                    NaN  \n",
       "121                  NaN      2019-03-01 00:00:00                    NaN  \n",
       "133                  NaN      2019-03-01 00:00:00                    NaN  \n",
       "140                  NaN                      NaN                    NaN  \n",
       "152                  NaN      2018-05-09 00:00:00  Expés - Sera remplacé  \n",
       "155                  NaN      2019-03-01 00:00:00                    NaN  \n",
       "164                  NaN      2019-03-01 00:00:00                    NaN  \n",
       "179                  NaN                      NaN                    NaN  \n",
       "183                  NaN  30/11/2017 (01/03/2019)                   MCO2  \n",
       "210                  NaN                      NaN                    NaN  \n",
       "211                  NaN                      NaN                    NaN  \n",
       "212                  NaN                      NaN                    NaN  \n",
       "248                  NaN                      NaN           Expés - UGAP  "
      ]
     },
     "execution_count": 68,
     "metadata": {},
     "output_type": "execute_result"
    }
   ],
   "source": [
    "# Filter the dataframe with a constraint on a column\n",
    "df[df['PROJET']==\"Convergence\"]"
   ]
  },
  {
   "cell_type": "markdown",
   "metadata": {},
   "source": [
    "# Seaborn\n",
    "Seaborn is a Visualization library that goes along with pandas"
   ]
  },
  {
   "cell_type": "code",
   "execution_count": 69,
   "metadata": {
    "collapsed": true
   },
   "outputs": [],
   "source": [
    "import matplotlib.pyplot as plt\n",
    "import seaborn as sns\n",
    "%matplotlib inline"
   ]
  },
  {
   "cell_type": "code",
   "execution_count": 75,
   "metadata": {
    "scrolled": true
   },
   "outputs": [
    {
     "data": {
      "image/png": "[encoded data removed]",
      "text/plain": [
       "<matplotlib.figure.Figure at 0x10b58dcf8>"
      ]
     },
     "metadata": {},
     "output_type": "display_data"
    }
   ],
   "source": [
    "plt.figure(figsize=(12,15))\n",
    "sns.countplot(y='PROJET',data=df);"
   ]
  },
  {
   "cell_type": "code",
   "execution_count": 73,
   "metadata": {},
   "outputs": [
    {
     "data": {
      "image/png": "[encoded data removed]",
      "text/plain": [
       "<matplotlib.figure.Figure at 0x10f2385c0>"
      ]
     },
     "metadata": {},
     "output_type": "display_data"
    }
   ],
   "source": [
    "plt.figure(figsize=(12,5))\n",
    "sns.countplot(x='PROJET',hue='STATUT',data=df[df['PROJET'].isin(['Convergence', 'Apogée','Antares','EOD','imaGrid'])]);"
   ]
  },
  {
   "cell_type": "code",
   "execution_count": null,
   "metadata": {
    "collapsed": true
   },
   "outputs": [],
   "source": []
  }
 ],
 "metadata": {
  "kernelspec": {
   "display_name": "Python 3",
   "language": "python",
   "name": "python3"
  },
  "language_info": {
   "codemirror_mode": {
    "name": "ipython",
    "version": 3
   },
   "file_extension": ".py",
   "mimetype": "text/x-python",
   "name": "python",
   "nbconvert_exporter": "python",
   "pygments_lexer": "ipython3",
   "version": "3.5.1"
  }
 },
 "nbformat": 4,
 "nbformat_minor": 2
}
